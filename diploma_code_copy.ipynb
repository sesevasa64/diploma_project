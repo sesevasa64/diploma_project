{
  "nbformat": 4,
  "nbformat_minor": 0,
  "metadata": {
    "colab": {
      "provenance": [],
      "collapsed_sections": []
    },
    "kernelspec": {
      "name": "python3",
      "display_name": "Python 3"
    },
    "language_info": {
      "name": "python"
    },
    "accelerator": "GPU",
    "widgets": {
      "application/vnd.jupyter.widget-state+json": {
        "53baffec1f04499b9079bb765e6a027f": {
          "model_module": "@jupyter-widgets/controls",
          "model_name": "VBoxModel",
          "model_module_version": "1.5.0",
          "state": {
            "_dom_classes": [
              "widget-interact"
            ],
            "_model_module": "@jupyter-widgets/controls",
            "_model_module_version": "1.5.0",
            "_model_name": "VBoxModel",
            "_view_count": null,
            "_view_module": "@jupyter-widgets/controls",
            "_view_module_version": "1.5.0",
            "_view_name": "VBoxView",
            "box_style": "",
            "children": [
              "IPY_MODEL_559e74e4894e41c6865308a6f943a7f9",
              "IPY_MODEL_9a836853990b47c7a4c53c018165366e"
            ],
            "layout": "IPY_MODEL_dbdc9e53a6624a60a6683c5b80ea1579"
          }
        },
        "559e74e4894e41c6865308a6f943a7f9": {
          "model_module": "@jupyter-widgets/controls",
          "model_name": "DropdownModel",
          "model_module_version": "1.5.0",
          "state": {
            "_dom_classes": [],
            "_model_module": "@jupyter-widgets/controls",
            "_model_module_version": "1.5.0",
            "_model_name": "DropdownModel",
            "_options_labels": [
              "Сигареты",
              "Шоколад, шоколадные наборы",
              "Водка",
              "Экзотика",
              "Вина Игристые",
              "Вино",
              "Продукты - Сопутка",
              "Нон-Фуд (Китай)",
              "Пиво",
              "Коктейли Слабоалкогольные",
              "Коньяки и Бренди",
              "Виски",
              "Нон фуд",
              "Продукты - Мороженое",
              "Продукты - Бакалея",
              "Продукты - Скоропорт",
              "Соки - Воды",
              "Продукты",
              "Бутик",
              "Пиво разливное",
              "Продукты - Фрукты-Овощи",
              "ЭСНТ и никотиносодежащие продукты",
              "Чипсы, сухие закуски",
              "Соки, нектары",
              "Свежий хлеб",
              "Новые"
            ],
            "_view_count": null,
            "_view_module": "@jupyter-widgets/controls",
            "_view_module_version": "1.5.0",
            "_view_name": "DropdownView",
            "description": "category",
            "description_tooltip": null,
            "disabled": false,
            "index": 0,
            "layout": "IPY_MODEL_af918c068d5e496683d614748afd614d",
            "style": "IPY_MODEL_fc451c1e417b4ce59641be801ce766ac"
          }
        },
        "9a836853990b47c7a4c53c018165366e": {
          "model_module": "@jupyter-widgets/output",
          "model_name": "OutputModel",
          "model_module_version": "1.0.0",
          "state": {
            "_dom_classes": [],
            "_model_module": "@jupyter-widgets/output",
            "_model_module_version": "1.0.0",
            "_model_name": "OutputModel",
            "_view_count": null,
            "_view_module": "@jupyter-widgets/output",
            "_view_module_version": "1.0.0",
            "_view_name": "OutputView",
            "layout": "IPY_MODEL_bc6fcb046edd45ee8428343cfd8dadc8",
            "msg_id": "",
            "outputs": [
              {
                "output_type": "display_data",
                "data": {
                  "text/plain": "      product_id                                                  D         C\n0          17542                    Kent HD Neo 4мг/0,3мг МРЦ 130р.  Сигареты\n1          18589                 Winston Silver 4мг/0,3мг МРЦ 125р.  Сигареты\n3          19833      Parker & Simpson DUO Purple 6мг/0,5мг МРЦ 90р  Сигареты\n4          16066             Моrе BY LD RED 30шт 9мг/0,6мг МРЦ 95р.  Сигареты\n6          19849  Philip Morris Сompact Premium яркий 6мг/0,5мг ...  Сигареты\n...          ...                                                ...       ...\n9063     9000573           Сигареты Chapman Nano Nano Green МРЦ ВСЕ  Сигареты\n9070       27013       Сигареты Chesterfield Remix Summer МРЦ 125р.  Сигареты\n9071     9000582         Сигареты Chesterfield Remix Summer МРЦ ВСЕ  Сигареты\n9072       27014        Сигареты Philip Morris Breeze Mix МРЦ 119р.  Сигареты\n9073     9000583          Сигареты Philip Morris Breeze Mix МРЦ ВСЕ  Сигареты\n\n[1640 rows x 3 columns]",
                  "text/html": "\n  <div id=\"df-3121a29c-23b8-48de-a8b5-25a3d381777d\">\n    <div class=\"colab-df-container\">\n      <div>\n<style scoped>\n    .dataframe tbody tr th:only-of-type {\n        vertical-align: middle;\n    }\n\n    .dataframe tbody tr th {\n        vertical-align: top;\n    }\n\n    .dataframe thead th {\n        text-align: right;\n    }\n</style>\n<table border=\"1\" class=\"dataframe\">\n  <thead>\n    <tr style=\"text-align: right;\">\n      <th></th>\n      <th>product_id</th>\n      <th>D</th>\n      <th>C</th>\n    </tr>\n  </thead>\n  <tbody>\n    <tr>\n      <th>0</th>\n      <td>17542</td>\n      <td>Kent HD Neo 4мг/0,3мг МРЦ 130р.</td>\n      <td>Сигареты</td>\n    </tr>\n    <tr>\n      <th>1</th>\n      <td>18589</td>\n      <td>Winston Silver 4мг/0,3мг МРЦ 125р.</td>\n      <td>Сигареты</td>\n    </tr>\n    <tr>\n      <th>3</th>\n      <td>19833</td>\n      <td>Parker &amp; Simpson DUO Purple 6мг/0,5мг МРЦ 90р</td>\n      <td>Сигареты</td>\n    </tr>\n    <tr>\n      <th>4</th>\n      <td>16066</td>\n      <td>Моrе BY LD RED 30шт 9мг/0,6мг МРЦ 95р.</td>\n      <td>Сигареты</td>\n    </tr>\n    <tr>\n      <th>6</th>\n      <td>19849</td>\n      <td>Philip Morris Сompact Premium яркий 6мг/0,5мг ...</td>\n      <td>Сигареты</td>\n    </tr>\n    <tr>\n      <th>...</th>\n      <td>...</td>\n      <td>...</td>\n      <td>...</td>\n    </tr>\n    <tr>\n      <th>9063</th>\n      <td>9000573</td>\n      <td>Сигареты Chapman Nano Nano Green МРЦ ВСЕ</td>\n      <td>Сигареты</td>\n    </tr>\n    <tr>\n      <th>9070</th>\n      <td>27013</td>\n      <td>Сигареты Chesterfield Remix Summer МРЦ 125р.</td>\n      <td>Сигареты</td>\n    </tr>\n    <tr>\n      <th>9071</th>\n      <td>9000582</td>\n      <td>Сигареты Chesterfield Remix Summer МРЦ ВСЕ</td>\n      <td>Сигареты</td>\n    </tr>\n    <tr>\n      <th>9072</th>\n      <td>27014</td>\n      <td>Сигареты Philip Morris Breeze Mix МРЦ 119р.</td>\n      <td>Сигареты</td>\n    </tr>\n    <tr>\n      <th>9073</th>\n      <td>9000583</td>\n      <td>Сигареты Philip Morris Breeze Mix МРЦ ВСЕ</td>\n      <td>Сигареты</td>\n    </tr>\n  </tbody>\n</table>\n<p>1640 rows × 3 columns</p>\n</div>\n      <button class=\"colab-df-convert\" onclick=\"convertToInteractive('df-3121a29c-23b8-48de-a8b5-25a3d381777d')\"\n              title=\"Convert this dataframe to an interactive table.\"\n              style=\"display:none;\">\n        \n  <svg xmlns=\"http://www.w3.org/2000/svg\" height=\"24px\"viewBox=\"0 0 24 24\"\n       width=\"24px\">\n    <path d=\"M0 0h24v24H0V0z\" fill=\"none\"/>\n    <path d=\"M18.56 5.44l.94 2.06.94-2.06 2.06-.94-2.06-.94-.94-2.06-.94 2.06-2.06.94zm-11 1L8.5 8.5l.94-2.06 2.06-.94-2.06-.94L8.5 2.5l-.94 2.06-2.06.94zm10 10l.94 2.06.94-2.06 2.06-.94-2.06-.94-.94-2.06-.94 2.06-2.06.94z\"/><path d=\"M17.41 7.96l-1.37-1.37c-.4-.4-.92-.59-1.43-.59-.52 0-1.04.2-1.43.59L10.3 9.45l-7.72 7.72c-.78.78-.78 2.05 0 2.83L4 21.41c.39.39.9.59 1.41.59.51 0 1.02-.2 1.41-.59l7.78-7.78 2.81-2.81c.8-.78.8-2.07 0-2.86zM5.41 20L4 18.59l7.72-7.72 1.47 1.35L5.41 20z\"/>\n  </svg>\n      </button>\n      \n  <style>\n    .colab-df-container {\n      display:flex;\n      flex-wrap:wrap;\n      gap: 12px;\n    }\n\n    .colab-df-convert {\n      background-color: #E8F0FE;\n      border: none;\n      border-radius: 50%;\n      cursor: pointer;\n      display: none;\n      fill: #1967D2;\n      height: 32px;\n      padding: 0 0 0 0;\n      width: 32px;\n    }\n\n    .colab-df-convert:hover {\n      background-color: #E2EBFA;\n      box-shadow: 0px 1px 2px rgba(60, 64, 67, 0.3), 0px 1px 3px 1px rgba(60, 64, 67, 0.15);\n      fill: #174EA6;\n    }\n\n    [theme=dark] .colab-df-convert {\n      background-color: #3B4455;\n      fill: #D2E3FC;\n    }\n\n    [theme=dark] .colab-df-convert:hover {\n      background-color: #434B5C;\n      box-shadow: 0px 1px 3px 1px rgba(0, 0, 0, 0.15);\n      filter: drop-shadow(0px 1px 2px rgba(0, 0, 0, 0.3));\n      fill: #FFFFFF;\n    }\n  </style>\n\n      <script>\n        const buttonEl =\n          document.querySelector('#df-3121a29c-23b8-48de-a8b5-25a3d381777d button.colab-df-convert');\n        buttonEl.style.display =\n          google.colab.kernel.accessAllowed ? 'block' : 'none';\n\n        async function convertToInteractive(key) {\n          const element = document.querySelector('#df-3121a29c-23b8-48de-a8b5-25a3d381777d');\n          const dataTable =\n            await google.colab.kernel.invokeFunction('convertToInteractive',\n                                                     [key], {});\n          if (!dataTable) return;\n\n          const docLinkHtml = 'Like what you see? Visit the ' +\n            '<a target=\"_blank\" href=https://colab.research.google.com/notebooks/data_table.ipynb>data table notebook</a>'\n            + ' to learn more about interactive tables.';\n          element.innerHTML = '';\n          dataTable['output_type'] = 'display_data';\n          await google.colab.output.renderOutput(dataTable, element);\n          const docLink = document.createElement('div');\n          docLink.innerHTML = docLinkHtml;\n          element.appendChild(docLink);\n        }\n      </script>\n    </div>\n  </div>\n  "
                },
                "metadata": {}
              }
            ]
          }
        },
        "dbdc9e53a6624a60a6683c5b80ea1579": {
          "model_module": "@jupyter-widgets/base",
          "model_name": "LayoutModel",
          "model_module_version": "1.2.0",
          "state": {
            "_model_module": "@jupyter-widgets/base",
            "_model_module_version": "1.2.0",
            "_model_name": "LayoutModel",
            "_view_count": null,
            "_view_module": "@jupyter-widgets/base",
            "_view_module_version": "1.2.0",
            "_view_name": "LayoutView",
            "align_content": null,
            "align_items": null,
            "align_self": null,
            "border": null,
            "bottom": null,
            "display": null,
            "flex": null,
            "flex_flow": null,
            "grid_area": null,
            "grid_auto_columns": null,
            "grid_auto_flow": null,
            "grid_auto_rows": null,
            "grid_column": null,
            "grid_gap": null,
            "grid_row": null,
            "grid_template_areas": null,
            "grid_template_columns": null,
            "grid_template_rows": null,
            "height": null,
            "justify_content": null,
            "justify_items": null,
            "left": null,
            "margin": null,
            "max_height": null,
            "max_width": null,
            "min_height": null,
            "min_width": null,
            "object_fit": null,
            "object_position": null,
            "order": null,
            "overflow": null,
            "overflow_x": null,
            "overflow_y": null,
            "padding": null,
            "right": null,
            "top": null,
            "visibility": null,
            "width": null
          }
        },
        "af918c068d5e496683d614748afd614d": {
          "model_module": "@jupyter-widgets/base",
          "model_name": "LayoutModel",
          "model_module_version": "1.2.0",
          "state": {
            "_model_module": "@jupyter-widgets/base",
            "_model_module_version": "1.2.0",
            "_model_name": "LayoutModel",
            "_view_count": null,
            "_view_module": "@jupyter-widgets/base",
            "_view_module_version": "1.2.0",
            "_view_name": "LayoutView",
            "align_content": null,
            "align_items": null,
            "align_self": null,
            "border": null,
            "bottom": null,
            "display": null,
            "flex": null,
            "flex_flow": null,
            "grid_area": null,
            "grid_auto_columns": null,
            "grid_auto_flow": null,
            "grid_auto_rows": null,
            "grid_column": null,
            "grid_gap": null,
            "grid_row": null,
            "grid_template_areas": null,
            "grid_template_columns": null,
            "grid_template_rows": null,
            "height": null,
            "justify_content": null,
            "justify_items": null,
            "left": null,
            "margin": null,
            "max_height": null,
            "max_width": null,
            "min_height": null,
            "min_width": null,
            "object_fit": null,
            "object_position": null,
            "order": null,
            "overflow": null,
            "overflow_x": null,
            "overflow_y": null,
            "padding": null,
            "right": null,
            "top": null,
            "visibility": null,
            "width": null
          }
        },
        "fc451c1e417b4ce59641be801ce766ac": {
          "model_module": "@jupyter-widgets/controls",
          "model_name": "DescriptionStyleModel",
          "model_module_version": "1.5.0",
          "state": {
            "_model_module": "@jupyter-widgets/controls",
            "_model_module_version": "1.5.0",
            "_model_name": "DescriptionStyleModel",
            "_view_count": null,
            "_view_module": "@jupyter-widgets/base",
            "_view_module_version": "1.2.0",
            "_view_name": "StyleView",
            "description_width": ""
          }
        },
        "bc6fcb046edd45ee8428343cfd8dadc8": {
          "model_module": "@jupyter-widgets/base",
          "model_name": "LayoutModel",
          "model_module_version": "1.2.0",
          "state": {
            "_model_module": "@jupyter-widgets/base",
            "_model_module_version": "1.2.0",
            "_model_name": "LayoutModel",
            "_view_count": null,
            "_view_module": "@jupyter-widgets/base",
            "_view_module_version": "1.2.0",
            "_view_name": "LayoutView",
            "align_content": null,
            "align_items": null,
            "align_self": null,
            "border": null,
            "bottom": null,
            "display": null,
            "flex": null,
            "flex_flow": null,
            "grid_area": null,
            "grid_auto_columns": null,
            "grid_auto_flow": null,
            "grid_auto_rows": null,
            "grid_column": null,
            "grid_gap": null,
            "grid_row": null,
            "grid_template_areas": null,
            "grid_template_columns": null,
            "grid_template_rows": null,
            "height": null,
            "justify_content": null,
            "justify_items": null,
            "left": null,
            "margin": null,
            "max_height": null,
            "max_width": null,
            "min_height": null,
            "min_width": null,
            "object_fit": null,
            "object_position": null,
            "order": null,
            "overflow": null,
            "overflow_x": null,
            "overflow_y": null,
            "padding": null,
            "right": null,
            "top": null,
            "visibility": null,
            "width": null
          }
        },
        "3e26de66add040348917adbeabbe8f71": {
          "model_module": "@jupyter-widgets/controls",
          "model_name": "VBoxModel",
          "model_module_version": "1.5.0",
          "state": {
            "_dom_classes": [
              "widget-interact"
            ],
            "_model_module": "@jupyter-widgets/controls",
            "_model_module_version": "1.5.0",
            "_model_name": "VBoxModel",
            "_view_count": null,
            "_view_module": "@jupyter-widgets/controls",
            "_view_module_version": "1.5.0",
            "_view_name": "VBoxView",
            "box_style": "",
            "children": [
              "IPY_MODEL_9f5ad87bc50e4840a16002429755d131",
              "IPY_MODEL_9724d54686554d94b9957b5da0087e64"
            ],
            "layout": "IPY_MODEL_bd16ab7fd34d46ccb48751ecb3417e47"
          }
        },
        "9f5ad87bc50e4840a16002429755d131": {
          "model_module": "@jupyter-widgets/controls",
          "model_name": "DropdownModel",
          "model_module_version": "1.5.0",
          "state": {
            "_dom_classes": [],
            "_model_module": "@jupyter-widgets/controls",
            "_model_module_version": "1.5.0",
            "_model_name": "DropdownModel",
            "_options_labels": [
              "a",
              "df"
            ],
            "_view_count": null,
            "_view_module": "@jupyter-widgets/controls",
            "_view_module_version": "1.5.0",
            "_view_name": "DropdownView",
            "description": "_df",
            "description_tooltip": null,
            "disabled": false,
            "index": 0,
            "layout": "IPY_MODEL_9beef804d1ff47e1af5732b37b88e7cf",
            "style": "IPY_MODEL_d2e8fa6b5872446d96201b5cedb615ab"
          }
        },
        "9724d54686554d94b9957b5da0087e64": {
          "model_module": "@jupyter-widgets/output",
          "model_name": "OutputModel",
          "model_module_version": "1.0.0",
          "state": {
            "_dom_classes": [],
            "_model_module": "@jupyter-widgets/output",
            "_model_module_version": "1.0.0",
            "_model_name": "OutputModel",
            "_view_count": null,
            "_view_module": "@jupyter-widgets/output",
            "_view_module_version": "1.0.0",
            "_view_name": "OutputView",
            "layout": "IPY_MODEL_5b25820ecde34cc88baf2269faa18fac",
            "msg_id": "",
            "outputs": [
              {
                "output_type": "display_data",
                "data": {
                  "text/plain": "<Figure size 432x288 with 1 Axes>",
                  "image/png": "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\n"
                },
                "metadata": {
                  "needs_background": "light"
                }
              }
            ]
          }
        },
        "bd16ab7fd34d46ccb48751ecb3417e47": {
          "model_module": "@jupyter-widgets/base",
          "model_name": "LayoutModel",
          "model_module_version": "1.2.0",
          "state": {
            "_model_module": "@jupyter-widgets/base",
            "_model_module_version": "1.2.0",
            "_model_name": "LayoutModel",
            "_view_count": null,
            "_view_module": "@jupyter-widgets/base",
            "_view_module_version": "1.2.0",
            "_view_name": "LayoutView",
            "align_content": null,
            "align_items": null,
            "align_self": null,
            "border": null,
            "bottom": null,
            "display": null,
            "flex": null,
            "flex_flow": null,
            "grid_area": null,
            "grid_auto_columns": null,
            "grid_auto_flow": null,
            "grid_auto_rows": null,
            "grid_column": null,
            "grid_gap": null,
            "grid_row": null,
            "grid_template_areas": null,
            "grid_template_columns": null,
            "grid_template_rows": null,
            "height": null,
            "justify_content": null,
            "justify_items": null,
            "left": null,
            "margin": null,
            "max_height": null,
            "max_width": null,
            "min_height": null,
            "min_width": null,
            "object_fit": null,
            "object_position": null,
            "order": null,
            "overflow": null,
            "overflow_x": null,
            "overflow_y": null,
            "padding": null,
            "right": null,
            "top": null,
            "visibility": null,
            "width": null
          }
        },
        "9beef804d1ff47e1af5732b37b88e7cf": {
          "model_module": "@jupyter-widgets/base",
          "model_name": "LayoutModel",
          "model_module_version": "1.2.0",
          "state": {
            "_model_module": "@jupyter-widgets/base",
            "_model_module_version": "1.2.0",
            "_model_name": "LayoutModel",
            "_view_count": null,
            "_view_module": "@jupyter-widgets/base",
            "_view_module_version": "1.2.0",
            "_view_name": "LayoutView",
            "align_content": null,
            "align_items": null,
            "align_self": null,
            "border": null,
            "bottom": null,
            "display": null,
            "flex": null,
            "flex_flow": null,
            "grid_area": null,
            "grid_auto_columns": null,
            "grid_auto_flow": null,
            "grid_auto_rows": null,
            "grid_column": null,
            "grid_gap": null,
            "grid_row": null,
            "grid_template_areas": null,
            "grid_template_columns": null,
            "grid_template_rows": null,
            "height": null,
            "justify_content": null,
            "justify_items": null,
            "left": null,
            "margin": null,
            "max_height": null,
            "max_width": null,
            "min_height": null,
            "min_width": null,
            "object_fit": null,
            "object_position": null,
            "order": null,
            "overflow": null,
            "overflow_x": null,
            "overflow_y": null,
            "padding": null,
            "right": null,
            "top": null,
            "visibility": null,
            "width": null
          }
        },
        "d2e8fa6b5872446d96201b5cedb615ab": {
          "model_module": "@jupyter-widgets/controls",
          "model_name": "DescriptionStyleModel",
          "model_module_version": "1.5.0",
          "state": {
            "_model_module": "@jupyter-widgets/controls",
            "_model_module_version": "1.5.0",
            "_model_name": "DescriptionStyleModel",
            "_view_count": null,
            "_view_module": "@jupyter-widgets/base",
            "_view_module_version": "1.2.0",
            "_view_name": "StyleView",
            "description_width": ""
          }
        },
        "5b25820ecde34cc88baf2269faa18fac": {
          "model_module": "@jupyter-widgets/base",
          "model_name": "LayoutModel",
          "model_module_version": "1.2.0",
          "state": {
            "_model_module": "@jupyter-widgets/base",
            "_model_module_version": "1.2.0",
            "_model_name": "LayoutModel",
            "_view_count": null,
            "_view_module": "@jupyter-widgets/base",
            "_view_module_version": "1.2.0",
            "_view_name": "LayoutView",
            "align_content": null,
            "align_items": null,
            "align_self": null,
            "border": null,
            "bottom": null,
            "display": null,
            "flex": null,
            "flex_flow": null,
            "grid_area": null,
            "grid_auto_columns": null,
            "grid_auto_flow": null,
            "grid_auto_rows": null,
            "grid_column": null,
            "grid_gap": null,
            "grid_row": null,
            "grid_template_areas": null,
            "grid_template_columns": null,
            "grid_template_rows": null,
            "height": null,
            "justify_content": null,
            "justify_items": null,
            "left": null,
            "margin": null,
            "max_height": null,
            "max_width": null,
            "min_height": null,
            "min_width": null,
            "object_fit": null,
            "object_position": null,
            "order": null,
            "overflow": null,
            "overflow_x": null,
            "overflow_y": null,
            "padding": null,
            "right": null,
            "top": null,
            "visibility": null,
            "width": null
          }
        },
        "61bb6ceb2dac46159fa55a319a686c2c": {
          "model_module": "@jupyter-widgets/controls",
          "model_name": "HBoxModel",
          "model_module_version": "1.5.0",
          "state": {
            "_dom_classes": [],
            "_model_module": "@jupyter-widgets/controls",
            "_model_module_version": "1.5.0",
            "_model_name": "HBoxModel",
            "_view_count": null,
            "_view_module": "@jupyter-widgets/controls",
            "_view_module_version": "1.5.0",
            "_view_name": "HBoxView",
            "box_style": "",
            "children": [
              "IPY_MODEL_b3a6a7fafc234bfdbd52b267151d0e53",
              "IPY_MODEL_69ba932075e74a0baae5bd09017c122f",
              "IPY_MODEL_912851dcd219459e9e4229358c9fd49e"
            ],
            "layout": "IPY_MODEL_83a7daa29c0a4bc48ee9d3d862b294a0"
          }
        },
        "b3a6a7fafc234bfdbd52b267151d0e53": {
          "model_module": "@jupyter-widgets/controls",
          "model_name": "HTMLModel",
          "model_module_version": "1.5.0",
          "state": {
            "_dom_classes": [],
            "_model_module": "@jupyter-widgets/controls",
            "_model_module_version": "1.5.0",
            "_model_name": "HTMLModel",
            "_view_count": null,
            "_view_module": "@jupyter-widgets/controls",
            "_view_module_version": "1.5.0",
            "_view_name": "HTMLView",
            "description": "",
            "description_tooltip": null,
            "layout": "IPY_MODEL_45ed7635c1a84d1fb2c370768e1b9214",
            "placeholder": "​",
            "style": "IPY_MODEL_f4cabb4acc344ce394f892ba66f8acde",
            "value": "Downloading tokenizer_config.json: 100%"
          }
        },
        "69ba932075e74a0baae5bd09017c122f": {
          "model_module": "@jupyter-widgets/controls",
          "model_name": "FloatProgressModel",
          "model_module_version": "1.5.0",
          "state": {
            "_dom_classes": [],
            "_model_module": "@jupyter-widgets/controls",
            "_model_module_version": "1.5.0",
            "_model_name": "FloatProgressModel",
            "_view_count": null,
            "_view_module": "@jupyter-widgets/controls",
            "_view_module_version": "1.5.0",
            "_view_name": "ProgressView",
            "bar_style": "success",
            "description": "",
            "description_tooltip": null,
            "layout": "IPY_MODEL_2cae3f0c724249d6a868d9807759f692",
            "max": 341,
            "min": 0,
            "orientation": "horizontal",
            "style": "IPY_MODEL_79fbf188ef834226be328af07c72a904",
            "value": 341
          }
        },
        "912851dcd219459e9e4229358c9fd49e": {
          "model_module": "@jupyter-widgets/controls",
          "model_name": "HTMLModel",
          "model_module_version": "1.5.0",
          "state": {
            "_dom_classes": [],
            "_model_module": "@jupyter-widgets/controls",
            "_model_module_version": "1.5.0",
            "_model_name": "HTMLModel",
            "_view_count": null,
            "_view_module": "@jupyter-widgets/controls",
            "_view_module_version": "1.5.0",
            "_view_name": "HTMLView",
            "description": "",
            "description_tooltip": null,
            "layout": "IPY_MODEL_09899e2c62ce4b36bedb53a4f9aa4c5b",
            "placeholder": "​",
            "style": "IPY_MODEL_91cf744990504ae09ac7d43e4f93a738",
            "value": " 341/341 [00:00&lt;00:00, 3.96kB/s]"
          }
        },
        "83a7daa29c0a4bc48ee9d3d862b294a0": {
          "model_module": "@jupyter-widgets/base",
          "model_name": "LayoutModel",
          "model_module_version": "1.2.0",
          "state": {
            "_model_module": "@jupyter-widgets/base",
            "_model_module_version": "1.2.0",
            "_model_name": "LayoutModel",
            "_view_count": null,
            "_view_module": "@jupyter-widgets/base",
            "_view_module_version": "1.2.0",
            "_view_name": "LayoutView",
            "align_content": null,
            "align_items": null,
            "align_self": null,
            "border": null,
            "bottom": null,
            "display": null,
            "flex": null,
            "flex_flow": null,
            "grid_area": null,
            "grid_auto_columns": null,
            "grid_auto_flow": null,
            "grid_auto_rows": null,
            "grid_column": null,
            "grid_gap": null,
            "grid_row": null,
            "grid_template_areas": null,
            "grid_template_columns": null,
            "grid_template_rows": null,
            "height": null,
            "justify_content": null,
            "justify_items": null,
            "left": null,
            "margin": null,
            "max_height": null,
            "max_width": null,
            "min_height": null,
            "min_width": null,
            "object_fit": null,
            "object_position": null,
            "order": null,
            "overflow": null,
            "overflow_x": null,
            "overflow_y": null,
            "padding": null,
            "right": null,
            "top": null,
            "visibility": null,
            "width": null
          }
        },
        "45ed7635c1a84d1fb2c370768e1b9214": {
          "model_module": "@jupyter-widgets/base",
          "model_name": "LayoutModel",
          "model_module_version": "1.2.0",
          "state": {
            "_model_module": "@jupyter-widgets/base",
            "_model_module_version": "1.2.0",
            "_model_name": "LayoutModel",
            "_view_count": null,
            "_view_module": "@jupyter-widgets/base",
            "_view_module_version": "1.2.0",
            "_view_name": "LayoutView",
            "align_content": null,
            "align_items": null,
            "align_self": null,
            "border": null,
            "bottom": null,
            "display": null,
            "flex": null,
            "flex_flow": null,
            "grid_area": null,
            "grid_auto_columns": null,
            "grid_auto_flow": null,
            "grid_auto_rows": null,
            "grid_column": null,
            "grid_gap": null,
            "grid_row": null,
            "grid_template_areas": null,
            "grid_template_columns": null,
            "grid_template_rows": null,
            "height": null,
            "justify_content": null,
            "justify_items": null,
            "left": null,
            "margin": null,
            "max_height": null,
            "max_width": null,
            "min_height": null,
            "min_width": null,
            "object_fit": null,
            "object_position": null,
            "order": null,
            "overflow": null,
            "overflow_x": null,
            "overflow_y": null,
            "padding": null,
            "right": null,
            "top": null,
            "visibility": null,
            "width": null
          }
        },
        "f4cabb4acc344ce394f892ba66f8acde": {
          "model_module": "@jupyter-widgets/controls",
          "model_name": "DescriptionStyleModel",
          "model_module_version": "1.5.0",
          "state": {
            "_model_module": "@jupyter-widgets/controls",
            "_model_module_version": "1.5.0",
            "_model_name": "DescriptionStyleModel",
            "_view_count": null,
            "_view_module": "@jupyter-widgets/base",
            "_view_module_version": "1.2.0",
            "_view_name": "StyleView",
            "description_width": ""
          }
        },
        "2cae3f0c724249d6a868d9807759f692": {
          "model_module": "@jupyter-widgets/base",
          "model_name": "LayoutModel",
          "model_module_version": "1.2.0",
          "state": {
            "_model_module": "@jupyter-widgets/base",
            "_model_module_version": "1.2.0",
            "_model_name": "LayoutModel",
            "_view_count": null,
            "_view_module": "@jupyter-widgets/base",
            "_view_module_version": "1.2.0",
            "_view_name": "LayoutView",
            "align_content": null,
            "align_items": null,
            "align_self": null,
            "border": null,
            "bottom": null,
            "display": null,
            "flex": null,
            "flex_flow": null,
            "grid_area": null,
            "grid_auto_columns": null,
            "grid_auto_flow": null,
            "grid_auto_rows": null,
            "grid_column": null,
            "grid_gap": null,
            "grid_row": null,
            "grid_template_areas": null,
            "grid_template_columns": null,
            "grid_template_rows": null,
            "height": null,
            "justify_content": null,
            "justify_items": null,
            "left": null,
            "margin": null,
            "max_height": null,
            "max_width": null,
            "min_height": null,
            "min_width": null,
            "object_fit": null,
            "object_position": null,
            "order": null,
            "overflow": null,
            "overflow_x": null,
            "overflow_y": null,
            "padding": null,
            "right": null,
            "top": null,
            "visibility": null,
            "width": null
          }
        },
        "79fbf188ef834226be328af07c72a904": {
          "model_module": "@jupyter-widgets/controls",
          "model_name": "ProgressStyleModel",
          "model_module_version": "1.5.0",
          "state": {
            "_model_module": "@jupyter-widgets/controls",
            "_model_module_version": "1.5.0",
            "_model_name": "ProgressStyleModel",
            "_view_count": null,
            "_view_module": "@jupyter-widgets/base",
            "_view_module_version": "1.2.0",
            "_view_name": "StyleView",
            "bar_color": null,
            "description_width": ""
          }
        },
        "09899e2c62ce4b36bedb53a4f9aa4c5b": {
          "model_module": "@jupyter-widgets/base",
          "model_name": "LayoutModel",
          "model_module_version": "1.2.0",
          "state": {
            "_model_module": "@jupyter-widgets/base",
            "_model_module_version": "1.2.0",
            "_model_name": "LayoutModel",
            "_view_count": null,
            "_view_module": "@jupyter-widgets/base",
            "_view_module_version": "1.2.0",
            "_view_name": "LayoutView",
            "align_content": null,
            "align_items": null,
            "align_self": null,
            "border": null,
            "bottom": null,
            "display": null,
            "flex": null,
            "flex_flow": null,
            "grid_area": null,
            "grid_auto_columns": null,
            "grid_auto_flow": null,
            "grid_auto_rows": null,
            "grid_column": null,
            "grid_gap": null,
            "grid_row": null,
            "grid_template_areas": null,
            "grid_template_columns": null,
            "grid_template_rows": null,
            "height": null,
            "justify_content": null,
            "justify_items": null,
            "left": null,
            "margin": null,
            "max_height": null,
            "max_width": null,
            "min_height": null,
            "min_width": null,
            "object_fit": null,
            "object_position": null,
            "order": null,
            "overflow": null,
            "overflow_x": null,
            "overflow_y": null,
            "padding": null,
            "right": null,
            "top": null,
            "visibility": null,
            "width": null
          }
        },
        "91cf744990504ae09ac7d43e4f93a738": {
          "model_module": "@jupyter-widgets/controls",
          "model_name": "DescriptionStyleModel",
          "model_module_version": "1.5.0",
          "state": {
            "_model_module": "@jupyter-widgets/controls",
            "_model_module_version": "1.5.0",
            "_model_name": "DescriptionStyleModel",
            "_view_count": null,
            "_view_module": "@jupyter-widgets/base",
            "_view_module_version": "1.2.0",
            "_view_name": "StyleView",
            "description_width": ""
          }
        },
        "73a0996e67684e7bbeda2e1aa41149fb": {
          "model_module": "@jupyter-widgets/controls",
          "model_name": "HBoxModel",
          "model_module_version": "1.5.0",
          "state": {
            "_dom_classes": [],
            "_model_module": "@jupyter-widgets/controls",
            "_model_module_version": "1.5.0",
            "_model_name": "HBoxModel",
            "_view_count": null,
            "_view_module": "@jupyter-widgets/controls",
            "_view_module_version": "1.5.0",
            "_view_name": "HBoxView",
            "box_style": "",
            "children": [
              "IPY_MODEL_c647d01f90d649d183a23b477b6c6864",
              "IPY_MODEL_f1fc36dfac304064896938d9509c56f8",
              "IPY_MODEL_1cb3b861b0a049eaa4a8b5e0dac8d5fc"
            ],
            "layout": "IPY_MODEL_0598d86ea658486b88c88166a004dd03"
          }
        },
        "c647d01f90d649d183a23b477b6c6864": {
          "model_module": "@jupyter-widgets/controls",
          "model_name": "HTMLModel",
          "model_module_version": "1.5.0",
          "state": {
            "_dom_classes": [],
            "_model_module": "@jupyter-widgets/controls",
            "_model_module_version": "1.5.0",
            "_model_name": "HTMLModel",
            "_view_count": null,
            "_view_module": "@jupyter-widgets/controls",
            "_view_module_version": "1.5.0",
            "_view_name": "HTMLView",
            "description": "",
            "description_tooltip": null,
            "layout": "IPY_MODEL_34364707325a47d7971fa13115cf3005",
            "placeholder": "​",
            "style": "IPY_MODEL_506eac012f854036ace1ffe4e061c183",
            "value": "Downloading config.json: 100%"
          }
        },
        "f1fc36dfac304064896938d9509c56f8": {
          "model_module": "@jupyter-widgets/controls",
          "model_name": "FloatProgressModel",
          "model_module_version": "1.5.0",
          "state": {
            "_dom_classes": [],
            "_model_module": "@jupyter-widgets/controls",
            "_model_module_version": "1.5.0",
            "_model_name": "FloatProgressModel",
            "_view_count": null,
            "_view_module": "@jupyter-widgets/controls",
            "_view_module_version": "1.5.0",
            "_view_name": "ProgressView",
            "bar_style": "success",
            "description": "",
            "description_tooltip": null,
            "layout": "IPY_MODEL_795f4634c6804fe5a598be771a5b35a8",
            "max": 632,
            "min": 0,
            "orientation": "horizontal",
            "style": "IPY_MODEL_9ed26c74e32f4b10be83da2efa5588b1",
            "value": 632
          }
        },
        "1cb3b861b0a049eaa4a8b5e0dac8d5fc": {
          "model_module": "@jupyter-widgets/controls",
          "model_name": "HTMLModel",
          "model_module_version": "1.5.0",
          "state": {
            "_dom_classes": [],
            "_model_module": "@jupyter-widgets/controls",
            "_model_module_version": "1.5.0",
            "_model_name": "HTMLModel",
            "_view_count": null,
            "_view_module": "@jupyter-widgets/controls",
            "_view_module_version": "1.5.0",
            "_view_name": "HTMLView",
            "description": "",
            "description_tooltip": null,
            "layout": "IPY_MODEL_dc4f4a411ffa4e6d83d9b968ff2a8bd4",
            "placeholder": "​",
            "style": "IPY_MODEL_81aae33e56094da181d7823c2553732d",
            "value": " 632/632 [00:00&lt;00:00, 6.04kB/s]"
          }
        },
        "0598d86ea658486b88c88166a004dd03": {
          "model_module": "@jupyter-widgets/base",
          "model_name": "LayoutModel",
          "model_module_version": "1.2.0",
          "state": {
            "_model_module": "@jupyter-widgets/base",
            "_model_module_version": "1.2.0",
            "_model_name": "LayoutModel",
            "_view_count": null,
            "_view_module": "@jupyter-widgets/base",
            "_view_module_version": "1.2.0",
            "_view_name": "LayoutView",
            "align_content": null,
            "align_items": null,
            "align_self": null,
            "border": null,
            "bottom": null,
            "display": null,
            "flex": null,
            "flex_flow": null,
            "grid_area": null,
            "grid_auto_columns": null,
            "grid_auto_flow": null,
            "grid_auto_rows": null,
            "grid_column": null,
            "grid_gap": null,
            "grid_row": null,
            "grid_template_areas": null,
            "grid_template_columns": null,
            "grid_template_rows": null,
            "height": null,
            "justify_content": null,
            "justify_items": null,
            "left": null,
            "margin": null,
            "max_height": null,
            "max_width": null,
            "min_height": null,
            "min_width": null,
            "object_fit": null,
            "object_position": null,
            "order": null,
            "overflow": null,
            "overflow_x": null,
            "overflow_y": null,
            "padding": null,
            "right": null,
            "top": null,
            "visibility": null,
            "width": null
          }
        },
        "34364707325a47d7971fa13115cf3005": {
          "model_module": "@jupyter-widgets/base",
          "model_name": "LayoutModel",
          "model_module_version": "1.2.0",
          "state": {
            "_model_module": "@jupyter-widgets/base",
            "_model_module_version": "1.2.0",
            "_model_name": "LayoutModel",
            "_view_count": null,
            "_view_module": "@jupyter-widgets/base",
            "_view_module_version": "1.2.0",
            "_view_name": "LayoutView",
            "align_content": null,
            "align_items": null,
            "align_self": null,
            "border": null,
            "bottom": null,
            "display": null,
            "flex": null,
            "flex_flow": null,
            "grid_area": null,
            "grid_auto_columns": null,
            "grid_auto_flow": null,
            "grid_auto_rows": null,
            "grid_column": null,
            "grid_gap": null,
            "grid_row": null,
            "grid_template_areas": null,
            "grid_template_columns": null,
            "grid_template_rows": null,
            "height": null,
            "justify_content": null,
            "justify_items": null,
            "left": null,
            "margin": null,
            "max_height": null,
            "max_width": null,
            "min_height": null,
            "min_width": null,
            "object_fit": null,
            "object_position": null,
            "order": null,
            "overflow": null,
            "overflow_x": null,
            "overflow_y": null,
            "padding": null,
            "right": null,
            "top": null,
            "visibility": null,
            "width": null
          }
        },
        "506eac012f854036ace1ffe4e061c183": {
          "model_module": "@jupyter-widgets/controls",
          "model_name": "DescriptionStyleModel",
          "model_module_version": "1.5.0",
          "state": {
            "_model_module": "@jupyter-widgets/controls",
            "_model_module_version": "1.5.0",
            "_model_name": "DescriptionStyleModel",
            "_view_count": null,
            "_view_module": "@jupyter-widgets/base",
            "_view_module_version": "1.2.0",
            "_view_name": "StyleView",
            "description_width": ""
          }
        },
        "795f4634c6804fe5a598be771a5b35a8": {
          "model_module": "@jupyter-widgets/base",
          "model_name": "LayoutModel",
          "model_module_version": "1.2.0",
          "state": {
            "_model_module": "@jupyter-widgets/base",
            "_model_module_version": "1.2.0",
            "_model_name": "LayoutModel",
            "_view_count": null,
            "_view_module": "@jupyter-widgets/base",
            "_view_module_version": "1.2.0",
            "_view_name": "LayoutView",
            "align_content": null,
            "align_items": null,
            "align_self": null,
            "border": null,
            "bottom": null,
            "display": null,
            "flex": null,
            "flex_flow": null,
            "grid_area": null,
            "grid_auto_columns": null,
            "grid_auto_flow": null,
            "grid_auto_rows": null,
            "grid_column": null,
            "grid_gap": null,
            "grid_row": null,
            "grid_template_areas": null,
            "grid_template_columns": null,
            "grid_template_rows": null,
            "height": null,
            "justify_content": null,
            "justify_items": null,
            "left": null,
            "margin": null,
            "max_height": null,
            "max_width": null,
            "min_height": null,
            "min_width": null,
            "object_fit": null,
            "object_position": null,
            "order": null,
            "overflow": null,
            "overflow_x": null,
            "overflow_y": null,
            "padding": null,
            "right": null,
            "top": null,
            "visibility": null,
            "width": null
          }
        },
        "9ed26c74e32f4b10be83da2efa5588b1": {
          "model_module": "@jupyter-widgets/controls",
          "model_name": "ProgressStyleModel",
          "model_module_version": "1.5.0",
          "state": {
            "_model_module": "@jupyter-widgets/controls",
            "_model_module_version": "1.5.0",
            "_model_name": "ProgressStyleModel",
            "_view_count": null,
            "_view_module": "@jupyter-widgets/base",
            "_view_module_version": "1.2.0",
            "_view_name": "StyleView",
            "bar_color": null,
            "description_width": ""
          }
        },
        "dc4f4a411ffa4e6d83d9b968ff2a8bd4": {
          "model_module": "@jupyter-widgets/base",
          "model_name": "LayoutModel",
          "model_module_version": "1.2.0",
          "state": {
            "_model_module": "@jupyter-widgets/base",
            "_model_module_version": "1.2.0",
            "_model_name": "LayoutModel",
            "_view_count": null,
            "_view_module": "@jupyter-widgets/base",
            "_view_module_version": "1.2.0",
            "_view_name": "LayoutView",
            "align_content": null,
            "align_items": null,
            "align_self": null,
            "border": null,
            "bottom": null,
            "display": null,
            "flex": null,
            "flex_flow": null,
            "grid_area": null,
            "grid_auto_columns": null,
            "grid_auto_flow": null,
            "grid_auto_rows": null,
            "grid_column": null,
            "grid_gap": null,
            "grid_row": null,
            "grid_template_areas": null,
            "grid_template_columns": null,
            "grid_template_rows": null,
            "height": null,
            "justify_content": null,
            "justify_items": null,
            "left": null,
            "margin": null,
            "max_height": null,
            "max_width": null,
            "min_height": null,
            "min_width": null,
            "object_fit": null,
            "object_position": null,
            "order": null,
            "overflow": null,
            "overflow_x": null,
            "overflow_y": null,
            "padding": null,
            "right": null,
            "top": null,
            "visibility": null,
            "width": null
          }
        },
        "81aae33e56094da181d7823c2553732d": {
          "model_module": "@jupyter-widgets/controls",
          "model_name": "DescriptionStyleModel",
          "model_module_version": "1.5.0",
          "state": {
            "_model_module": "@jupyter-widgets/controls",
            "_model_module_version": "1.5.0",
            "_model_name": "DescriptionStyleModel",
            "_view_count": null,
            "_view_module": "@jupyter-widgets/base",
            "_view_module_version": "1.2.0",
            "_view_name": "StyleView",
            "description_width": ""
          }
        },
        "4f3a329eb0ce4cb4afc600e6ba69397f": {
          "model_module": "@jupyter-widgets/controls",
          "model_name": "HBoxModel",
          "model_module_version": "1.5.0",
          "state": {
            "_dom_classes": [],
            "_model_module": "@jupyter-widgets/controls",
            "_model_module_version": "1.5.0",
            "_model_name": "HBoxModel",
            "_view_count": null,
            "_view_module": "@jupyter-widgets/controls",
            "_view_module_version": "1.5.0",
            "_view_name": "HBoxView",
            "box_style": "",
            "children": [
              "IPY_MODEL_c1b2e2f738214007b37f986895ce2283",
              "IPY_MODEL_ee9adb4988e54ed2b1229a5a81ea4113",
              "IPY_MODEL_0b040630c2094691baaf531fba050c61"
            ],
            "layout": "IPY_MODEL_c5025da5d217491b8cbc0db7a32dc735"
          }
        },
        "c1b2e2f738214007b37f986895ce2283": {
          "model_module": "@jupyter-widgets/controls",
          "model_name": "HTMLModel",
          "model_module_version": "1.5.0",
          "state": {
            "_dom_classes": [],
            "_model_module": "@jupyter-widgets/controls",
            "_model_module_version": "1.5.0",
            "_model_name": "HTMLModel",
            "_view_count": null,
            "_view_module": "@jupyter-widgets/controls",
            "_view_module_version": "1.5.0",
            "_view_name": "HTMLView",
            "description": "",
            "description_tooltip": null,
            "layout": "IPY_MODEL_97137c7586e545f1a5d0187b1d287239",
            "placeholder": "​",
            "style": "IPY_MODEL_5be1a9548a15498ca431ba5292981e16",
            "value": "Downloading vocab.txt: 100%"
          }
        },
        "ee9adb4988e54ed2b1229a5a81ea4113": {
          "model_module": "@jupyter-widgets/controls",
          "model_name": "FloatProgressModel",
          "model_module_version": "1.5.0",
          "state": {
            "_dom_classes": [],
            "_model_module": "@jupyter-widgets/controls",
            "_model_module_version": "1.5.0",
            "_model_name": "FloatProgressModel",
            "_view_count": null,
            "_view_module": "@jupyter-widgets/controls",
            "_view_module_version": "1.5.0",
            "_view_name": "ProgressView",
            "bar_style": "success",
            "description": "",
            "description_tooltip": null,
            "layout": "IPY_MODEL_970f54b7288d49148a1d8cdd530924b0",
            "max": 241082,
            "min": 0,
            "orientation": "horizontal",
            "style": "IPY_MODEL_c4ea4f482de647b79b8bbfb5ae81896f",
            "value": 241082
          }
        },
        "0b040630c2094691baaf531fba050c61": {
          "model_module": "@jupyter-widgets/controls",
          "model_name": "HTMLModel",
          "model_module_version": "1.5.0",
          "state": {
            "_dom_classes": [],
            "_model_module": "@jupyter-widgets/controls",
            "_model_module_version": "1.5.0",
            "_model_name": "HTMLModel",
            "_view_count": null,
            "_view_module": "@jupyter-widgets/controls",
            "_view_module_version": "1.5.0",
            "_view_name": "HTMLView",
            "description": "",
            "description_tooltip": null,
            "layout": "IPY_MODEL_59ae1843ed214cbe81c9357829ba8ff7",
            "placeholder": "​",
            "style": "IPY_MODEL_eaa6529393444618a146906379fcd75b",
            "value": " 235k/235k [00:00&lt;00:00, 1.10MB/s]"
          }
        },
        "c5025da5d217491b8cbc0db7a32dc735": {
          "model_module": "@jupyter-widgets/base",
          "model_name": "LayoutModel",
          "model_module_version": "1.2.0",
          "state": {
            "_model_module": "@jupyter-widgets/base",
            "_model_module_version": "1.2.0",
            "_model_name": "LayoutModel",
            "_view_count": null,
            "_view_module": "@jupyter-widgets/base",
            "_view_module_version": "1.2.0",
            "_view_name": "LayoutView",
            "align_content": null,
            "align_items": null,
            "align_self": null,
            "border": null,
            "bottom": null,
            "display": null,
            "flex": null,
            "flex_flow": null,
            "grid_area": null,
            "grid_auto_columns": null,
            "grid_auto_flow": null,
            "grid_auto_rows": null,
            "grid_column": null,
            "grid_gap": null,
            "grid_row": null,
            "grid_template_areas": null,
            "grid_template_columns": null,
            "grid_template_rows": null,
            "height": null,
            "justify_content": null,
            "justify_items": null,
            "left": null,
            "margin": null,
            "max_height": null,
            "max_width": null,
            "min_height": null,
            "min_width": null,
            "object_fit": null,
            "object_position": null,
            "order": null,
            "overflow": null,
            "overflow_x": null,
            "overflow_y": null,
            "padding": null,
            "right": null,
            "top": null,
            "visibility": null,
            "width": null
          }
        },
        "97137c7586e545f1a5d0187b1d287239": {
          "model_module": "@jupyter-widgets/base",
          "model_name": "LayoutModel",
          "model_module_version": "1.2.0",
          "state": {
            "_model_module": "@jupyter-widgets/base",
            "_model_module_version": "1.2.0",
            "_model_name": "LayoutModel",
            "_view_count": null,
            "_view_module": "@jupyter-widgets/base",
            "_view_module_version": "1.2.0",
            "_view_name": "LayoutView",
            "align_content": null,
            "align_items": null,
            "align_self": null,
            "border": null,
            "bottom": null,
            "display": null,
            "flex": null,
            "flex_flow": null,
            "grid_area": null,
            "grid_auto_columns": null,
            "grid_auto_flow": null,
            "grid_auto_rows": null,
            "grid_column": null,
            "grid_gap": null,
            "grid_row": null,
            "grid_template_areas": null,
            "grid_template_columns": null,
            "grid_template_rows": null,
            "height": null,
            "justify_content": null,
            "justify_items": null,
            "left": null,
            "margin": null,
            "max_height": null,
            "max_width": null,
            "min_height": null,
            "min_width": null,
            "object_fit": null,
            "object_position": null,
            "order": null,
            "overflow": null,
            "overflow_x": null,
            "overflow_y": null,
            "padding": null,
            "right": null,
            "top": null,
            "visibility": null,
            "width": null
          }
        },
        "5be1a9548a15498ca431ba5292981e16": {
          "model_module": "@jupyter-widgets/controls",
          "model_name": "DescriptionStyleModel",
          "model_module_version": "1.5.0",
          "state": {
            "_model_module": "@jupyter-widgets/controls",
            "_model_module_version": "1.5.0",
            "_model_name": "DescriptionStyleModel",
            "_view_count": null,
            "_view_module": "@jupyter-widgets/base",
            "_view_module_version": "1.2.0",
            "_view_name": "StyleView",
            "description_width": ""
          }
        },
        "970f54b7288d49148a1d8cdd530924b0": {
          "model_module": "@jupyter-widgets/base",
          "model_name": "LayoutModel",
          "model_module_version": "1.2.0",
          "state": {
            "_model_module": "@jupyter-widgets/base",
            "_model_module_version": "1.2.0",
            "_model_name": "LayoutModel",
            "_view_count": null,
            "_view_module": "@jupyter-widgets/base",
            "_view_module_version": "1.2.0",
            "_view_name": "LayoutView",
            "align_content": null,
            "align_items": null,
            "align_self": null,
            "border": null,
            "bottom": null,
            "display": null,
            "flex": null,
            "flex_flow": null,
            "grid_area": null,
            "grid_auto_columns": null,
            "grid_auto_flow": null,
            "grid_auto_rows": null,
            "grid_column": null,
            "grid_gap": null,
            "grid_row": null,
            "grid_template_areas": null,
            "grid_template_columns": null,
            "grid_template_rows": null,
            "height": null,
            "justify_content": null,
            "justify_items": null,
            "left": null,
            "margin": null,
            "max_height": null,
            "max_width": null,
            "min_height": null,
            "min_width": null,
            "object_fit": null,
            "object_position": null,
            "order": null,
            "overflow": null,
            "overflow_x": null,
            "overflow_y": null,
            "padding": null,
            "right": null,
            "top": null,
            "visibility": null,
            "width": null
          }
        },
        "c4ea4f482de647b79b8bbfb5ae81896f": {
          "model_module": "@jupyter-widgets/controls",
          "model_name": "ProgressStyleModel",
          "model_module_version": "1.5.0",
          "state": {
            "_model_module": "@jupyter-widgets/controls",
            "_model_module_version": "1.5.0",
            "_model_name": "ProgressStyleModel",
            "_view_count": null,
            "_view_module": "@jupyter-widgets/base",
            "_view_module_version": "1.2.0",
            "_view_name": "StyleView",
            "bar_color": null,
            "description_width": ""
          }
        },
        "59ae1843ed214cbe81c9357829ba8ff7": {
          "model_module": "@jupyter-widgets/base",
          "model_name": "LayoutModel",
          "model_module_version": "1.2.0",
          "state": {
            "_model_module": "@jupyter-widgets/base",
            "_model_module_version": "1.2.0",
            "_model_name": "LayoutModel",
            "_view_count": null,
            "_view_module": "@jupyter-widgets/base",
            "_view_module_version": "1.2.0",
            "_view_name": "LayoutView",
            "align_content": null,
            "align_items": null,
            "align_self": null,
            "border": null,
            "bottom": null,
            "display": null,
            "flex": null,
            "flex_flow": null,
            "grid_area": null,
            "grid_auto_columns": null,
            "grid_auto_flow": null,
            "grid_auto_rows": null,
            "grid_column": null,
            "grid_gap": null,
            "grid_row": null,
            "grid_template_areas": null,
            "grid_template_columns": null,
            "grid_template_rows": null,
            "height": null,
            "justify_content": null,
            "justify_items": null,
            "left": null,
            "margin": null,
            "max_height": null,
            "max_width": null,
            "min_height": null,
            "min_width": null,
            "object_fit": null,
            "object_position": null,
            "order": null,
            "overflow": null,
            "overflow_x": null,
            "overflow_y": null,
            "padding": null,
            "right": null,
            "top": null,
            "visibility": null,
            "width": null
          }
        },
        "eaa6529393444618a146906379fcd75b": {
          "model_module": "@jupyter-widgets/controls",
          "model_name": "DescriptionStyleModel",
          "model_module_version": "1.5.0",
          "state": {
            "_model_module": "@jupyter-widgets/controls",
            "_model_module_version": "1.5.0",
            "_model_name": "DescriptionStyleModel",
            "_view_count": null,
            "_view_module": "@jupyter-widgets/base",
            "_view_module_version": "1.2.0",
            "_view_name": "StyleView",
            "description_width": ""
          }
        },
        "3a0769df1a9f4f7085a8f2a9abe9c13c": {
          "model_module": "@jupyter-widgets/controls",
          "model_name": "HBoxModel",
          "model_module_version": "1.5.0",
          "state": {
            "_dom_classes": [],
            "_model_module": "@jupyter-widgets/controls",
            "_model_module_version": "1.5.0",
            "_model_name": "HBoxModel",
            "_view_count": null,
            "_view_module": "@jupyter-widgets/controls",
            "_view_module_version": "1.5.0",
            "_view_name": "HBoxView",
            "box_style": "",
            "children": [
              "IPY_MODEL_7529b38c17ef49f1a83267172439481f",
              "IPY_MODEL_b47eacc714184c3699adbd63c83000de",
              "IPY_MODEL_9f31c41261b9439bb02323b3bbba9948"
            ],
            "layout": "IPY_MODEL_8efa1d0c06184616ab9cbcd367f7c55f"
          }
        },
        "7529b38c17ef49f1a83267172439481f": {
          "model_module": "@jupyter-widgets/controls",
          "model_name": "HTMLModel",
          "model_module_version": "1.5.0",
          "state": {
            "_dom_classes": [],
            "_model_module": "@jupyter-widgets/controls",
            "_model_module_version": "1.5.0",
            "_model_name": "HTMLModel",
            "_view_count": null,
            "_view_module": "@jupyter-widgets/controls",
            "_view_module_version": "1.5.0",
            "_view_name": "HTMLView",
            "description": "",
            "description_tooltip": null,
            "layout": "IPY_MODEL_1f931800003a4aa3b76e7b036f9bb9e6",
            "placeholder": "​",
            "style": "IPY_MODEL_f8de98a17f6d409e95d8958d9ed94102",
            "value": "Downloading tokenizer.json: 100%"
          }
        },
        "b47eacc714184c3699adbd63c83000de": {
          "model_module": "@jupyter-widgets/controls",
          "model_name": "FloatProgressModel",
          "model_module_version": "1.5.0",
          "state": {
            "_dom_classes": [],
            "_model_module": "@jupyter-widgets/controls",
            "_model_module_version": "1.5.0",
            "_model_name": "FloatProgressModel",
            "_view_count": null,
            "_view_module": "@jupyter-widgets/controls",
            "_view_module_version": "1.5.0",
            "_view_name": "ProgressView",
            "bar_style": "success",
            "description": "",
            "description_tooltip": null,
            "layout": "IPY_MODEL_ac9260949e4a4acca19a9ae7cc8bd8bd",
            "max": 468145,
            "min": 0,
            "orientation": "horizontal",
            "style": "IPY_MODEL_d73475314bbb45f78fc6aa5c8a35f263",
            "value": 468145
          }
        },
        "9f31c41261b9439bb02323b3bbba9948": {
          "model_module": "@jupyter-widgets/controls",
          "model_name": "HTMLModel",
          "model_module_version": "1.5.0",
          "state": {
            "_dom_classes": [],
            "_model_module": "@jupyter-widgets/controls",
            "_model_module_version": "1.5.0",
            "_model_name": "HTMLModel",
            "_view_count": null,
            "_view_module": "@jupyter-widgets/controls",
            "_view_module_version": "1.5.0",
            "_view_name": "HTMLView",
            "description": "",
            "description_tooltip": null,
            "layout": "IPY_MODEL_80e87aaf827c45d1a4690b6138eb980f",
            "placeholder": "​",
            "style": "IPY_MODEL_33cd963ef4e74201b5c817bff9b2a777",
            "value": " 457k/457k [00:00&lt;00:00, 934kB/s]"
          }
        },
        "8efa1d0c06184616ab9cbcd367f7c55f": {
          "model_module": "@jupyter-widgets/base",
          "model_name": "LayoutModel",
          "model_module_version": "1.2.0",
          "state": {
            "_model_module": "@jupyter-widgets/base",
            "_model_module_version": "1.2.0",
            "_model_name": "LayoutModel",
            "_view_count": null,
            "_view_module": "@jupyter-widgets/base",
            "_view_module_version": "1.2.0",
            "_view_name": "LayoutView",
            "align_content": null,
            "align_items": null,
            "align_self": null,
            "border": null,
            "bottom": null,
            "display": null,
            "flex": null,
            "flex_flow": null,
            "grid_area": null,
            "grid_auto_columns": null,
            "grid_auto_flow": null,
            "grid_auto_rows": null,
            "grid_column": null,
            "grid_gap": null,
            "grid_row": null,
            "grid_template_areas": null,
            "grid_template_columns": null,
            "grid_template_rows": null,
            "height": null,
            "justify_content": null,
            "justify_items": null,
            "left": null,
            "margin": null,
            "max_height": null,
            "max_width": null,
            "min_height": null,
            "min_width": null,
            "object_fit": null,
            "object_position": null,
            "order": null,
            "overflow": null,
            "overflow_x": null,
            "overflow_y": null,
            "padding": null,
            "right": null,
            "top": null,
            "visibility": null,
            "width": null
          }
        },
        "1f931800003a4aa3b76e7b036f9bb9e6": {
          "model_module": "@jupyter-widgets/base",
          "model_name": "LayoutModel",
          "model_module_version": "1.2.0",
          "state": {
            "_model_module": "@jupyter-widgets/base",
            "_model_module_version": "1.2.0",
            "_model_name": "LayoutModel",
            "_view_count": null,
            "_view_module": "@jupyter-widgets/base",
            "_view_module_version": "1.2.0",
            "_view_name": "LayoutView",
            "align_content": null,
            "align_items": null,
            "align_self": null,
            "border": null,
            "bottom": null,
            "display": null,
            "flex": null,
            "flex_flow": null,
            "grid_area": null,
            "grid_auto_columns": null,
            "grid_auto_flow": null,
            "grid_auto_rows": null,
            "grid_column": null,
            "grid_gap": null,
            "grid_row": null,
            "grid_template_areas": null,
            "grid_template_columns": null,
            "grid_template_rows": null,
            "height": null,
            "justify_content": null,
            "justify_items": null,
            "left": null,
            "margin": null,
            "max_height": null,
            "max_width": null,
            "min_height": null,
            "min_width": null,
            "object_fit": null,
            "object_position": null,
            "order": null,
            "overflow": null,
            "overflow_x": null,
            "overflow_y": null,
            "padding": null,
            "right": null,
            "top": null,
            "visibility": null,
            "width": null
          }
        },
        "f8de98a17f6d409e95d8958d9ed94102": {
          "model_module": "@jupyter-widgets/controls",
          "model_name": "DescriptionStyleModel",
          "model_module_version": "1.5.0",
          "state": {
            "_model_module": "@jupyter-widgets/controls",
            "_model_module_version": "1.5.0",
            "_model_name": "DescriptionStyleModel",
            "_view_count": null,
            "_view_module": "@jupyter-widgets/base",
            "_view_module_version": "1.2.0",
            "_view_name": "StyleView",
            "description_width": ""
          }
        },
        "ac9260949e4a4acca19a9ae7cc8bd8bd": {
          "model_module": "@jupyter-widgets/base",
          "model_name": "LayoutModel",
          "model_module_version": "1.2.0",
          "state": {
            "_model_module": "@jupyter-widgets/base",
            "_model_module_version": "1.2.0",
            "_model_name": "LayoutModel",
            "_view_count": null,
            "_view_module": "@jupyter-widgets/base",
            "_view_module_version": "1.2.0",
            "_view_name": "LayoutView",
            "align_content": null,
            "align_items": null,
            "align_self": null,
            "border": null,
            "bottom": null,
            "display": null,
            "flex": null,
            "flex_flow": null,
            "grid_area": null,
            "grid_auto_columns": null,
            "grid_auto_flow": null,
            "grid_auto_rows": null,
            "grid_column": null,
            "grid_gap": null,
            "grid_row": null,
            "grid_template_areas": null,
            "grid_template_columns": null,
            "grid_template_rows": null,
            "height": null,
            "justify_content": null,
            "justify_items": null,
            "left": null,
            "margin": null,
            "max_height": null,
            "max_width": null,
            "min_height": null,
            "min_width": null,
            "object_fit": null,
            "object_position": null,
            "order": null,
            "overflow": null,
            "overflow_x": null,
            "overflow_y": null,
            "padding": null,
            "right": null,
            "top": null,
            "visibility": null,
            "width": null
          }
        },
        "d73475314bbb45f78fc6aa5c8a35f263": {
          "model_module": "@jupyter-widgets/controls",
          "model_name": "ProgressStyleModel",
          "model_module_version": "1.5.0",
          "state": {
            "_model_module": "@jupyter-widgets/controls",
            "_model_module_version": "1.5.0",
            "_model_name": "ProgressStyleModel",
            "_view_count": null,
            "_view_module": "@jupyter-widgets/base",
            "_view_module_version": "1.2.0",
            "_view_name": "StyleView",
            "bar_color": null,
            "description_width": ""
          }
        },
        "80e87aaf827c45d1a4690b6138eb980f": {
          "model_module": "@jupyter-widgets/base",
          "model_name": "LayoutModel",
          "model_module_version": "1.2.0",
          "state": {
            "_model_module": "@jupyter-widgets/base",
            "_model_module_version": "1.2.0",
            "_model_name": "LayoutModel",
            "_view_count": null,
            "_view_module": "@jupyter-widgets/base",
            "_view_module_version": "1.2.0",
            "_view_name": "LayoutView",
            "align_content": null,
            "align_items": null,
            "align_self": null,
            "border": null,
            "bottom": null,
            "display": null,
            "flex": null,
            "flex_flow": null,
            "grid_area": null,
            "grid_auto_columns": null,
            "grid_auto_flow": null,
            "grid_auto_rows": null,
            "grid_column": null,
            "grid_gap": null,
            "grid_row": null,
            "grid_template_areas": null,
            "grid_template_columns": null,
            "grid_template_rows": null,
            "height": null,
            "justify_content": null,
            "justify_items": null,
            "left": null,
            "margin": null,
            "max_height": null,
            "max_width": null,
            "min_height": null,
            "min_width": null,
            "object_fit": null,
            "object_position": null,
            "order": null,
            "overflow": null,
            "overflow_x": null,
            "overflow_y": null,
            "padding": null,
            "right": null,
            "top": null,
            "visibility": null,
            "width": null
          }
        },
        "33cd963ef4e74201b5c817bff9b2a777": {
          "model_module": "@jupyter-widgets/controls",
          "model_name": "DescriptionStyleModel",
          "model_module_version": "1.5.0",
          "state": {
            "_model_module": "@jupyter-widgets/controls",
            "_model_module_version": "1.5.0",
            "_model_name": "DescriptionStyleModel",
            "_view_count": null,
            "_view_module": "@jupyter-widgets/base",
            "_view_module_version": "1.2.0",
            "_view_name": "StyleView",
            "description_width": ""
          }
        },
        "49ebe9d9c30e4a79817b2b075b83009f": {
          "model_module": "@jupyter-widgets/controls",
          "model_name": "HBoxModel",
          "model_module_version": "1.5.0",
          "state": {
            "_dom_classes": [],
            "_model_module": "@jupyter-widgets/controls",
            "_model_module_version": "1.5.0",
            "_model_name": "HBoxModel",
            "_view_count": null,
            "_view_module": "@jupyter-widgets/controls",
            "_view_module_version": "1.5.0",
            "_view_name": "HBoxView",
            "box_style": "",
            "children": [
              "IPY_MODEL_892e073ae2264d579102b1de620e02a3",
              "IPY_MODEL_50672d457751450aa4d078a53270079b",
              "IPY_MODEL_ceab83d9683843aaba0789182851a615"
            ],
            "layout": "IPY_MODEL_49a6cf62408a4c718b0faf384152e9ce"
          }
        },
        "892e073ae2264d579102b1de620e02a3": {
          "model_module": "@jupyter-widgets/controls",
          "model_name": "HTMLModel",
          "model_module_version": "1.5.0",
          "state": {
            "_dom_classes": [],
            "_model_module": "@jupyter-widgets/controls",
            "_model_module_version": "1.5.0",
            "_model_name": "HTMLModel",
            "_view_count": null,
            "_view_module": "@jupyter-widgets/controls",
            "_view_module_version": "1.5.0",
            "_view_name": "HTMLView",
            "description": "",
            "description_tooltip": null,
            "layout": "IPY_MODEL_56c572dd0c1d45029f688ec05776e9d9",
            "placeholder": "​",
            "style": "IPY_MODEL_4185f96c68e34771a661638effcc7456",
            "value": "Downloading special_tokens_map.json: 100%"
          }
        },
        "50672d457751450aa4d078a53270079b": {
          "model_module": "@jupyter-widgets/controls",
          "model_name": "FloatProgressModel",
          "model_module_version": "1.5.0",
          "state": {
            "_dom_classes": [],
            "_model_module": "@jupyter-widgets/controls",
            "_model_module_version": "1.5.0",
            "_model_name": "FloatProgressModel",
            "_view_count": null,
            "_view_module": "@jupyter-widgets/controls",
            "_view_module_version": "1.5.0",
            "_view_name": "ProgressView",
            "bar_style": "success",
            "description": "",
            "description_tooltip": null,
            "layout": "IPY_MODEL_573bc4fdef2f4dda8a469f26c722809d",
            "max": 112,
            "min": 0,
            "orientation": "horizontal",
            "style": "IPY_MODEL_d3df63f07a204b1b96cacdebb9b49c1f",
            "value": 112
          }
        },
        "ceab83d9683843aaba0789182851a615": {
          "model_module": "@jupyter-widgets/controls",
          "model_name": "HTMLModel",
          "model_module_version": "1.5.0",
          "state": {
            "_dom_classes": [],
            "_model_module": "@jupyter-widgets/controls",
            "_model_module_version": "1.5.0",
            "_model_name": "HTMLModel",
            "_view_count": null,
            "_view_module": "@jupyter-widgets/controls",
            "_view_module_version": "1.5.0",
            "_view_name": "HTMLView",
            "description": "",
            "description_tooltip": null,
            "layout": "IPY_MODEL_9ae0c36d8f304d8497717edf9b7ed4b4",
            "placeholder": "​",
            "style": "IPY_MODEL_2a623fb3a70a447ead2fa67509520e29",
            "value": " 112/112 [00:00&lt;00:00, 1.43kB/s]"
          }
        },
        "49a6cf62408a4c718b0faf384152e9ce": {
          "model_module": "@jupyter-widgets/base",
          "model_name": "LayoutModel",
          "model_module_version": "1.2.0",
          "state": {
            "_model_module": "@jupyter-widgets/base",
            "_model_module_version": "1.2.0",
            "_model_name": "LayoutModel",
            "_view_count": null,
            "_view_module": "@jupyter-widgets/base",
            "_view_module_version": "1.2.0",
            "_view_name": "LayoutView",
            "align_content": null,
            "align_items": null,
            "align_self": null,
            "border": null,
            "bottom": null,
            "display": null,
            "flex": null,
            "flex_flow": null,
            "grid_area": null,
            "grid_auto_columns": null,
            "grid_auto_flow": null,
            "grid_auto_rows": null,
            "grid_column": null,
            "grid_gap": null,
            "grid_row": null,
            "grid_template_areas": null,
            "grid_template_columns": null,
            "grid_template_rows": null,
            "height": null,
            "justify_content": null,
            "justify_items": null,
            "left": null,
            "margin": null,
            "max_height": null,
            "max_width": null,
            "min_height": null,
            "min_width": null,
            "object_fit": null,
            "object_position": null,
            "order": null,
            "overflow": null,
            "overflow_x": null,
            "overflow_y": null,
            "padding": null,
            "right": null,
            "top": null,
            "visibility": null,
            "width": null
          }
        },
        "56c572dd0c1d45029f688ec05776e9d9": {
          "model_module": "@jupyter-widgets/base",
          "model_name": "LayoutModel",
          "model_module_version": "1.2.0",
          "state": {
            "_model_module": "@jupyter-widgets/base",
            "_model_module_version": "1.2.0",
            "_model_name": "LayoutModel",
            "_view_count": null,
            "_view_module": "@jupyter-widgets/base",
            "_view_module_version": "1.2.0",
            "_view_name": "LayoutView",
            "align_content": null,
            "align_items": null,
            "align_self": null,
            "border": null,
            "bottom": null,
            "display": null,
            "flex": null,
            "flex_flow": null,
            "grid_area": null,
            "grid_auto_columns": null,
            "grid_auto_flow": null,
            "grid_auto_rows": null,
            "grid_column": null,
            "grid_gap": null,
            "grid_row": null,
            "grid_template_areas": null,
            "grid_template_columns": null,
            "grid_template_rows": null,
            "height": null,
            "justify_content": null,
            "justify_items": null,
            "left": null,
            "margin": null,
            "max_height": null,
            "max_width": null,
            "min_height": null,
            "min_width": null,
            "object_fit": null,
            "object_position": null,
            "order": null,
            "overflow": null,
            "overflow_x": null,
            "overflow_y": null,
            "padding": null,
            "right": null,
            "top": null,
            "visibility": null,
            "width": null
          }
        },
        "4185f96c68e34771a661638effcc7456": {
          "model_module": "@jupyter-widgets/controls",
          "model_name": "DescriptionStyleModel",
          "model_module_version": "1.5.0",
          "state": {
            "_model_module": "@jupyter-widgets/controls",
            "_model_module_version": "1.5.0",
            "_model_name": "DescriptionStyleModel",
            "_view_count": null,
            "_view_module": "@jupyter-widgets/base",
            "_view_module_version": "1.2.0",
            "_view_name": "StyleView",
            "description_width": ""
          }
        },
        "573bc4fdef2f4dda8a469f26c722809d": {
          "model_module": "@jupyter-widgets/base",
          "model_name": "LayoutModel",
          "model_module_version": "1.2.0",
          "state": {
            "_model_module": "@jupyter-widgets/base",
            "_model_module_version": "1.2.0",
            "_model_name": "LayoutModel",
            "_view_count": null,
            "_view_module": "@jupyter-widgets/base",
            "_view_module_version": "1.2.0",
            "_view_name": "LayoutView",
            "align_content": null,
            "align_items": null,
            "align_self": null,
            "border": null,
            "bottom": null,
            "display": null,
            "flex": null,
            "flex_flow": null,
            "grid_area": null,
            "grid_auto_columns": null,
            "grid_auto_flow": null,
            "grid_auto_rows": null,
            "grid_column": null,
            "grid_gap": null,
            "grid_row": null,
            "grid_template_areas": null,
            "grid_template_columns": null,
            "grid_template_rows": null,
            "height": null,
            "justify_content": null,
            "justify_items": null,
            "left": null,
            "margin": null,
            "max_height": null,
            "max_width": null,
            "min_height": null,
            "min_width": null,
            "object_fit": null,
            "object_position": null,
            "order": null,
            "overflow": null,
            "overflow_x": null,
            "overflow_y": null,
            "padding": null,
            "right": null,
            "top": null,
            "visibility": null,
            "width": null
          }
        },
        "d3df63f07a204b1b96cacdebb9b49c1f": {
          "model_module": "@jupyter-widgets/controls",
          "model_name": "ProgressStyleModel",
          "model_module_version": "1.5.0",
          "state": {
            "_model_module": "@jupyter-widgets/controls",
            "_model_module_version": "1.5.0",
            "_model_name": "ProgressStyleModel",
            "_view_count": null,
            "_view_module": "@jupyter-widgets/base",
            "_view_module_version": "1.2.0",
            "_view_name": "StyleView",
            "bar_color": null,
            "description_width": ""
          }
        },
        "9ae0c36d8f304d8497717edf9b7ed4b4": {
          "model_module": "@jupyter-widgets/base",
          "model_name": "LayoutModel",
          "model_module_version": "1.2.0",
          "state": {
            "_model_module": "@jupyter-widgets/base",
            "_model_module_version": "1.2.0",
            "_model_name": "LayoutModel",
            "_view_count": null,
            "_view_module": "@jupyter-widgets/base",
            "_view_module_version": "1.2.0",
            "_view_name": "LayoutView",
            "align_content": null,
            "align_items": null,
            "align_self": null,
            "border": null,
            "bottom": null,
            "display": null,
            "flex": null,
            "flex_flow": null,
            "grid_area": null,
            "grid_auto_columns": null,
            "grid_auto_flow": null,
            "grid_auto_rows": null,
            "grid_column": null,
            "grid_gap": null,
            "grid_row": null,
            "grid_template_areas": null,
            "grid_template_columns": null,
            "grid_template_rows": null,
            "height": null,
            "justify_content": null,
            "justify_items": null,
            "left": null,
            "margin": null,
            "max_height": null,
            "max_width": null,
            "min_height": null,
            "min_width": null,
            "object_fit": null,
            "object_position": null,
            "order": null,
            "overflow": null,
            "overflow_x": null,
            "overflow_y": null,
            "padding": null,
            "right": null,
            "top": null,
            "visibility": null,
            "width": null
          }
        },
        "2a623fb3a70a447ead2fa67509520e29": {
          "model_module": "@jupyter-widgets/controls",
          "model_name": "DescriptionStyleModel",
          "model_module_version": "1.5.0",
          "state": {
            "_model_module": "@jupyter-widgets/controls",
            "_model_module_version": "1.5.0",
            "_model_name": "DescriptionStyleModel",
            "_view_count": null,
            "_view_module": "@jupyter-widgets/base",
            "_view_module_version": "1.2.0",
            "_view_name": "StyleView",
            "description_width": ""
          }
        },
        "8c6f68c1a745492ab374a0a0f1650330": {
          "model_module": "@jupyter-widgets/controls",
          "model_name": "HBoxModel",
          "model_module_version": "1.5.0",
          "state": {
            "_dom_classes": [],
            "_model_module": "@jupyter-widgets/controls",
            "_model_module_version": "1.5.0",
            "_model_name": "HBoxModel",
            "_view_count": null,
            "_view_module": "@jupyter-widgets/controls",
            "_view_module_version": "1.5.0",
            "_view_name": "HBoxView",
            "box_style": "",
            "children": [
              "IPY_MODEL_e48d491e797c44a08c91b6e4d0c66c0b",
              "IPY_MODEL_cce118a8a0c74a7da9719936adb57464",
              "IPY_MODEL_b4664f4d27fc49f9b049a30bd5f816f2"
            ],
            "layout": "IPY_MODEL_f706f567561148c3b9d76784524a1be4"
          }
        },
        "e48d491e797c44a08c91b6e4d0c66c0b": {
          "model_module": "@jupyter-widgets/controls",
          "model_name": "HTMLModel",
          "model_module_version": "1.5.0",
          "state": {
            "_dom_classes": [],
            "_model_module": "@jupyter-widgets/controls",
            "_model_module_version": "1.5.0",
            "_model_name": "HTMLModel",
            "_view_count": null,
            "_view_module": "@jupyter-widgets/controls",
            "_view_module_version": "1.5.0",
            "_view_name": "HTMLView",
            "description": "",
            "description_tooltip": null,
            "layout": "IPY_MODEL_8d9c89e0b67b4c6cb278afa38607ff99",
            "placeholder": "​",
            "style": "IPY_MODEL_800a7cdc79c845afa2c3ac2b908c8f45",
            "value": "100%"
          }
        },
        "cce118a8a0c74a7da9719936adb57464": {
          "model_module": "@jupyter-widgets/controls",
          "model_name": "FloatProgressModel",
          "model_module_version": "1.5.0",
          "state": {
            "_dom_classes": [],
            "_model_module": "@jupyter-widgets/controls",
            "_model_module_version": "1.5.0",
            "_model_name": "FloatProgressModel",
            "_view_count": null,
            "_view_module": "@jupyter-widgets/controls",
            "_view_module_version": "1.5.0",
            "_view_name": "ProgressView",
            "bar_style": "success",
            "description": "",
            "description_tooltip": null,
            "layout": "IPY_MODEL_0e5789a4c29644c4a62ebcc989921457",
            "max": 8,
            "min": 0,
            "orientation": "horizontal",
            "style": "IPY_MODEL_129c360f9bde42c0a34e871f16cca496",
            "value": 8
          }
        },
        "b4664f4d27fc49f9b049a30bd5f816f2": {
          "model_module": "@jupyter-widgets/controls",
          "model_name": "HTMLModel",
          "model_module_version": "1.5.0",
          "state": {
            "_dom_classes": [],
            "_model_module": "@jupyter-widgets/controls",
            "_model_module_version": "1.5.0",
            "_model_name": "HTMLModel",
            "_view_count": null,
            "_view_module": "@jupyter-widgets/controls",
            "_view_module_version": "1.5.0",
            "_view_name": "HTMLView",
            "description": "",
            "description_tooltip": null,
            "layout": "IPY_MODEL_d1b3cab4d01443228941b702df52d8af",
            "placeholder": "​",
            "style": "IPY_MODEL_bea768599f024e058bbf372a46221ea5",
            "value": " 8/8 [00:03&lt;00:00,  2.46ba/s]"
          }
        },
        "f706f567561148c3b9d76784524a1be4": {
          "model_module": "@jupyter-widgets/base",
          "model_name": "LayoutModel",
          "model_module_version": "1.2.0",
          "state": {
            "_model_module": "@jupyter-widgets/base",
            "_model_module_version": "1.2.0",
            "_model_name": "LayoutModel",
            "_view_count": null,
            "_view_module": "@jupyter-widgets/base",
            "_view_module_version": "1.2.0",
            "_view_name": "LayoutView",
            "align_content": null,
            "align_items": null,
            "align_self": null,
            "border": null,
            "bottom": null,
            "display": null,
            "flex": null,
            "flex_flow": null,
            "grid_area": null,
            "grid_auto_columns": null,
            "grid_auto_flow": null,
            "grid_auto_rows": null,
            "grid_column": null,
            "grid_gap": null,
            "grid_row": null,
            "grid_template_areas": null,
            "grid_template_columns": null,
            "grid_template_rows": null,
            "height": null,
            "justify_content": null,
            "justify_items": null,
            "left": null,
            "margin": null,
            "max_height": null,
            "max_width": null,
            "min_height": null,
            "min_width": null,
            "object_fit": null,
            "object_position": null,
            "order": null,
            "overflow": null,
            "overflow_x": null,
            "overflow_y": null,
            "padding": null,
            "right": null,
            "top": null,
            "visibility": null,
            "width": null
          }
        },
        "8d9c89e0b67b4c6cb278afa38607ff99": {
          "model_module": "@jupyter-widgets/base",
          "model_name": "LayoutModel",
          "model_module_version": "1.2.0",
          "state": {
            "_model_module": "@jupyter-widgets/base",
            "_model_module_version": "1.2.0",
            "_model_name": "LayoutModel",
            "_view_count": null,
            "_view_module": "@jupyter-widgets/base",
            "_view_module_version": "1.2.0",
            "_view_name": "LayoutView",
            "align_content": null,
            "align_items": null,
            "align_self": null,
            "border": null,
            "bottom": null,
            "display": null,
            "flex": null,
            "flex_flow": null,
            "grid_area": null,
            "grid_auto_columns": null,
            "grid_auto_flow": null,
            "grid_auto_rows": null,
            "grid_column": null,
            "grid_gap": null,
            "grid_row": null,
            "grid_template_areas": null,
            "grid_template_columns": null,
            "grid_template_rows": null,
            "height": null,
            "justify_content": null,
            "justify_items": null,
            "left": null,
            "margin": null,
            "max_height": null,
            "max_width": null,
            "min_height": null,
            "min_width": null,
            "object_fit": null,
            "object_position": null,
            "order": null,
            "overflow": null,
            "overflow_x": null,
            "overflow_y": null,
            "padding": null,
            "right": null,
            "top": null,
            "visibility": null,
            "width": null
          }
        },
        "800a7cdc79c845afa2c3ac2b908c8f45": {
          "model_module": "@jupyter-widgets/controls",
          "model_name": "DescriptionStyleModel",
          "model_module_version": "1.5.0",
          "state": {
            "_model_module": "@jupyter-widgets/controls",
            "_model_module_version": "1.5.0",
            "_model_name": "DescriptionStyleModel",
            "_view_count": null,
            "_view_module": "@jupyter-widgets/base",
            "_view_module_version": "1.2.0",
            "_view_name": "StyleView",
            "description_width": ""
          }
        },
        "0e5789a4c29644c4a62ebcc989921457": {
          "model_module": "@jupyter-widgets/base",
          "model_name": "LayoutModel",
          "model_module_version": "1.2.0",
          "state": {
            "_model_module": "@jupyter-widgets/base",
            "_model_module_version": "1.2.0",
            "_model_name": "LayoutModel",
            "_view_count": null,
            "_view_module": "@jupyter-widgets/base",
            "_view_module_version": "1.2.0",
            "_view_name": "LayoutView",
            "align_content": null,
            "align_items": null,
            "align_self": null,
            "border": null,
            "bottom": null,
            "display": null,
            "flex": null,
            "flex_flow": null,
            "grid_area": null,
            "grid_auto_columns": null,
            "grid_auto_flow": null,
            "grid_auto_rows": null,
            "grid_column": null,
            "grid_gap": null,
            "grid_row": null,
            "grid_template_areas": null,
            "grid_template_columns": null,
            "grid_template_rows": null,
            "height": null,
            "justify_content": null,
            "justify_items": null,
            "left": null,
            "margin": null,
            "max_height": null,
            "max_width": null,
            "min_height": null,
            "min_width": null,
            "object_fit": null,
            "object_position": null,
            "order": null,
            "overflow": null,
            "overflow_x": null,
            "overflow_y": null,
            "padding": null,
            "right": null,
            "top": null,
            "visibility": null,
            "width": null
          }
        },
        "129c360f9bde42c0a34e871f16cca496": {
          "model_module": "@jupyter-widgets/controls",
          "model_name": "ProgressStyleModel",
          "model_module_version": "1.5.0",
          "state": {
            "_model_module": "@jupyter-widgets/controls",
            "_model_module_version": "1.5.0",
            "_model_name": "ProgressStyleModel",
            "_view_count": null,
            "_view_module": "@jupyter-widgets/base",
            "_view_module_version": "1.2.0",
            "_view_name": "StyleView",
            "bar_color": null,
            "description_width": ""
          }
        },
        "d1b3cab4d01443228941b702df52d8af": {
          "model_module": "@jupyter-widgets/base",
          "model_name": "LayoutModel",
          "model_module_version": "1.2.0",
          "state": {
            "_model_module": "@jupyter-widgets/base",
            "_model_module_version": "1.2.0",
            "_model_name": "LayoutModel",
            "_view_count": null,
            "_view_module": "@jupyter-widgets/base",
            "_view_module_version": "1.2.0",
            "_view_name": "LayoutView",
            "align_content": null,
            "align_items": null,
            "align_self": null,
            "border": null,
            "bottom": null,
            "display": null,
            "flex": null,
            "flex_flow": null,
            "grid_area": null,
            "grid_auto_columns": null,
            "grid_auto_flow": null,
            "grid_auto_rows": null,
            "grid_column": null,
            "grid_gap": null,
            "grid_row": null,
            "grid_template_areas": null,
            "grid_template_columns": null,
            "grid_template_rows": null,
            "height": null,
            "justify_content": null,
            "justify_items": null,
            "left": null,
            "margin": null,
            "max_height": null,
            "max_width": null,
            "min_height": null,
            "min_width": null,
            "object_fit": null,
            "object_position": null,
            "order": null,
            "overflow": null,
            "overflow_x": null,
            "overflow_y": null,
            "padding": null,
            "right": null,
            "top": null,
            "visibility": null,
            "width": null
          }
        },
        "bea768599f024e058bbf372a46221ea5": {
          "model_module": "@jupyter-widgets/controls",
          "model_name": "DescriptionStyleModel",
          "model_module_version": "1.5.0",
          "state": {
            "_model_module": "@jupyter-widgets/controls",
            "_model_module_version": "1.5.0",
            "_model_name": "DescriptionStyleModel",
            "_view_count": null,
            "_view_module": "@jupyter-widgets/base",
            "_view_module_version": "1.2.0",
            "_view_name": "StyleView",
            "description_width": ""
          }
        },
        "606dbc87138949c898e46f79bf7db141": {
          "model_module": "@jupyter-widgets/controls",
          "model_name": "VBoxModel",
          "model_module_version": "1.5.0",
          "state": {
            "_dom_classes": [
              "widget-interact"
            ],
            "_model_module": "@jupyter-widgets/controls",
            "_model_module_version": "1.5.0",
            "_model_name": "VBoxModel",
            "_view_count": null,
            "_view_module": "@jupyter-widgets/controls",
            "_view_module_version": "1.5.0",
            "_view_name": "VBoxView",
            "box_style": "",
            "children": [
              "IPY_MODEL_46012812f83b4fcb9d6ce4568eba9f27",
              "IPY_MODEL_76c61241ede241f7ac1ea40801f2f414"
            ],
            "layout": "IPY_MODEL_bc08e4835a49456f8e222f51f036d1d5"
          }
        },
        "46012812f83b4fcb9d6ce4568eba9f27": {
          "model_module": "@jupyter-widgets/controls",
          "model_name": "DropdownModel",
          "model_module_version": "1.5.0",
          "state": {
            "_dom_classes": [],
            "_model_module": "@jupyter-widgets/controls",
            "_model_module_version": "1.5.0",
            "_model_name": "DropdownModel",
            "_options_labels": [
              "all",
              "test"
            ],
            "_view_count": null,
            "_view_module": "@jupyter-widgets/controls",
            "_view_module_version": "1.5.0",
            "_view_name": "DropdownView",
            "description": "_df",
            "description_tooltip": null,
            "disabled": false,
            "index": 0,
            "layout": "IPY_MODEL_1c5f784edb124364b0e88917a88197f6",
            "style": "IPY_MODEL_b2291094bc544e54b8abb456a5ca08ba"
          }
        },
        "76c61241ede241f7ac1ea40801f2f414": {
          "model_module": "@jupyter-widgets/output",
          "model_name": "OutputModel",
          "model_module_version": "1.0.0",
          "state": {
            "_dom_classes": [],
            "_model_module": "@jupyter-widgets/output",
            "_model_module_version": "1.0.0",
            "_model_name": "OutputModel",
            "_view_count": null,
            "_view_module": "@jupyter-widgets/output",
            "_view_module_version": "1.0.0",
            "_view_name": "OutputView",
            "layout": "IPY_MODEL_246c930f009b47d29144cfacfc0d0c4a",
            "msg_id": "",
            "outputs": [
              {
                "output_type": "display_data",
                "data": {
                  "text/plain": "<Figure size 432x288 with 1 Axes>",
                  "image/png": "iVBORw0KGgoAAAANSUhEUgAAAXoAAAEJCAYAAACaFuz/AAAABHNCSVQICAgIfAhkiAAAAAlwSFlzAAALEgAACxIB0t1+/AAAADh0RVh0U29mdHdhcmUAbWF0cGxvdGxpYiB2ZXJzaW9uMy4yLjIsIGh0dHA6Ly9tYXRwbG90bGliLm9yZy+WH4yJAAAVIElEQVR4nO3df7RlZX3f8feHGcEQIo4w9Qe/BiOKGCPIdUg1UdMgjssshqawRJsKWbSz2gRxabrqdNlKOqYKJs2qjWggARMxhiCu6rQZGFHQtongDD9kGMapw4Aw1OgEqNalAQa+/WPvkePx3nPPnbn3ztxn3q+19rr7PHt/z3nu+fE5+zxn731SVUiS2nXQvu6AJGluGfSS1DiDXpIaZ9BLUuMMeklqnEEvSY1bvK87MOzII4+sZcuW7etuSNKCctttt/1dVS2dbNl+F/TLli1j48aN+7obkrSgJPnmVMvGGrpJsiLJ1iTbkqyeZPm7k9yT5K4kX0xy3MCyJ5Pc2U9r9+xfkCTtqWm36JMsAi4D3gDsADYkWVtV9wysdgcwUVU/SPKvgA8Bb+mX/bCqTp7lfkuSxjTOFv1yYFtVba+qx4FrgJWDK1TVzVX1g/7iLcDRs9tNSdKeGifojwIeHLi8o2+bygXA9QOXn5lkY5Jbkpy1B32UJO2FWf0yNsmvAxPA6waaj6uqh5K8ELgpyaaquneobhWwCuDYY4+dzS5J0gFvnC36h4BjBi4f3bf9mCSnA+8Fzqyqx3a3V9VD/d/twJeAU4Zrq+qKqpqoqomlSyfdO0iStIfGCfoNwAlJjk9yMHAu8GN7zyQ5BbicLuS/M9C+JMkh/fyRwGuAwS9xJUlzbNqhm6raleRCYD2wCLiqqjYnWQNsrKq1wO8BhwGfTgLwQFWdCbwUuDzJU3RvKpcM7a0jSZpj2d9+eGRiYqIW4gFTy1b/1ZTL7r/kzfPYE0kHoiS3VdXEZMs8140kNc6gl6TGGfSS1DiDXpIaZ9BLUuMMeklqnEEvSY0z6CWpcQa9JDXOoJekxhn0ktQ4g16SGmfQS1LjDHpJapxBL0mNM+glqXGz+uPgc8Ef9JCkveMWvSQ1zqCXpMYZ9JLUOINekhpn0EtS4wx6SWqcQS9JjTPoJalxBr0kNc6gl6TGGfSS1DiDXpIaZ9BLUuMMeklqnEEvSY0z6CWpcQa9JDVurKBPsiLJ1iTbkqyeZPm7k9yT5K4kX0xy3MCy85J8o5/Om83OS5KmN23QJ1kEXAa8CTgJeGuSk4ZWuwOYqKqfB64DPtTXPge4GDgNWA5cnGTJ7HVfkjSdcbbolwPbqmp7VT0OXAOsHFyhqm6uqh/0F28Bju7n3wjcWFWPVNWjwI3AitnpuiRpHOME/VHAgwOXd/RtU7kAuH4mtUlWJdmYZOPOnTvH6JIkaVyz+mVskl8HJoDfm0ldVV1RVRNVNbF06dLZ7JIkHfDGCfqHgGMGLh/dt/2YJKcD7wXOrKrHZlIrSZo74wT9BuCEJMcnORg4F1g7uEKSU4DL6UL+OwOL1gNnJFnSfwl7Rt8mSZoni6dboap2JbmQLqAXAVdV1eYka4CNVbWWbqjmMODTSQAeqKozq+qRJO+ne7MAWFNVj8zJfyJJmtS0QQ9QVeuAdUNt7xuYP31E7VXAVXvaQUnS3vHIWElqnEEvSY0z6CWpcQa9JDXOoJekxhn0ktQ4g16SGmfQS1LjDHpJapxBL0mNM+glqXEGvSQ1zqCXpMYZ9JLUOINekhpn0EtS4wx6SWqcQS9JjTPoJalxBr0kNc6gl6TGGfSS1DiDXpIaZ9BLUuMMeklqnEEvSY0z6CWpcQa9JDXOoJekxhn0ktQ4g16SGmfQS1LjDHpJatxYQZ9kRZKtSbYlWT3J8tcmuT3JriRnDy17Msmd/bR2tjouSRrP4ulWSLIIuAx4A7AD2JBkbVXdM7DaA8D5wL+e5Cp+WFUnz0JfJUl7YNqgB5YD26pqO0CSa4CVwI+Cvqru75c9NQd9lCTthXGGbo4CHhy4vKNvG9czk2xMckuSsyZbIcmqfp2NO3funMFVS5KmMx9fxh5XVRPA24D/nORnh1eoqiuqaqKqJpYuXToPXZKkA8c4Qf8QcMzA5aP7trFU1UP93+3Al4BTZtA/SdJeGifoNwAnJDk+ycHAucBYe88kWZLkkH7+SOA1DIztS5Lm3rRBX1W7gAuB9cAW4Nqq2pxkTZIzAZK8KskO4Bzg8iSb+/KXAhuTfA24GbhkaG8dSdIcG2evG6pqHbBuqO19A/Mb6IZ0huv+Bnj5XvZRkrQXPDJWkhpn0EtS4wx6SWqcQS9JjTPoJalxBr0kNc6gl6TGGfSS1DiDXpIaZ9BLUuMMeklqnEEvSY0z6CWpcQa9JDXOoJekxhn0ktQ4g16SGmfQS1LjDHpJapxBL0mNM+glqXEGvSQ1zqCXpMYZ9JLUOINekhpn0EtS4wx6SWqcQS9JjTPoJalxBr0kNc6gl6TGGfSS1DiDXpIaN1bQJ1mRZGuSbUlWT7L8tUluT7IrydlDy85L8o1+Om+2Oi5JGs+0QZ9kEXAZ8CbgJOCtSU4aWu0B4HzgU0O1zwEuBk4DlgMXJ1my992WJI1rnC365cC2qtpeVY8D1wArB1eoqvur6i7gqaHaNwI3VtUjVfUocCOwYhb6LUka0zhBfxTw4MDlHX3bOPamVpI0C/aLL2OTrEqyMcnGnTt37uvuSFJTxgn6h4BjBi4f3beNY6zaqrqiqiaqamLp0qVjXrUkaRzjBP0G4IQkxyc5GDgXWDvm9a8HzkiypP8S9oy+TZI0T6YN+qraBVxIF9BbgGuranOSNUnOBEjyqiQ7gHOAy5Ns7msfAd5P92axAVjTt0mS5snicVaqqnXAuqG29w3Mb6Ablpms9irgqr3ooyRpL+wXX8ZKkuaOQS9JjTPoJalxBr0kNc6gl6TGGfSS1DiDXpIaZ9BLUuMMeklqnEEvSY0z6CWpcQa9JDXOoJekxhn0ktQ4g16SGmfQS1LjDHpJatxYvzC1EC1b/VdTLrv/kjfPY08kad9qNugXCt+QJM01h24kqXEGvSQ1zqCXpMYZ9JLUOINekhrnXjdD3AtGUmvcopekxhn0ktQ4g16SGmfQS1LjDHpJapx73Wi/455P0uxyi16SGmfQS1Ljxgr6JCuSbE2yLcnqSZYfkuQv++W3JlnWty9L8sMkd/bTH81u9yVJ05l2jD7JIuAy4A3ADmBDkrVVdc/AahcAj1bVi5KcC1wKvKVfdm9VnTzL/ZYkjWmcLfrlwLaq2l5VjwPXACuH1lkJ/Fk/fx3wK0kye92UJO2pcYL+KODBgcs7+rZJ16mqXcB3gSP6ZccnuSPJl5P80l72V5I0Q3O9e+W3gGOr6uEkpwKfTfKyqvre4EpJVgGrAI499tg57pIkHVjG2aJ/CDhm4PLRfduk6yRZDBwOPFxVj1XVwwBVdRtwL/Di4RuoqiuqaqKqJpYuXTrz/0KSNKVxgn4DcEKS45McDJwLrB1aZy1wXj9/NnBTVVWSpf2XuSR5IXACsH12ui5JGse0QzdVtSvJhcB6YBFwVVVtTrIG2FhVa4ErgauTbAMeoXszAHgtsCbJE8BTwL+sqkfm4h+RJE1urDH6qloHrBtqe9/A/N8D50xS9xngM3vZR0nSXvDIWElqnEEvSY3z7JUai2eUlBYug36BMngljcuhG0lqnEEvSY1z6EbNcDhLmpxb9JLUOINekhpn0EtS4wx6SWqcQS9JjTPoJalxBr0kNc6gl6TGecCUNM88sEvzzS16SWqcW/SSJuUnj3a4RS9JjTPoJalxBr0kNc6gl6TGGfSS1Dj3upH2kHulaKEw6A8whpN04HHoRpIaZ9BLUuMcutGccqhI2vcMeqlx8/1m65v7/sehG0lqnEEvSY1z6EbSguZQ0fTcopekxrlFrwOeW4T7Bx+HuTNW0CdZAXwYWAT8SVVdMrT8EOATwKnAw8Bbqur+ftm/BS4AngQuqqr1s9Z7SVog9uUb2bRBn2QRcBnwBmAHsCHJ2qq6Z2C1C4BHq+pFSc4FLgXekuQk4FzgZcALgC8keXFVPTnb/4jUOrd4Z9eBdH+Os0W/HNhWVdsBklwDrAQGg34l8Dv9/HXAR5Kkb7+mqh4D7kuyrb++r8xO9yVpfi3EN4hU1egVkrOBFVX1z/vL/ww4raouHFjn7n6dHf3le4HT6ML/lqr6ZN9+JXB9VV03dBurgFX9xZcAW6fozpHA383kH7TOOusOqLqF0Me5qjuuqpZOtmC/+DK2qq4ArphuvSQbq2piptdvnXXWHRh1C6GP+6JunN0rHwKOGbh8dN826TpJFgOH030pO06tJGkOjRP0G4ATkhyf5GC6L1fXDq2zFjivnz8buKm6MaG1wLlJDklyPHAC8NXZ6bokaRzTDt1U1a4kFwLr6XavvKqqNidZA2ysqrXAlcDV/Zetj9C9GdCvdy3dF7e7gN/ayz1uph3esc466w7ouoXQx3mvm/bLWEnSwuYpECSpcQa9JDXOoJekxu0X+9FPJcmJdEfXHtU3PQSsraotc3h7RwG3VtX3B9pXVNUNI+qWA1VVG/rTPqwAvl5V62Z4+5+oqrfPsOYX6Y42vruqPj9ivdOALVX1vSQ/BawGXkn3RfkHquq7U9RdBPzXqnpwhv3avYfW/6mqLyR5G/BqYAtwRVU9MaL2hcCv0e2a+yTwv4FPVdX3ZtIHSZ39dos+yXuAa4DQ7ZL51X7+L5Ks3ovr/Y0p2i8CPge8A7g7ycqBxR8YcX0XA/8F+FiSDwIfAX4aWJ3kvSPq1g5N/w34td2XR9R9dWD+X/S39zPAxdPcL1cBP+jnP0x3rMOlfdvHR9S9H7g1yf9M8ptJJj3ybhIfB94MvDPJ1cA5wK3Aq4A/maqofxz+CHhmv+4hdIF/S5LXj3nbB4Qk/2Ceb++I+by9uZLk8CSXJPl6kkeSPJxkS9/27D28zutHLHtWkg8mubrf4Blc9tERdc9L8rEklyU5IsnvJNmU5Nokz59RB6tqv5zotuKeMUn7wcA39uJ6H5iifRNwWD+/DNgIvLO/fMeI69tEt9vpocD3gGf17T8F3DWi7nbgk8Drgdf1f7/Vz79uRN0dA/MbgKX9/E8Dm0bUbRm87aFld466PboNgjPodqPdCdxAd9zEz4you6v/uxj4NrCov5xp7pdNA+seCnypnz92msfhcOAS4Ot0u/g+TPfp4RLg2Xv4XLl+xLJnAR8ErgbeNrTsoyPqngd8jO5EgUfQnSZkE3At8PwRdc8Zmo4A7geWAM8ZUbdi6D66ErgL+BTw3BF1lwBH9vMTwHZgG/DNaZ6ftwP/DvjZGd7XE8DN/WviGOBG4Lv9c/yUEXWHAWuAzf36O4FbgPNH1KwH3gM8b+hxeQ/w+RF1r5xiOhX41oi6z/T351l0xxZ9BjhkstfiUN0NdBueq/vH7D39ffMO4HMzun/35AUwH1P/gj1ukvbjgK3T1N41xbQJeGyKms2TPIFuAP6AaYJwsvn+8qi6g4B39U/ok/u27WPcL1/rX9xH0B3HMGlfJqn7NPAb/fzHgYl+/sXAhhF1w28KzwDOBP4C2Dmi7m66N+UlwP+jDyO6LfUtI+o2DbwIlgz+j3TDU1PVNf3iBZ4C7huanuj/Tvm8GewL3Sep3+1fQ+8CPjvqcRiYvxl41cDzZeOIuvuA3wceoPsU/i7gBWM8r78KvAl4K/AgcHbf/ivAV0bUfQ44n+6o+3cD/57uwMw/oxuSnKxmyvyYZtmTwE39/TE8/XBE3Z1Dl98L/DXda3jUc2UwWx4YdZ3T3r8zWXk+J7px7m3A9XQHCVzRv0i2MbCVMkXtt4GT+yf04LSMbsx4spqb6AN3oG0x3Xn2nxxxW7cCh/bzBw20Hz7qQRxY72i6EP7I8IM5xfr3021d3df/fX7fftioB7/vz58C9/Z9fqKv/zLwinGebJMsO3TEsnf11/9N4CLgi8Af0wX5xSPq3kkXgH9M92a/+81pKfA/RtQ1/eIFfrt//r98oO2+MZ4vt091/dPc3hZgcT9/y9CyUZ8cB2/vl4CPAn/b35+r9vB+GfUc/NrQ5Q3934PoviebrObzwL9h4BMN8Fy6N90vjLitu4ETplj24DT35UFDbefTfQr55jj/G/C74z4Gk17XTFae76l/sH4B+Cf99Av0H+unqbsS+MUpln1qivajGdgaHFr2mhG3dcgU7UcOvijH6PObmWILZMz6Q4Hjx1jvWcAr6LZYp/zoPrD+i/eiTy+g35oDnk13eozlY9S9rF/3xBncVvMvXp7eKPgDuu9lxvkEuINuS/e36d54M7Bs1BDaO/r79B/RDS99mG5Y8T8AV4+o+4k3ObqhzRXAx0fUfYVuePAcuo2Ds/r21zH6E8Tf7H6t033SXD+wbNI3eLpPipfSbUg8SjfUt6VvGzUMdjbwkimWnTWi7kPA6ZO0r2DEMDTdkNRhk7S/CLhunNfFj2pmsrKT0/46Db14Hxl68S4ZUbfgXrx9oN0C/O0Y6148NO3+Tud5wCemqX098Jd039NsAtbRnU588Yiaa/bw8XsF3fDb9cCJ/RvL/6V743z1iLqfpxv2eRT4X/QbJnSfAC8aUXcicPrwY8H0owUn0g0nzVbdm+bi9n7ievbkQXFyWkgT/fBPS3V0X/b/3P7ez/2xjm4ocSvwWbqh0JUDy0YNu+1p3Tvms27S69qTO9DJaSFNjPHdh3UHTh17t4fdfl832bRfHzAljSvJXVMtohurt8663Q6q/oDIqrq/Pz7juiTH9XVTWSh1P8GgVyueC7yRbqx2UOi+sLPOut2+neTkqroToKq+n+RX6Q4qfPmI21oodT/BoFcr/jvdx9w7hxck+ZJ11g14O93vY/xIVe0C3p7k8hG3tVDqfoLno5ekxu2357qRJM0Og16SGmfQ64CX5PvTLF+W5O4ZXuefJjl773omzQ6DXpIaZ9BLvSSHJfliktv7834P/ibB4iR/3p+3/Lokh/Y1pyb5cpLbkqyf8XnCpXlg0EtP+3vgH1fVK4FfBv5Tkt0HpryE7jzzL6X73YHfTPIM4A/pTql7Kt3+zf9xH/RbGsn96KWnBfhAktfSnf/9KJ4+uvLBqvrrfv6TdOc9uQH4OeDG/v1gEd2Px0j7FYNeeto/pTvr4alV9USS++l+KAVg+ICTontj2FxV/3D+uijNnEM30tMOB77Th/wv0/1YzW7HJtkd6G+jOyXuVmDp7vYkz0jysnntsTQGg1562p8DE0k20R1+/vWBZVuB30qyhe7c9x+rqsfpzmd/aZKvAXcCr57nPkvT8hQIktQ4t+glqXEGvSQ1zqCXpMYZ9JLUOINekhpn0EtS4wx6SWqcQS9Jjfv/CsXjH4O+grEAAAAASUVORK5CYII=\n"
                },
                "metadata": {
                  "needs_background": "light"
                }
              }
            ]
          }
        },
        "bc08e4835a49456f8e222f51f036d1d5": {
          "model_module": "@jupyter-widgets/base",
          "model_name": "LayoutModel",
          "model_module_version": "1.2.0",
          "state": {
            "_model_module": "@jupyter-widgets/base",
            "_model_module_version": "1.2.0",
            "_model_name": "LayoutModel",
            "_view_count": null,
            "_view_module": "@jupyter-widgets/base",
            "_view_module_version": "1.2.0",
            "_view_name": "LayoutView",
            "align_content": null,
            "align_items": null,
            "align_self": null,
            "border": null,
            "bottom": null,
            "display": null,
            "flex": null,
            "flex_flow": null,
            "grid_area": null,
            "grid_auto_columns": null,
            "grid_auto_flow": null,
            "grid_auto_rows": null,
            "grid_column": null,
            "grid_gap": null,
            "grid_row": null,
            "grid_template_areas": null,
            "grid_template_columns": null,
            "grid_template_rows": null,
            "height": null,
            "justify_content": null,
            "justify_items": null,
            "left": null,
            "margin": null,
            "max_height": null,
            "max_width": null,
            "min_height": null,
            "min_width": null,
            "object_fit": null,
            "object_position": null,
            "order": null,
            "overflow": null,
            "overflow_x": null,
            "overflow_y": null,
            "padding": null,
            "right": null,
            "top": null,
            "visibility": null,
            "width": null
          }
        },
        "1c5f784edb124364b0e88917a88197f6": {
          "model_module": "@jupyter-widgets/base",
          "model_name": "LayoutModel",
          "model_module_version": "1.2.0",
          "state": {
            "_model_module": "@jupyter-widgets/base",
            "_model_module_version": "1.2.0",
            "_model_name": "LayoutModel",
            "_view_count": null,
            "_view_module": "@jupyter-widgets/base",
            "_view_module_version": "1.2.0",
            "_view_name": "LayoutView",
            "align_content": null,
            "align_items": null,
            "align_self": null,
            "border": null,
            "bottom": null,
            "display": null,
            "flex": null,
            "flex_flow": null,
            "grid_area": null,
            "grid_auto_columns": null,
            "grid_auto_flow": null,
            "grid_auto_rows": null,
            "grid_column": null,
            "grid_gap": null,
            "grid_row": null,
            "grid_template_areas": null,
            "grid_template_columns": null,
            "grid_template_rows": null,
            "height": null,
            "justify_content": null,
            "justify_items": null,
            "left": null,
            "margin": null,
            "max_height": null,
            "max_width": null,
            "min_height": null,
            "min_width": null,
            "object_fit": null,
            "object_position": null,
            "order": null,
            "overflow": null,
            "overflow_x": null,
            "overflow_y": null,
            "padding": null,
            "right": null,
            "top": null,
            "visibility": null,
            "width": null
          }
        },
        "b2291094bc544e54b8abb456a5ca08ba": {
          "model_module": "@jupyter-widgets/controls",
          "model_name": "DescriptionStyleModel",
          "model_module_version": "1.5.0",
          "state": {
            "_model_module": "@jupyter-widgets/controls",
            "_model_module_version": "1.5.0",
            "_model_name": "DescriptionStyleModel",
            "_view_count": null,
            "_view_module": "@jupyter-widgets/base",
            "_view_module_version": "1.2.0",
            "_view_name": "StyleView",
            "description_width": ""
          }
        },
        "246c930f009b47d29144cfacfc0d0c4a": {
          "model_module": "@jupyter-widgets/base",
          "model_name": "LayoutModel",
          "model_module_version": "1.2.0",
          "state": {
            "_model_module": "@jupyter-widgets/base",
            "_model_module_version": "1.2.0",
            "_model_name": "LayoutModel",
            "_view_count": null,
            "_view_module": "@jupyter-widgets/base",
            "_view_module_version": "1.2.0",
            "_view_name": "LayoutView",
            "align_content": null,
            "align_items": null,
            "align_self": null,
            "border": null,
            "bottom": null,
            "display": null,
            "flex": null,
            "flex_flow": null,
            "grid_area": null,
            "grid_auto_columns": null,
            "grid_auto_flow": null,
            "grid_auto_rows": null,
            "grid_column": null,
            "grid_gap": null,
            "grid_row": null,
            "grid_template_areas": null,
            "grid_template_columns": null,
            "grid_template_rows": null,
            "height": null,
            "justify_content": null,
            "justify_items": null,
            "left": null,
            "margin": null,
            "max_height": null,
            "max_width": null,
            "min_height": null,
            "min_width": null,
            "object_fit": null,
            "object_position": null,
            "order": null,
            "overflow": null,
            "overflow_x": null,
            "overflow_y": null,
            "padding": null,
            "right": null,
            "top": null,
            "visibility": null,
            "width": null
          }
        },
        "21b7327c14144a7382d85d7bb8c92288": {
          "model_module": "@jupyter-widgets/controls",
          "model_name": "HBoxModel",
          "model_module_version": "1.5.0",
          "state": {
            "_dom_classes": [],
            "_model_module": "@jupyter-widgets/controls",
            "_model_module_version": "1.5.0",
            "_model_name": "HBoxModel",
            "_view_count": null,
            "_view_module": "@jupyter-widgets/controls",
            "_view_module_version": "1.5.0",
            "_view_name": "HBoxView",
            "box_style": "",
            "children": [
              "IPY_MODEL_d00e68b5d5c14f33a59b8e86c26ae3b0",
              "IPY_MODEL_345a5a36a1b14af082cedcc4fc765653",
              "IPY_MODEL_43d0afd07bee4c9581ac1ffd927f98ed"
            ],
            "layout": "IPY_MODEL_0ded7810810b4a32b76ef5ce15b5e721"
          }
        },
        "d00e68b5d5c14f33a59b8e86c26ae3b0": {
          "model_module": "@jupyter-widgets/controls",
          "model_name": "HTMLModel",
          "model_module_version": "1.5.0",
          "state": {
            "_dom_classes": [],
            "_model_module": "@jupyter-widgets/controls",
            "_model_module_version": "1.5.0",
            "_model_name": "HTMLModel",
            "_view_count": null,
            "_view_module": "@jupyter-widgets/controls",
            "_view_module_version": "1.5.0",
            "_view_name": "HTMLView",
            "description": "",
            "description_tooltip": null,
            "layout": "IPY_MODEL_aba00a9c38734bf781b3e76290c2fe8a",
            "placeholder": "​",
            "style": "IPY_MODEL_8249c4c53c4a46d5ace1a3ae5ea2e98d",
            "value": "Downloading pytorch_model.bin: 100%"
          }
        },
        "345a5a36a1b14af082cedcc4fc765653": {
          "model_module": "@jupyter-widgets/controls",
          "model_name": "FloatProgressModel",
          "model_module_version": "1.5.0",
          "state": {
            "_dom_classes": [],
            "_model_module": "@jupyter-widgets/controls",
            "_model_module_version": "1.5.0",
            "_model_name": "FloatProgressModel",
            "_view_count": null,
            "_view_module": "@jupyter-widgets/controls",
            "_view_module_version": "1.5.0",
            "_view_name": "ProgressView",
            "bar_style": "success",
            "description": "",
            "description_tooltip": null,
            "layout": "IPY_MODEL_07a9acb7fa0e47b3802f0295974c686a",
            "max": 47679974,
            "min": 0,
            "orientation": "horizontal",
            "style": "IPY_MODEL_a83b2feed6404eee98ed14cad43a67d5",
            "value": 47679974
          }
        },
        "43d0afd07bee4c9581ac1ffd927f98ed": {
          "model_module": "@jupyter-widgets/controls",
          "model_name": "HTMLModel",
          "model_module_version": "1.5.0",
          "state": {
            "_dom_classes": [],
            "_model_module": "@jupyter-widgets/controls",
            "_model_module_version": "1.5.0",
            "_model_name": "HTMLModel",
            "_view_count": null,
            "_view_module": "@jupyter-widgets/controls",
            "_view_module_version": "1.5.0",
            "_view_name": "HTMLView",
            "description": "",
            "description_tooltip": null,
            "layout": "IPY_MODEL_5860650bf02549f99bb06de9051cab68",
            "placeholder": "​",
            "style": "IPY_MODEL_e4a61485e9d9452b89619a0139c20ca4",
            "value": " 45.5M/45.5M [00:01&lt;00:00, 27.8MB/s]"
          }
        },
        "0ded7810810b4a32b76ef5ce15b5e721": {
          "model_module": "@jupyter-widgets/base",
          "model_name": "LayoutModel",
          "model_module_version": "1.2.0",
          "state": {
            "_model_module": "@jupyter-widgets/base",
            "_model_module_version": "1.2.0",
            "_model_name": "LayoutModel",
            "_view_count": null,
            "_view_module": "@jupyter-widgets/base",
            "_view_module_version": "1.2.0",
            "_view_name": "LayoutView",
            "align_content": null,
            "align_items": null,
            "align_self": null,
            "border": null,
            "bottom": null,
            "display": null,
            "flex": null,
            "flex_flow": null,
            "grid_area": null,
            "grid_auto_columns": null,
            "grid_auto_flow": null,
            "grid_auto_rows": null,
            "grid_column": null,
            "grid_gap": null,
            "grid_row": null,
            "grid_template_areas": null,
            "grid_template_columns": null,
            "grid_template_rows": null,
            "height": null,
            "justify_content": null,
            "justify_items": null,
            "left": null,
            "margin": null,
            "max_height": null,
            "max_width": null,
            "min_height": null,
            "min_width": null,
            "object_fit": null,
            "object_position": null,
            "order": null,
            "overflow": null,
            "overflow_x": null,
            "overflow_y": null,
            "padding": null,
            "right": null,
            "top": null,
            "visibility": null,
            "width": null
          }
        },
        "aba00a9c38734bf781b3e76290c2fe8a": {
          "model_module": "@jupyter-widgets/base",
          "model_name": "LayoutModel",
          "model_module_version": "1.2.0",
          "state": {
            "_model_module": "@jupyter-widgets/base",
            "_model_module_version": "1.2.0",
            "_model_name": "LayoutModel",
            "_view_count": null,
            "_view_module": "@jupyter-widgets/base",
            "_view_module_version": "1.2.0",
            "_view_name": "LayoutView",
            "align_content": null,
            "align_items": null,
            "align_self": null,
            "border": null,
            "bottom": null,
            "display": null,
            "flex": null,
            "flex_flow": null,
            "grid_area": null,
            "grid_auto_columns": null,
            "grid_auto_flow": null,
            "grid_auto_rows": null,
            "grid_column": null,
            "grid_gap": null,
            "grid_row": null,
            "grid_template_areas": null,
            "grid_template_columns": null,
            "grid_template_rows": null,
            "height": null,
            "justify_content": null,
            "justify_items": null,
            "left": null,
            "margin": null,
            "max_height": null,
            "max_width": null,
            "min_height": null,
            "min_width": null,
            "object_fit": null,
            "object_position": null,
            "order": null,
            "overflow": null,
            "overflow_x": null,
            "overflow_y": null,
            "padding": null,
            "right": null,
            "top": null,
            "visibility": null,
            "width": null
          }
        },
        "8249c4c53c4a46d5ace1a3ae5ea2e98d": {
          "model_module": "@jupyter-widgets/controls",
          "model_name": "DescriptionStyleModel",
          "model_module_version": "1.5.0",
          "state": {
            "_model_module": "@jupyter-widgets/controls",
            "_model_module_version": "1.5.0",
            "_model_name": "DescriptionStyleModel",
            "_view_count": null,
            "_view_module": "@jupyter-widgets/base",
            "_view_module_version": "1.2.0",
            "_view_name": "StyleView",
            "description_width": ""
          }
        },
        "07a9acb7fa0e47b3802f0295974c686a": {
          "model_module": "@jupyter-widgets/base",
          "model_name": "LayoutModel",
          "model_module_version": "1.2.0",
          "state": {
            "_model_module": "@jupyter-widgets/base",
            "_model_module_version": "1.2.0",
            "_model_name": "LayoutModel",
            "_view_count": null,
            "_view_module": "@jupyter-widgets/base",
            "_view_module_version": "1.2.0",
            "_view_name": "LayoutView",
            "align_content": null,
            "align_items": null,
            "align_self": null,
            "border": null,
            "bottom": null,
            "display": null,
            "flex": null,
            "flex_flow": null,
            "grid_area": null,
            "grid_auto_columns": null,
            "grid_auto_flow": null,
            "grid_auto_rows": null,
            "grid_column": null,
            "grid_gap": null,
            "grid_row": null,
            "grid_template_areas": null,
            "grid_template_columns": null,
            "grid_template_rows": null,
            "height": null,
            "justify_content": null,
            "justify_items": null,
            "left": null,
            "margin": null,
            "max_height": null,
            "max_width": null,
            "min_height": null,
            "min_width": null,
            "object_fit": null,
            "object_position": null,
            "order": null,
            "overflow": null,
            "overflow_x": null,
            "overflow_y": null,
            "padding": null,
            "right": null,
            "top": null,
            "visibility": null,
            "width": null
          }
        },
        "a83b2feed6404eee98ed14cad43a67d5": {
          "model_module": "@jupyter-widgets/controls",
          "model_name": "ProgressStyleModel",
          "model_module_version": "1.5.0",
          "state": {
            "_model_module": "@jupyter-widgets/controls",
            "_model_module_version": "1.5.0",
            "_model_name": "ProgressStyleModel",
            "_view_count": null,
            "_view_module": "@jupyter-widgets/base",
            "_view_module_version": "1.2.0",
            "_view_name": "StyleView",
            "bar_color": null,
            "description_width": ""
          }
        },
        "5860650bf02549f99bb06de9051cab68": {
          "model_module": "@jupyter-widgets/base",
          "model_name": "LayoutModel",
          "model_module_version": "1.2.0",
          "state": {
            "_model_module": "@jupyter-widgets/base",
            "_model_module_version": "1.2.0",
            "_model_name": "LayoutModel",
            "_view_count": null,
            "_view_module": "@jupyter-widgets/base",
            "_view_module_version": "1.2.0",
            "_view_name": "LayoutView",
            "align_content": null,
            "align_items": null,
            "align_self": null,
            "border": null,
            "bottom": null,
            "display": null,
            "flex": null,
            "flex_flow": null,
            "grid_area": null,
            "grid_auto_columns": null,
            "grid_auto_flow": null,
            "grid_auto_rows": null,
            "grid_column": null,
            "grid_gap": null,
            "grid_row": null,
            "grid_template_areas": null,
            "grid_template_columns": null,
            "grid_template_rows": null,
            "height": null,
            "justify_content": null,
            "justify_items": null,
            "left": null,
            "margin": null,
            "max_height": null,
            "max_width": null,
            "min_height": null,
            "min_width": null,
            "object_fit": null,
            "object_position": null,
            "order": null,
            "overflow": null,
            "overflow_x": null,
            "overflow_y": null,
            "padding": null,
            "right": null,
            "top": null,
            "visibility": null,
            "width": null
          }
        },
        "e4a61485e9d9452b89619a0139c20ca4": {
          "model_module": "@jupyter-widgets/controls",
          "model_name": "DescriptionStyleModel",
          "model_module_version": "1.5.0",
          "state": {
            "_model_module": "@jupyter-widgets/controls",
            "_model_module_version": "1.5.0",
            "_model_name": "DescriptionStyleModel",
            "_view_count": null,
            "_view_module": "@jupyter-widgets/base",
            "_view_module_version": "1.2.0",
            "_view_name": "StyleView",
            "description_width": ""
          }
        },
        "1f4fabeacd5d41cb9127f2c0e40e1652": {
          "model_module": "@jupyter-widgets/controls",
          "model_name": "HBoxModel",
          "model_module_version": "1.5.0",
          "state": {
            "_dom_classes": [],
            "_model_module": "@jupyter-widgets/controls",
            "_model_module_version": "1.5.0",
            "_model_name": "HBoxModel",
            "_view_count": null,
            "_view_module": "@jupyter-widgets/controls",
            "_view_module_version": "1.5.0",
            "_view_name": "HBoxView",
            "box_style": "",
            "children": [
              "IPY_MODEL_d40fd5666b474508be5aab90b0fd3dcb",
              "IPY_MODEL_1d7ecce44fd64b7eb30338cad67733dd",
              "IPY_MODEL_6d376869f8174a8ba3302e68fecec358"
            ],
            "layout": "IPY_MODEL_98ff8612968b4b18a5db2731a1ac46f6"
          }
        },
        "d40fd5666b474508be5aab90b0fd3dcb": {
          "model_module": "@jupyter-widgets/controls",
          "model_name": "HTMLModel",
          "model_module_version": "1.5.0",
          "state": {
            "_dom_classes": [],
            "_model_module": "@jupyter-widgets/controls",
            "_model_module_version": "1.5.0",
            "_model_name": "HTMLModel",
            "_view_count": null,
            "_view_module": "@jupyter-widgets/controls",
            "_view_module_version": "1.5.0",
            "_view_name": "HTMLView",
            "description": "",
            "description_tooltip": null,
            "layout": "IPY_MODEL_360772a8aaa94c3fa804a1d49f9a0f7a",
            "placeholder": "​",
            "style": "IPY_MODEL_f2bba40ddbd94cc88b0026b76bf1f4a2",
            "value": "Downloading builder script: "
          }
        },
        "1d7ecce44fd64b7eb30338cad67733dd": {
          "model_module": "@jupyter-widgets/controls",
          "model_name": "FloatProgressModel",
          "model_module_version": "1.5.0",
          "state": {
            "_dom_classes": [],
            "_model_module": "@jupyter-widgets/controls",
            "_model_module_version": "1.5.0",
            "_model_name": "FloatProgressModel",
            "_view_count": null,
            "_view_module": "@jupyter-widgets/controls",
            "_view_module_version": "1.5.0",
            "_view_name": "ProgressView",
            "bar_style": "success",
            "description": "",
            "description_tooltip": null,
            "layout": "IPY_MODEL_7f3940018f8b41749bc8efe717ed11fc",
            "max": 2318,
            "min": 0,
            "orientation": "horizontal",
            "style": "IPY_MODEL_463c6d67be954e458e7a47386c0e5b33",
            "value": 2318
          }
        },
        "6d376869f8174a8ba3302e68fecec358": {
          "model_module": "@jupyter-widgets/controls",
          "model_name": "HTMLModel",
          "model_module_version": "1.5.0",
          "state": {
            "_dom_classes": [],
            "_model_module": "@jupyter-widgets/controls",
            "_model_module_version": "1.5.0",
            "_model_name": "HTMLModel",
            "_view_count": null,
            "_view_module": "@jupyter-widgets/controls",
            "_view_module_version": "1.5.0",
            "_view_name": "HTMLView",
            "description": "",
            "description_tooltip": null,
            "layout": "IPY_MODEL_d4c6df4dca4e408580fa081e611520fb",
            "placeholder": "​",
            "style": "IPY_MODEL_6e719577ec0648c399c020bd9e0f77ee",
            "value": " 6.50k/? [00:00&lt;00:00, 82.3kB/s]"
          }
        },
        "98ff8612968b4b18a5db2731a1ac46f6": {
          "model_module": "@jupyter-widgets/base",
          "model_name": "LayoutModel",
          "model_module_version": "1.2.0",
          "state": {
            "_model_module": "@jupyter-widgets/base",
            "_model_module_version": "1.2.0",
            "_model_name": "LayoutModel",
            "_view_count": null,
            "_view_module": "@jupyter-widgets/base",
            "_view_module_version": "1.2.0",
            "_view_name": "LayoutView",
            "align_content": null,
            "align_items": null,
            "align_self": null,
            "border": null,
            "bottom": null,
            "display": null,
            "flex": null,
            "flex_flow": null,
            "grid_area": null,
            "grid_auto_columns": null,
            "grid_auto_flow": null,
            "grid_auto_rows": null,
            "grid_column": null,
            "grid_gap": null,
            "grid_row": null,
            "grid_template_areas": null,
            "grid_template_columns": null,
            "grid_template_rows": null,
            "height": null,
            "justify_content": null,
            "justify_items": null,
            "left": null,
            "margin": null,
            "max_height": null,
            "max_width": null,
            "min_height": null,
            "min_width": null,
            "object_fit": null,
            "object_position": null,
            "order": null,
            "overflow": null,
            "overflow_x": null,
            "overflow_y": null,
            "padding": null,
            "right": null,
            "top": null,
            "visibility": null,
            "width": null
          }
        },
        "360772a8aaa94c3fa804a1d49f9a0f7a": {
          "model_module": "@jupyter-widgets/base",
          "model_name": "LayoutModel",
          "model_module_version": "1.2.0",
          "state": {
            "_model_module": "@jupyter-widgets/base",
            "_model_module_version": "1.2.0",
            "_model_name": "LayoutModel",
            "_view_count": null,
            "_view_module": "@jupyter-widgets/base",
            "_view_module_version": "1.2.0",
            "_view_name": "LayoutView",
            "align_content": null,
            "align_items": null,
            "align_self": null,
            "border": null,
            "bottom": null,
            "display": null,
            "flex": null,
            "flex_flow": null,
            "grid_area": null,
            "grid_auto_columns": null,
            "grid_auto_flow": null,
            "grid_auto_rows": null,
            "grid_column": null,
            "grid_gap": null,
            "grid_row": null,
            "grid_template_areas": null,
            "grid_template_columns": null,
            "grid_template_rows": null,
            "height": null,
            "justify_content": null,
            "justify_items": null,
            "left": null,
            "margin": null,
            "max_height": null,
            "max_width": null,
            "min_height": null,
            "min_width": null,
            "object_fit": null,
            "object_position": null,
            "order": null,
            "overflow": null,
            "overflow_x": null,
            "overflow_y": null,
            "padding": null,
            "right": null,
            "top": null,
            "visibility": null,
            "width": null
          }
        },
        "f2bba40ddbd94cc88b0026b76bf1f4a2": {
          "model_module": "@jupyter-widgets/controls",
          "model_name": "DescriptionStyleModel",
          "model_module_version": "1.5.0",
          "state": {
            "_model_module": "@jupyter-widgets/controls",
            "_model_module_version": "1.5.0",
            "_model_name": "DescriptionStyleModel",
            "_view_count": null,
            "_view_module": "@jupyter-widgets/base",
            "_view_module_version": "1.2.0",
            "_view_name": "StyleView",
            "description_width": ""
          }
        },
        "7f3940018f8b41749bc8efe717ed11fc": {
          "model_module": "@jupyter-widgets/base",
          "model_name": "LayoutModel",
          "model_module_version": "1.2.0",
          "state": {
            "_model_module": "@jupyter-widgets/base",
            "_model_module_version": "1.2.0",
            "_model_name": "LayoutModel",
            "_view_count": null,
            "_view_module": "@jupyter-widgets/base",
            "_view_module_version": "1.2.0",
            "_view_name": "LayoutView",
            "align_content": null,
            "align_items": null,
            "align_self": null,
            "border": null,
            "bottom": null,
            "display": null,
            "flex": null,
            "flex_flow": null,
            "grid_area": null,
            "grid_auto_columns": null,
            "grid_auto_flow": null,
            "grid_auto_rows": null,
            "grid_column": null,
            "grid_gap": null,
            "grid_row": null,
            "grid_template_areas": null,
            "grid_template_columns": null,
            "grid_template_rows": null,
            "height": null,
            "justify_content": null,
            "justify_items": null,
            "left": null,
            "margin": null,
            "max_height": null,
            "max_width": null,
            "min_height": null,
            "min_width": null,
            "object_fit": null,
            "object_position": null,
            "order": null,
            "overflow": null,
            "overflow_x": null,
            "overflow_y": null,
            "padding": null,
            "right": null,
            "top": null,
            "visibility": null,
            "width": null
          }
        },
        "463c6d67be954e458e7a47386c0e5b33": {
          "model_module": "@jupyter-widgets/controls",
          "model_name": "ProgressStyleModel",
          "model_module_version": "1.5.0",
          "state": {
            "_model_module": "@jupyter-widgets/controls",
            "_model_module_version": "1.5.0",
            "_model_name": "ProgressStyleModel",
            "_view_count": null,
            "_view_module": "@jupyter-widgets/base",
            "_view_module_version": "1.2.0",
            "_view_name": "StyleView",
            "bar_color": null,
            "description_width": ""
          }
        },
        "d4c6df4dca4e408580fa081e611520fb": {
          "model_module": "@jupyter-widgets/base",
          "model_name": "LayoutModel",
          "model_module_version": "1.2.0",
          "state": {
            "_model_module": "@jupyter-widgets/base",
            "_model_module_version": "1.2.0",
            "_model_name": "LayoutModel",
            "_view_count": null,
            "_view_module": "@jupyter-widgets/base",
            "_view_module_version": "1.2.0",
            "_view_name": "LayoutView",
            "align_content": null,
            "align_items": null,
            "align_self": null,
            "border": null,
            "bottom": null,
            "display": null,
            "flex": null,
            "flex_flow": null,
            "grid_area": null,
            "grid_auto_columns": null,
            "grid_auto_flow": null,
            "grid_auto_rows": null,
            "grid_column": null,
            "grid_gap": null,
            "grid_row": null,
            "grid_template_areas": null,
            "grid_template_columns": null,
            "grid_template_rows": null,
            "height": null,
            "justify_content": null,
            "justify_items": null,
            "left": null,
            "margin": null,
            "max_height": null,
            "max_width": null,
            "min_height": null,
            "min_width": null,
            "object_fit": null,
            "object_position": null,
            "order": null,
            "overflow": null,
            "overflow_x": null,
            "overflow_y": null,
            "padding": null,
            "right": null,
            "top": null,
            "visibility": null,
            "width": null
          }
        },
        "6e719577ec0648c399c020bd9e0f77ee": {
          "model_module": "@jupyter-widgets/controls",
          "model_name": "DescriptionStyleModel",
          "model_module_version": "1.5.0",
          "state": {
            "_model_module": "@jupyter-widgets/controls",
            "_model_module_version": "1.5.0",
            "_model_name": "DescriptionStyleModel",
            "_view_count": null,
            "_view_module": "@jupyter-widgets/base",
            "_view_module_version": "1.2.0",
            "_view_name": "StyleView",
            "description_width": ""
          }
        },
        "a0a46819f0a0461b967be901c4f75526": {
          "model_module": "@jupyter-widgets/controls",
          "model_name": "VBoxModel",
          "model_module_version": "1.5.0",
          "state": {
            "_dom_classes": [
              "widget-interact"
            ],
            "_model_module": "@jupyter-widgets/controls",
            "_model_module_version": "1.5.0",
            "_model_name": "VBoxModel",
            "_view_count": null,
            "_view_module": "@jupyter-widgets/controls",
            "_view_module_version": "1.5.0",
            "_view_name": "VBoxView",
            "box_style": "",
            "children": [
              "IPY_MODEL_33fa34d7ae7046ada0f81875275d2dd6",
              "IPY_MODEL_4526757e19e14dfa86aeae8ad7e675e2"
            ],
            "layout": "IPY_MODEL_98e615a52b1b405faf46969d83335b8d"
          }
        },
        "33fa34d7ae7046ada0f81875275d2dd6": {
          "model_module": "@jupyter-widgets/controls",
          "model_name": "TextModel",
          "model_module_version": "1.5.0",
          "state": {
            "_dom_classes": [],
            "_model_module": "@jupyter-widgets/controls",
            "_model_module_version": "1.5.0",
            "_model_name": "TextModel",
            "_view_count": null,
            "_view_module": "@jupyter-widgets/controls",
            "_view_module_version": "1.5.0",
            "_view_name": "TextView",
            "continuous_update": true,
            "description": "Текст",
            "description_tooltip": null,
            "disabled": false,
            "layout": "IPY_MODEL_97ddd20b6d7142118f4ee7ab5a1f4f79",
            "placeholder": "​",
            "style": "IPY_MODEL_306de7a8be8f4e05937088f2795d09a9",
            "value": "Сырок чебаркульский"
          }
        },
        "4526757e19e14dfa86aeae8ad7e675e2": {
          "model_module": "@jupyter-widgets/output",
          "model_name": "OutputModel",
          "model_module_version": "1.0.0",
          "state": {
            "_dom_classes": [],
            "_model_module": "@jupyter-widgets/output",
            "_model_module_version": "1.0.0",
            "_model_name": "OutputModel",
            "_view_count": null,
            "_view_module": "@jupyter-widgets/output",
            "_view_module_version": "1.0.0",
            "_view_name": "OutputView",
            "layout": "IPY_MODEL_1854e1b60f854704bf1355d37dcb9e5d",
            "msg_id": "",
            "outputs": [
              {
                "output_type": "display_data",
                "data": {
                  "text/plain": "'Молоко и молочная продукция'",
                  "application/vnd.google.colaboratory.intrinsic+json": {
                    "type": "string"
                  }
                },
                "metadata": {}
              }
            ]
          }
        },
        "98e615a52b1b405faf46969d83335b8d": {
          "model_module": "@jupyter-widgets/base",
          "model_name": "LayoutModel",
          "model_module_version": "1.2.0",
          "state": {
            "_model_module": "@jupyter-widgets/base",
            "_model_module_version": "1.2.0",
            "_model_name": "LayoutModel",
            "_view_count": null,
            "_view_module": "@jupyter-widgets/base",
            "_view_module_version": "1.2.0",
            "_view_name": "LayoutView",
            "align_content": null,
            "align_items": null,
            "align_self": null,
            "border": null,
            "bottom": null,
            "display": null,
            "flex": null,
            "flex_flow": null,
            "grid_area": null,
            "grid_auto_columns": null,
            "grid_auto_flow": null,
            "grid_auto_rows": null,
            "grid_column": null,
            "grid_gap": null,
            "grid_row": null,
            "grid_template_areas": null,
            "grid_template_columns": null,
            "grid_template_rows": null,
            "height": null,
            "justify_content": null,
            "justify_items": null,
            "left": null,
            "margin": null,
            "max_height": null,
            "max_width": null,
            "min_height": null,
            "min_width": null,
            "object_fit": null,
            "object_position": null,
            "order": null,
            "overflow": null,
            "overflow_x": null,
            "overflow_y": null,
            "padding": null,
            "right": null,
            "top": null,
            "visibility": null,
            "width": null
          }
        },
        "97ddd20b6d7142118f4ee7ab5a1f4f79": {
          "model_module": "@jupyter-widgets/base",
          "model_name": "LayoutModel",
          "model_module_version": "1.2.0",
          "state": {
            "_model_module": "@jupyter-widgets/base",
            "_model_module_version": "1.2.0",
            "_model_name": "LayoutModel",
            "_view_count": null,
            "_view_module": "@jupyter-widgets/base",
            "_view_module_version": "1.2.0",
            "_view_name": "LayoutView",
            "align_content": null,
            "align_items": null,
            "align_self": null,
            "border": null,
            "bottom": null,
            "display": null,
            "flex": null,
            "flex_flow": null,
            "grid_area": null,
            "grid_auto_columns": null,
            "grid_auto_flow": null,
            "grid_auto_rows": null,
            "grid_column": null,
            "grid_gap": null,
            "grid_row": null,
            "grid_template_areas": null,
            "grid_template_columns": null,
            "grid_template_rows": null,
            "height": null,
            "justify_content": null,
            "justify_items": null,
            "left": null,
            "margin": null,
            "max_height": null,
            "max_width": null,
            "min_height": null,
            "min_width": null,
            "object_fit": null,
            "object_position": null,
            "order": null,
            "overflow": null,
            "overflow_x": null,
            "overflow_y": null,
            "padding": null,
            "right": null,
            "top": null,
            "visibility": null,
            "width": null
          }
        },
        "306de7a8be8f4e05937088f2795d09a9": {
          "model_module": "@jupyter-widgets/controls",
          "model_name": "DescriptionStyleModel",
          "model_module_version": "1.5.0",
          "state": {
            "_model_module": "@jupyter-widgets/controls",
            "_model_module_version": "1.5.0",
            "_model_name": "DescriptionStyleModel",
            "_view_count": null,
            "_view_module": "@jupyter-widgets/base",
            "_view_module_version": "1.2.0",
            "_view_name": "StyleView",
            "description_width": ""
          }
        },
        "1854e1b60f854704bf1355d37dcb9e5d": {
          "model_module": "@jupyter-widgets/base",
          "model_name": "LayoutModel",
          "model_module_version": "1.2.0",
          "state": {
            "_model_module": "@jupyter-widgets/base",
            "_model_module_version": "1.2.0",
            "_model_name": "LayoutModel",
            "_view_count": null,
            "_view_module": "@jupyter-widgets/base",
            "_view_module_version": "1.2.0",
            "_view_name": "LayoutView",
            "align_content": null,
            "align_items": null,
            "align_self": null,
            "border": null,
            "bottom": null,
            "display": null,
            "flex": null,
            "flex_flow": null,
            "grid_area": null,
            "grid_auto_columns": null,
            "grid_auto_flow": null,
            "grid_auto_rows": null,
            "grid_column": null,
            "grid_gap": null,
            "grid_row": null,
            "grid_template_areas": null,
            "grid_template_columns": null,
            "grid_template_rows": null,
            "height": null,
            "justify_content": null,
            "justify_items": null,
            "left": null,
            "margin": null,
            "max_height": null,
            "max_width": null,
            "min_height": null,
            "min_width": null,
            "object_fit": null,
            "object_position": null,
            "order": null,
            "overflow": null,
            "overflow_x": null,
            "overflow_y": null,
            "padding": null,
            "right": null,
            "top": null,
            "visibility": null,
            "width": null
          }
        }
      }
    }
  },
  "cells": [
    {
      "cell_type": "markdown",
      "metadata": {
        "id": "LRnde-kuLcFo"
      },
      "source": [
        "# Solution"
      ]
    },
    {
      "cell_type": "code",
      "execution_count": 1,
      "metadata": {
        "id": "gKBs3YeGo18A"
      },
      "outputs": [],
      "source": [
        "!pip install datasets > /dev/null\n",
        "!pip install transformers > /dev/null"
      ]
    },
    {
      "cell_type": "code",
      "source": [
        "import csv\n",
        "import math\n",
        "import torch\n",
        "import numpy as np\n",
        "import pandas as pd\n",
        "import matplotlib.pyplot as plt\n",
        "from torch import LongTensor\n",
        "from datasets import Dataset, DatasetDict, load_metric\n",
        "from transformers import (\n",
        "    AutoTokenizer, AutoModelForSequenceClassification, TrainingArguments, \n",
        "    Trainer, TrainerCallback\n",
        ")\n",
        "from ipywidgets import interact"
      ],
      "metadata": {
        "id": "MFPo-9bqXYWb"
      },
      "execution_count": 2,
      "outputs": []
    },
    {
      "cell_type": "markdown",
      "metadata": {
        "id": "P4JRcZmSSg1K"
      },
      "source": [
        "## Обработка данных"
      ]
    },
    {
      "cell_type": "code",
      "execution_count": 3,
      "metadata": {
        "colab": {
          "base_uri": "https://localhost:8080/"
        },
        "id": "NyO7_3g8ody8",
        "outputId": "7ea9a916-9d60-4daa-8f25-3410657e321a"
      },
      "outputs": [
        {
          "output_type": "stream",
          "name": "stdout",
          "text": [
            "Downloading...\n",
            "From: https://drive.google.com/uc?id=1nZWeSDHjrKtRliTgtGpr4CGwS9WzTHa7\n",
            "To: /content/data.csv\n",
            "\r  0% 0.00/925k [00:00<?, ?B/s]\r100% 925k/925k [00:00<00:00, 108MB/s]\n"
          ]
        }
      ],
      "source": [
        "!gdown https://drive.google.com/uc?id=1nZWeSDHjrKtRliTgtGpr4CGwS9WzTHa7"
      ]
    },
    {
      "cell_type": "code",
      "execution_count": 4,
      "metadata": {
        "id": "s_ikex-wVJ6p"
      },
      "outputs": [],
      "source": [
        "def write(filename, content):\n",
        "    with open(filename, \"w\", encoding=\"utf-8\") as file:\n",
        "        for i, entry in enumerate(content[\"D\"]):\n",
        "            if entry is None or isinstance(entry, float):\n",
        "                continue\n",
        "            file.write(entry)\n",
        "            file.write(\"\\n\")"
      ]
    },
    {
      "cell_type": "code",
      "execution_count": 5,
      "metadata": {
        "id": "5HYYW-Z6xfOQ"
      },
      "outputs": [],
      "source": [
        "def stats(df, column):\n",
        "    c = df.groupby(column)[column].count()\n",
        "    c = (c / c.sum())\n",
        "    #with pd.option_context('display.float_format', '{:0.3f}'.format):\n",
        "    #    print(c / c.sum())\n",
        "    c.plot.bar()"
      ]
    },
    {
      "cell_type": "code",
      "source": [
        "df = pd.read_csv(\"data.csv\")\n",
        "len(df[\"Description\"].unique())"
      ],
      "metadata": {
        "colab": {
          "base_uri": "https://localhost:8080/"
        },
        "id": "VqiAQ0X15j-s",
        "outputId": "41224c6b-e9ad-43ab-9077-96c0ae9ab4f6"
      },
      "execution_count": 6,
      "outputs": [
        {
          "output_type": "execute_result",
          "data": {
            "text/plain": [
              "8684"
            ]
          },
          "metadata": {},
          "execution_count": 6
        }
      ]
    },
    {
      "cell_type": "code",
      "execution_count": 7,
      "metadata": {
        "colab": {
          "base_uri": "https://localhost:8080/",
          "height": 424
        },
        "id": "Ak-uu0fjc51b",
        "outputId": "b3675da9-b6c9-4127-dccf-155213f29045"
      },
      "outputs": [
        {
          "output_type": "execute_result",
          "data": {
            "text/plain": [
              "                                        Наименование  \\\n",
              "0                    Kent HD Neo 4мг/0,3мг МРЦ 130р.   \n",
              "1                 Winston Silver 4мг/0,3мг МРЦ 125р.   \n",
              "2                                     Батончик Темпо   \n",
              "3      Parker & Simpson DUO Purple 6мг/0,5мг МРЦ 90р   \n",
              "4             Моrе BY LD RED 30шт 9мг/0,6мг МРЦ 95р.   \n",
              "...                                              ...   \n",
              "9072     Сигареты Philip Morris Breeze Mix МРЦ 119р.   \n",
              "9073       Сигареты Philip Morris Breeze Mix МРЦ ВСЕ   \n",
              "9074  Настойка полусладкая Сиббиттер ВСЕ ВКУСЫ 0,5л.   \n",
              "9075    Газ. напиток \"Милк Вэйвс\" ж/б ВСЕ ВКУСЫ 0,25   \n",
              "9076  Энергетический напиток Пульсап ВСЕ ВКУСЫ 0,33л   \n",
              "\n",
              "                       Категория  \n",
              "0                       Сигареты  \n",
              "1                       Сигареты  \n",
              "2     Шоколад, шоколадные наборы  \n",
              "3                       Сигареты  \n",
              "4                       Сигареты  \n",
              "...                          ...  \n",
              "9072                    Сигареты  \n",
              "9073                    Сигареты  \n",
              "9074                       Водка  \n",
              "9075                 Соки - Воды  \n",
              "9076                 Соки - Воды  \n",
              "\n",
              "[8354 rows x 2 columns]"
            ],
            "text/html": [
              "\n",
              "  <div id=\"df-225647ce-cdc0-48bd-836e-1c504a48f61d\">\n",
              "    <div class=\"colab-df-container\">\n",
              "      <div>\n",
              "<style scoped>\n",
              "    .dataframe tbody tr th:only-of-type {\n",
              "        vertical-align: middle;\n",
              "    }\n",
              "\n",
              "    .dataframe tbody tr th {\n",
              "        vertical-align: top;\n",
              "    }\n",
              "\n",
              "    .dataframe thead th {\n",
              "        text-align: right;\n",
              "    }\n",
              "</style>\n",
              "<table border=\"1\" class=\"dataframe\">\n",
              "  <thead>\n",
              "    <tr style=\"text-align: right;\">\n",
              "      <th></th>\n",
              "      <th>Наименование</th>\n",
              "      <th>Категория</th>\n",
              "    </tr>\n",
              "  </thead>\n",
              "  <tbody>\n",
              "    <tr>\n",
              "      <th>0</th>\n",
              "      <td>Kent HD Neo 4мг/0,3мг МРЦ 130р.</td>\n",
              "      <td>Сигареты</td>\n",
              "    </tr>\n",
              "    <tr>\n",
              "      <th>1</th>\n",
              "      <td>Winston Silver 4мг/0,3мг МРЦ 125р.</td>\n",
              "      <td>Сигареты</td>\n",
              "    </tr>\n",
              "    <tr>\n",
              "      <th>2</th>\n",
              "      <td>Батончик Темпо</td>\n",
              "      <td>Шоколад, шоколадные наборы</td>\n",
              "    </tr>\n",
              "    <tr>\n",
              "      <th>3</th>\n",
              "      <td>Parker &amp; Simpson DUO Purple 6мг/0,5мг МРЦ 90р</td>\n",
              "      <td>Сигареты</td>\n",
              "    </tr>\n",
              "    <tr>\n",
              "      <th>4</th>\n",
              "      <td>Моrе BY LD RED 30шт 9мг/0,6мг МРЦ 95р.</td>\n",
              "      <td>Сигареты</td>\n",
              "    </tr>\n",
              "    <tr>\n",
              "      <th>...</th>\n",
              "      <td>...</td>\n",
              "      <td>...</td>\n",
              "    </tr>\n",
              "    <tr>\n",
              "      <th>9072</th>\n",
              "      <td>Сигареты Philip Morris Breeze Mix МРЦ 119р.</td>\n",
              "      <td>Сигареты</td>\n",
              "    </tr>\n",
              "    <tr>\n",
              "      <th>9073</th>\n",
              "      <td>Сигареты Philip Morris Breeze Mix МРЦ ВСЕ</td>\n",
              "      <td>Сигареты</td>\n",
              "    </tr>\n",
              "    <tr>\n",
              "      <th>9074</th>\n",
              "      <td>Настойка полусладкая Сиббиттер ВСЕ ВКУСЫ 0,5л.</td>\n",
              "      <td>Водка</td>\n",
              "    </tr>\n",
              "    <tr>\n",
              "      <th>9075</th>\n",
              "      <td>Газ. напиток \"Милк Вэйвс\" ж/б ВСЕ ВКУСЫ 0,25</td>\n",
              "      <td>Соки - Воды</td>\n",
              "    </tr>\n",
              "    <tr>\n",
              "      <th>9076</th>\n",
              "      <td>Энергетический напиток Пульсап ВСЕ ВКУСЫ 0,33л</td>\n",
              "      <td>Соки - Воды</td>\n",
              "    </tr>\n",
              "  </tbody>\n",
              "</table>\n",
              "<p>8354 rows × 2 columns</p>\n",
              "</div>\n",
              "      <button class=\"colab-df-convert\" onclick=\"convertToInteractive('df-225647ce-cdc0-48bd-836e-1c504a48f61d')\"\n",
              "              title=\"Convert this dataframe to an interactive table.\"\n",
              "              style=\"display:none;\">\n",
              "        \n",
              "  <svg xmlns=\"http://www.w3.org/2000/svg\" height=\"24px\"viewBox=\"0 0 24 24\"\n",
              "       width=\"24px\">\n",
              "    <path d=\"M0 0h24v24H0V0z\" fill=\"none\"/>\n",
              "    <path d=\"M18.56 5.44l.94 2.06.94-2.06 2.06-.94-2.06-.94-.94-2.06-.94 2.06-2.06.94zm-11 1L8.5 8.5l.94-2.06 2.06-.94-2.06-.94L8.5 2.5l-.94 2.06-2.06.94zm10 10l.94 2.06.94-2.06 2.06-.94-2.06-.94-.94-2.06-.94 2.06-2.06.94z\"/><path d=\"M17.41 7.96l-1.37-1.37c-.4-.4-.92-.59-1.43-.59-.52 0-1.04.2-1.43.59L10.3 9.45l-7.72 7.72c-.78.78-.78 2.05 0 2.83L4 21.41c.39.39.9.59 1.41.59.51 0 1.02-.2 1.41-.59l7.78-7.78 2.81-2.81c.8-.78.8-2.07 0-2.86zM5.41 20L4 18.59l7.72-7.72 1.47 1.35L5.41 20z\"/>\n",
              "  </svg>\n",
              "      </button>\n",
              "      \n",
              "  <style>\n",
              "    .colab-df-container {\n",
              "      display:flex;\n",
              "      flex-wrap:wrap;\n",
              "      gap: 12px;\n",
              "    }\n",
              "\n",
              "    .colab-df-convert {\n",
              "      background-color: #E8F0FE;\n",
              "      border: none;\n",
              "      border-radius: 50%;\n",
              "      cursor: pointer;\n",
              "      display: none;\n",
              "      fill: #1967D2;\n",
              "      height: 32px;\n",
              "      padding: 0 0 0 0;\n",
              "      width: 32px;\n",
              "    }\n",
              "\n",
              "    .colab-df-convert:hover {\n",
              "      background-color: #E2EBFA;\n",
              "      box-shadow: 0px 1px 2px rgba(60, 64, 67, 0.3), 0px 1px 3px 1px rgba(60, 64, 67, 0.15);\n",
              "      fill: #174EA6;\n",
              "    }\n",
              "\n",
              "    [theme=dark] .colab-df-convert {\n",
              "      background-color: #3B4455;\n",
              "      fill: #D2E3FC;\n",
              "    }\n",
              "\n",
              "    [theme=dark] .colab-df-convert:hover {\n",
              "      background-color: #434B5C;\n",
              "      box-shadow: 0px 1px 3px 1px rgba(0, 0, 0, 0.15);\n",
              "      filter: drop-shadow(0px 1px 2px rgba(0, 0, 0, 0.3));\n",
              "      fill: #FFFFFF;\n",
              "    }\n",
              "  </style>\n",
              "\n",
              "      <script>\n",
              "        const buttonEl =\n",
              "          document.querySelector('#df-225647ce-cdc0-48bd-836e-1c504a48f61d button.colab-df-convert');\n",
              "        buttonEl.style.display =\n",
              "          google.colab.kernel.accessAllowed ? 'block' : 'none';\n",
              "\n",
              "        async function convertToInteractive(key) {\n",
              "          const element = document.querySelector('#df-225647ce-cdc0-48bd-836e-1c504a48f61d');\n",
              "          const dataTable =\n",
              "            await google.colab.kernel.invokeFunction('convertToInteractive',\n",
              "                                                     [key], {});\n",
              "          if (!dataTable) return;\n",
              "\n",
              "          const docLinkHtml = 'Like what you see? Visit the ' +\n",
              "            '<a target=\"_blank\" href=https://colab.research.google.com/notebooks/data_table.ipynb>data table notebook</a>'\n",
              "            + ' to learn more about interactive tables.';\n",
              "          element.innerHTML = '';\n",
              "          dataTable['output_type'] = 'display_data';\n",
              "          await google.colab.output.renderOutput(dataTable, element);\n",
              "          const docLink = document.createElement('div');\n",
              "          docLink.innerHTML = docLinkHtml;\n",
              "          element.appendChild(docLink);\n",
              "        }\n",
              "      </script>\n",
              "    </div>\n",
              "  </div>\n",
              "  "
            ]
          },
          "metadata": {},
          "execution_count": 7
        }
      ],
      "source": [
        "df = df.rename(columns={\"Category\": \"C\", \"Description\": \"D\"})\n",
        "df = df.drop_duplicates(\"D\", keep=False)\n",
        "df = df.replace(\"None\", np.nan)\n",
        "df = df.dropna()\n",
        "df.rename(columns={\"C\": \"Категория\", \"D\": \"Наименование\"}).drop(columns={\"product_id\"})"
      ]
    },
    {
      "cell_type": "code",
      "source": [
        "df.head()"
      ],
      "metadata": {
        "colab": {
          "base_uri": "https://localhost:8080/",
          "height": 206
        },
        "id": "lc_iq8qq6csr",
        "outputId": "41d17371-fcc6-4cc0-f733-b1ed9fe8f427"
      },
      "execution_count": 8,
      "outputs": [
        {
          "output_type": "execute_result",
          "data": {
            "text/plain": [
              "   product_id                                              D  \\\n",
              "0       17542                Kent HD Neo 4мг/0,3мг МРЦ 130р.   \n",
              "1       18589             Winston Silver 4мг/0,3мг МРЦ 125р.   \n",
              "2       18429                                 Батончик Темпо   \n",
              "3       19833  Parker & Simpson DUO Purple 6мг/0,5мг МРЦ 90р   \n",
              "4       16066         Моrе BY LD RED 30шт 9мг/0,6мг МРЦ 95р.   \n",
              "\n",
              "                            C  \n",
              "0                    Сигареты  \n",
              "1                    Сигареты  \n",
              "2  Шоколад, шоколадные наборы  \n",
              "3                    Сигареты  \n",
              "4                    Сигареты  "
            ],
            "text/html": [
              "\n",
              "  <div id=\"df-f70eb2e7-c9de-4e89-93a4-844881c54a72\">\n",
              "    <div class=\"colab-df-container\">\n",
              "      <div>\n",
              "<style scoped>\n",
              "    .dataframe tbody tr th:only-of-type {\n",
              "        vertical-align: middle;\n",
              "    }\n",
              "\n",
              "    .dataframe tbody tr th {\n",
              "        vertical-align: top;\n",
              "    }\n",
              "\n",
              "    .dataframe thead th {\n",
              "        text-align: right;\n",
              "    }\n",
              "</style>\n",
              "<table border=\"1\" class=\"dataframe\">\n",
              "  <thead>\n",
              "    <tr style=\"text-align: right;\">\n",
              "      <th></th>\n",
              "      <th>product_id</th>\n",
              "      <th>D</th>\n",
              "      <th>C</th>\n",
              "    </tr>\n",
              "  </thead>\n",
              "  <tbody>\n",
              "    <tr>\n",
              "      <th>0</th>\n",
              "      <td>17542</td>\n",
              "      <td>Kent HD Neo 4мг/0,3мг МРЦ 130р.</td>\n",
              "      <td>Сигареты</td>\n",
              "    </tr>\n",
              "    <tr>\n",
              "      <th>1</th>\n",
              "      <td>18589</td>\n",
              "      <td>Winston Silver 4мг/0,3мг МРЦ 125р.</td>\n",
              "      <td>Сигареты</td>\n",
              "    </tr>\n",
              "    <tr>\n",
              "      <th>2</th>\n",
              "      <td>18429</td>\n",
              "      <td>Батончик Темпо</td>\n",
              "      <td>Шоколад, шоколадные наборы</td>\n",
              "    </tr>\n",
              "    <tr>\n",
              "      <th>3</th>\n",
              "      <td>19833</td>\n",
              "      <td>Parker &amp; Simpson DUO Purple 6мг/0,5мг МРЦ 90р</td>\n",
              "      <td>Сигареты</td>\n",
              "    </tr>\n",
              "    <tr>\n",
              "      <th>4</th>\n",
              "      <td>16066</td>\n",
              "      <td>Моrе BY LD RED 30шт 9мг/0,6мг МРЦ 95р.</td>\n",
              "      <td>Сигареты</td>\n",
              "    </tr>\n",
              "  </tbody>\n",
              "</table>\n",
              "</div>\n",
              "      <button class=\"colab-df-convert\" onclick=\"convertToInteractive('df-f70eb2e7-c9de-4e89-93a4-844881c54a72')\"\n",
              "              title=\"Convert this dataframe to an interactive table.\"\n",
              "              style=\"display:none;\">\n",
              "        \n",
              "  <svg xmlns=\"http://www.w3.org/2000/svg\" height=\"24px\"viewBox=\"0 0 24 24\"\n",
              "       width=\"24px\">\n",
              "    <path d=\"M0 0h24v24H0V0z\" fill=\"none\"/>\n",
              "    <path d=\"M18.56 5.44l.94 2.06.94-2.06 2.06-.94-2.06-.94-.94-2.06-.94 2.06-2.06.94zm-11 1L8.5 8.5l.94-2.06 2.06-.94-2.06-.94L8.5 2.5l-.94 2.06-2.06.94zm10 10l.94 2.06.94-2.06 2.06-.94-2.06-.94-.94-2.06-.94 2.06-2.06.94z\"/><path d=\"M17.41 7.96l-1.37-1.37c-.4-.4-.92-.59-1.43-.59-.52 0-1.04.2-1.43.59L10.3 9.45l-7.72 7.72c-.78.78-.78 2.05 0 2.83L4 21.41c.39.39.9.59 1.41.59.51 0 1.02-.2 1.41-.59l7.78-7.78 2.81-2.81c.8-.78.8-2.07 0-2.86zM5.41 20L4 18.59l7.72-7.72 1.47 1.35L5.41 20z\"/>\n",
              "  </svg>\n",
              "      </button>\n",
              "      \n",
              "  <style>\n",
              "    .colab-df-container {\n",
              "      display:flex;\n",
              "      flex-wrap:wrap;\n",
              "      gap: 12px;\n",
              "    }\n",
              "\n",
              "    .colab-df-convert {\n",
              "      background-color: #E8F0FE;\n",
              "      border: none;\n",
              "      border-radius: 50%;\n",
              "      cursor: pointer;\n",
              "      display: none;\n",
              "      fill: #1967D2;\n",
              "      height: 32px;\n",
              "      padding: 0 0 0 0;\n",
              "      width: 32px;\n",
              "    }\n",
              "\n",
              "    .colab-df-convert:hover {\n",
              "      background-color: #E2EBFA;\n",
              "      box-shadow: 0px 1px 2px rgba(60, 64, 67, 0.3), 0px 1px 3px 1px rgba(60, 64, 67, 0.15);\n",
              "      fill: #174EA6;\n",
              "    }\n",
              "\n",
              "    [theme=dark] .colab-df-convert {\n",
              "      background-color: #3B4455;\n",
              "      fill: #D2E3FC;\n",
              "    }\n",
              "\n",
              "    [theme=dark] .colab-df-convert:hover {\n",
              "      background-color: #434B5C;\n",
              "      box-shadow: 0px 1px 3px 1px rgba(0, 0, 0, 0.15);\n",
              "      filter: drop-shadow(0px 1px 2px rgba(0, 0, 0, 0.3));\n",
              "      fill: #FFFFFF;\n",
              "    }\n",
              "  </style>\n",
              "\n",
              "      <script>\n",
              "        const buttonEl =\n",
              "          document.querySelector('#df-f70eb2e7-c9de-4e89-93a4-844881c54a72 button.colab-df-convert');\n",
              "        buttonEl.style.display =\n",
              "          google.colab.kernel.accessAllowed ? 'block' : 'none';\n",
              "\n",
              "        async function convertToInteractive(key) {\n",
              "          const element = document.querySelector('#df-f70eb2e7-c9de-4e89-93a4-844881c54a72');\n",
              "          const dataTable =\n",
              "            await google.colab.kernel.invokeFunction('convertToInteractive',\n",
              "                                                     [key], {});\n",
              "          if (!dataTable) return;\n",
              "\n",
              "          const docLinkHtml = 'Like what you see? Visit the ' +\n",
              "            '<a target=\"_blank\" href=https://colab.research.google.com/notebooks/data_table.ipynb>data table notebook</a>'\n",
              "            + ' to learn more about interactive tables.';\n",
              "          element.innerHTML = '';\n",
              "          dataTable['output_type'] = 'display_data';\n",
              "          await google.colab.output.renderOutput(dataTable, element);\n",
              "          const docLink = document.createElement('div');\n",
              "          docLink.innerHTML = docLinkHtml;\n",
              "          element.appendChild(docLink);\n",
              "        }\n",
              "      </script>\n",
              "    </div>\n",
              "  </div>\n",
              "  "
            ]
          },
          "metadata": {},
          "execution_count": 8
        }
      ]
    },
    {
      "cell_type": "code",
      "execution_count": 9,
      "metadata": {
        "colab": {
          "base_uri": "https://localhost:8080/"
        },
        "id": "Gdr1xG6x7NHk",
        "outputId": "f08446c9-5009-434b-b9e6-3b94efbf46cb"
      },
      "outputs": [
        {
          "output_type": "execute_result",
          "data": {
            "text/plain": [
              "8354"
            ]
          },
          "metadata": {},
          "execution_count": 9
        }
      ],
      "source": [
        "len(df[\"D\"].unique())"
      ]
    },
    {
      "cell_type": "code",
      "source": [
        "len(df[\"C\"].unique())"
      ],
      "metadata": {
        "colab": {
          "base_uri": "https://localhost:8080/"
        },
        "id": "UFQT06t_iZgI",
        "outputId": "718ac059-dcf6-4702-eced-56861b7d672b"
      },
      "execution_count": 10,
      "outputs": [
        {
          "output_type": "execute_result",
          "data": {
            "text/plain": [
              "26"
            ]
          },
          "metadata": {},
          "execution_count": 10
        }
      ]
    },
    {
      "cell_type": "code",
      "source": [
        "df.to_csv(\"test.csv\", index=False)"
      ],
      "metadata": {
        "id": "CvdHBTdX3tx5"
      },
      "execution_count": 11,
      "outputs": []
    },
    {
      "cell_type": "code",
      "execution_count": 12,
      "metadata": {
        "colab": {
          "base_uri": "https://localhost:8080/"
        },
        "id": "CfxBZ01toh3m",
        "outputId": "269e39d7-607c-40c8-ab55-db1005061990"
      },
      "outputs": [
        {
          "output_type": "stream",
          "name": "stdout",
          "text": [
            "vocab len: 8146\n",
            "mean: 41.46157529327268\n",
            "std: 12.347023122979765\n",
            "cv: 0.29779435623573913\n",
            "6.2847737610725405\n"
          ]
        }
      ],
      "source": [
        "vocab = set()\n",
        "sizes, words = [], []\n",
        "with open(\"test.csv\", encoding=\"utf-8\") as file:\n",
        "    reader = csv.reader(file)\n",
        "    for i, (prod_id, info, class_id) in enumerate(reader):\n",
        "        vocab.update(info.split())\n",
        "        words.extend(info.split())\n",
        "        sizes.append(info)\n",
        "sizes = list(map(len, sizes))\n",
        "mean = sum(sizes) / i\n",
        "std = math.sqrt(sum((x - mean)**2 for x in sizes)/len(sizes))\n",
        "print(f\"vocab len: {len(vocab)}\")\n",
        "print(f\"mean: {mean}\")\n",
        "print(f\"std: {std}\")\n",
        "print(f\"cv: {std/mean}\")\n",
        "print(len(words)/i)"
      ]
    },
    {
      "cell_type": "code",
      "execution_count": 13,
      "metadata": {
        "colab": {
          "base_uri": "https://localhost:8080/",
          "height": 456,
          "referenced_widgets": [
            "53baffec1f04499b9079bb765e6a027f",
            "559e74e4894e41c6865308a6f943a7f9",
            "9a836853990b47c7a4c53c018165366e",
            "dbdc9e53a6624a60a6683c5b80ea1579",
            "af918c068d5e496683d614748afd614d",
            "fc451c1e417b4ce59641be801ce766ac",
            "bc6fcb046edd45ee8428343cfd8dadc8"
          ]
        },
        "id": "gtOL48ODyr01",
        "outputId": "138a4fc6-07de-4312-fbbc-9bb774aba6db"
      },
      "outputs": [
        {
          "output_type": "display_data",
          "data": {
            "text/plain": [
              "interactive(children=(Dropdown(description='category', options=('Сигареты', 'Шоколад, шоколадные наборы', 'Вод…"
            ],
            "application/vnd.jupyter.widget-view+json": {
              "version_major": 2,
              "version_minor": 0,
              "model_id": "53baffec1f04499b9079bb765e6a027f"
            }
          },
          "metadata": {}
        }
      ],
      "source": [
        "@interact(category=df['C'].unique())\n",
        "def f(category):\n",
        "    return df.loc[df['C'] == category]"
      ]
    },
    {
      "cell_type": "code",
      "execution_count": 14,
      "metadata": {
        "colab": {
          "base_uri": "https://localhost:8080/",
          "height": 475
        },
        "id": "JCx_LH8vhCeC",
        "outputId": "9e2a3949-e68f-4eec-832c-a13782991034"
      },
      "outputs": [
        {
          "output_type": "display_data",
          "data": {
            "text/plain": [
              "<Figure size 432x288 with 1 Axes>"
            ],
            "image/png": "[encoded data removed]"
          },
          "metadata": {
            "needs_background": "light"
          }
        }
      ],
      "source": [
        "stats(df, \"C\")"
      ]
    },
    {
      "cell_type": "code",
      "execution_count": 15,
      "metadata": {
        "colab": {
          "base_uri": "https://localhost:8080/",
          "height": 424
        },
        "id": "hJhx9wjZtns_",
        "outputId": "85269b50-a12a-4830-9f7d-4896d72e8e71"
      },
      "outputs": [
        {
          "output_type": "execute_result",
          "data": {
            "text/plain": [
              "      product_id                                               D  \\\n",
              "22         21440     Картофельные чипсы Натуралс с жареным луком   \n",
              "24         19295                          Ж/р Ментос Нежная мята   \n",
              "25         19403                Фрикционная машина Быстрее ветра   \n",
              "44         14784     Коньяк Жемчужина Еревана 7 лет п/к 40% 0.5л   \n",
              "55         18110                       Плед с рукавами 150*200см   \n",
              "...          ...                                             ...   \n",
              "9042     9000560    Напиток сокосодержащий Фрупи 0,25л ВСЕ ВКУСЫ   \n",
              "9043     9000568                   Лимонад Фреш Вейв'с ВСЕ ВКУСЫ   \n",
              "9044     9000564                    Коктейль Изи Смузи ВСЕ ВКУСЫ   \n",
              "9075     9000478    Газ. напиток \"Милк Вэйвс\" ж/б ВСЕ ВКУСЫ 0,25   \n",
              "9076     9000468  Энергетический напиток Пульсап ВСЕ ВКУСЫ 0,33л   \n",
              "\n",
              "                       C  \n",
              "22    Продукты - Сопутка  \n",
              "24    Продукты - Сопутка  \n",
              "25       Нон-Фуд (Китай)  \n",
              "44      Коньяки и Бренди  \n",
              "55               Нон фуд  \n",
              "...                  ...  \n",
              "9042         Соки - Воды  \n",
              "9043         Соки - Воды  \n",
              "9044         Соки - Воды  \n",
              "9075         Соки - Воды  \n",
              "9076         Соки - Воды  \n",
              "\n",
              "[1738 rows x 3 columns]"
            ],
            "text/html": [
              "\n",
              "  <div id=\"df-cc51e034-ffd0-4b1a-9cde-027f95dbf447\">\n",
              "    <div class=\"colab-df-container\">\n",
              "      <div>\n",
              "<style scoped>\n",
              "    .dataframe tbody tr th:only-of-type {\n",
              "        vertical-align: middle;\n",
              "    }\n",
              "\n",
              "    .dataframe tbody tr th {\n",
              "        vertical-align: top;\n",
              "    }\n",
              "\n",
              "    .dataframe thead th {\n",
              "        text-align: right;\n",
              "    }\n",
              "</style>\n",
              "<table border=\"1\" class=\"dataframe\">\n",
              "  <thead>\n",
              "    <tr style=\"text-align: right;\">\n",
              "      <th></th>\n",
              "      <th>product_id</th>\n",
              "      <th>D</th>\n",
              "      <th>C</th>\n",
              "    </tr>\n",
              "  </thead>\n",
              "  <tbody>\n",
              "    <tr>\n",
              "      <th>22</th>\n",
              "      <td>21440</td>\n",
              "      <td>Картофельные чипсы Натуралс с жареным луком</td>\n",
              "      <td>Продукты - Сопутка</td>\n",
              "    </tr>\n",
              "    <tr>\n",
              "      <th>24</th>\n",
              "      <td>19295</td>\n",
              "      <td>Ж/р Ментос Нежная мята</td>\n",
              "      <td>Продукты - Сопутка</td>\n",
              "    </tr>\n",
              "    <tr>\n",
              "      <th>25</th>\n",
              "      <td>19403</td>\n",
              "      <td>Фрикционная машина Быстрее ветра</td>\n",
              "      <td>Нон-Фуд (Китай)</td>\n",
              "    </tr>\n",
              "    <tr>\n",
              "      <th>44</th>\n",
              "      <td>14784</td>\n",
              "      <td>Коньяк Жемчужина Еревана 7 лет п/к 40% 0.5л</td>\n",
              "      <td>Коньяки и Бренди</td>\n",
              "    </tr>\n",
              "    <tr>\n",
              "      <th>55</th>\n",
              "      <td>18110</td>\n",
              "      <td>Плед с рукавами 150*200см</td>\n",
              "      <td>Нон фуд</td>\n",
              "    </tr>\n",
              "    <tr>\n",
              "      <th>...</th>\n",
              "      <td>...</td>\n",
              "      <td>...</td>\n",
              "      <td>...</td>\n",
              "    </tr>\n",
              "    <tr>\n",
              "      <th>9042</th>\n",
              "      <td>9000560</td>\n",
              "      <td>Напиток сокосодержащий Фрупи 0,25л ВСЕ ВКУСЫ</td>\n",
              "      <td>Соки - Воды</td>\n",
              "    </tr>\n",
              "    <tr>\n",
              "      <th>9043</th>\n",
              "      <td>9000568</td>\n",
              "      <td>Лимонад Фреш Вейв'с ВСЕ ВКУСЫ</td>\n",
              "      <td>Соки - Воды</td>\n",
              "    </tr>\n",
              "    <tr>\n",
              "      <th>9044</th>\n",
              "      <td>9000564</td>\n",
              "      <td>Коктейль Изи Смузи ВСЕ ВКУСЫ</td>\n",
              "      <td>Соки - Воды</td>\n",
              "    </tr>\n",
              "    <tr>\n",
              "      <th>9075</th>\n",
              "      <td>9000478</td>\n",
              "      <td>Газ. напиток \"Милк Вэйвс\" ж/б ВСЕ ВКУСЫ 0,25</td>\n",
              "      <td>Соки - Воды</td>\n",
              "    </tr>\n",
              "    <tr>\n",
              "      <th>9076</th>\n",
              "      <td>9000468</td>\n",
              "      <td>Энергетический напиток Пульсап ВСЕ ВКУСЫ 0,33л</td>\n",
              "      <td>Соки - Воды</td>\n",
              "    </tr>\n",
              "  </tbody>\n",
              "</table>\n",
              "<p>1738 rows × 3 columns</p>\n",
              "</div>\n",
              "      <button class=\"colab-df-convert\" onclick=\"convertToInteractive('df-cc51e034-ffd0-4b1a-9cde-027f95dbf447')\"\n",
              "              title=\"Convert this dataframe to an interactive table.\"\n",
              "              style=\"display:none;\">\n",
              "        \n",
              "  <svg xmlns=\"http://www.w3.org/2000/svg\" height=\"24px\"viewBox=\"0 0 24 24\"\n",
              "       width=\"24px\">\n",
              "    <path d=\"M0 0h24v24H0V0z\" fill=\"none\"/>\n",
              "    <path d=\"M18.56 5.44l.94 2.06.94-2.06 2.06-.94-2.06-.94-.94-2.06-.94 2.06-2.06.94zm-11 1L8.5 8.5l.94-2.06 2.06-.94-2.06-.94L8.5 2.5l-.94 2.06-2.06.94zm10 10l.94 2.06.94-2.06 2.06-.94-2.06-.94-.94-2.06-.94 2.06-2.06.94z\"/><path d=\"M17.41 7.96l-1.37-1.37c-.4-.4-.92-.59-1.43-.59-.52 0-1.04.2-1.43.59L10.3 9.45l-7.72 7.72c-.78.78-.78 2.05 0 2.83L4 21.41c.39.39.9.59 1.41.59.51 0 1.02-.2 1.41-.59l7.78-7.78 2.81-2.81c.8-.78.8-2.07 0-2.86zM5.41 20L4 18.59l7.72-7.72 1.47 1.35L5.41 20z\"/>\n",
              "  </svg>\n",
              "      </button>\n",
              "      \n",
              "  <style>\n",
              "    .colab-df-container {\n",
              "      display:flex;\n",
              "      flex-wrap:wrap;\n",
              "      gap: 12px;\n",
              "    }\n",
              "\n",
              "    .colab-df-convert {\n",
              "      background-color: #E8F0FE;\n",
              "      border: none;\n",
              "      border-radius: 50%;\n",
              "      cursor: pointer;\n",
              "      display: none;\n",
              "      fill: #1967D2;\n",
              "      height: 32px;\n",
              "      padding: 0 0 0 0;\n",
              "      width: 32px;\n",
              "    }\n",
              "\n",
              "    .colab-df-convert:hover {\n",
              "      background-color: #E2EBFA;\n",
              "      box-shadow: 0px 1px 2px rgba(60, 64, 67, 0.3), 0px 1px 3px 1px rgba(60, 64, 67, 0.15);\n",
              "      fill: #174EA6;\n",
              "    }\n",
              "\n",
              "    [theme=dark] .colab-df-convert {\n",
              "      background-color: #3B4455;\n",
              "      fill: #D2E3FC;\n",
              "    }\n",
              "\n",
              "    [theme=dark] .colab-df-convert:hover {\n",
              "      background-color: #434B5C;\n",
              "      box-shadow: 0px 1px 3px 1px rgba(0, 0, 0, 0.15);\n",
              "      filter: drop-shadow(0px 1px 2px rgba(0, 0, 0, 0.3));\n",
              "      fill: #FFFFFF;\n",
              "    }\n",
              "  </style>\n",
              "\n",
              "      <script>\n",
              "        const buttonEl =\n",
              "          document.querySelector('#df-cc51e034-ffd0-4b1a-9cde-027f95dbf447 button.colab-df-convert');\n",
              "        buttonEl.style.display =\n",
              "          google.colab.kernel.accessAllowed ? 'block' : 'none';\n",
              "\n",
              "        async function convertToInteractive(key) {\n",
              "          const element = document.querySelector('#df-cc51e034-ffd0-4b1a-9cde-027f95dbf447');\n",
              "          const dataTable =\n",
              "            await google.colab.kernel.invokeFunction('convertToInteractive',\n",
              "                                                     [key], {});\n",
              "          if (!dataTable) return;\n",
              "\n",
              "          const docLinkHtml = 'Like what you see? Visit the ' +\n",
              "            '<a target=\"_blank\" href=https://colab.research.google.com/notebooks/data_table.ipynb>data table notebook</a>'\n",
              "            + ' to learn more about interactive tables.';\n",
              "          element.innerHTML = '';\n",
              "          dataTable['output_type'] = 'display_data';\n",
              "          await google.colab.output.renderOutput(dataTable, element);\n",
              "          const docLink = document.createElement('div');\n",
              "          docLink.innerHTML = docLinkHtml;\n",
              "          element.appendChild(docLink);\n",
              "        }\n",
              "      </script>\n",
              "    </div>\n",
              "  </div>\n",
              "  "
            ]
          },
          "metadata": {},
          "execution_count": 15
        }
      ],
      "source": [
        "df2 = df[df.C.isin([\n",
        "    'Бутик', 'Новые', 'Нон фуд', 'Нон-Фуд (Китай)', 'Соки, нектары', \n",
        "    'Коньяки и Бренди', 'Продукты', 'Продукты - Скоропорт', 'Продукты - Сопутка',\n",
        "    'Продукты - Фрукты-Овощи', 'Соки - Воды', 'Чипсы, сухие закуски',\n",
        "    'Продукты - Мороженое'\n",
        "])].drop_duplicates(subset=\"D\")\n",
        "df2.replace(\"\", np.nan).dropna()\n",
        "df2"
      ]
    },
    {
      "cell_type": "code",
      "execution_count": 16,
      "metadata": {
        "colab": {
          "base_uri": "https://localhost:8080/",
          "height": 424
        },
        "id": "-UD4udXpR-Ht",
        "outputId": "bd73570e-cd8d-4880-d65d-8bdebd84de57"
      },
      "outputs": [
        {
          "output_type": "execute_result",
          "data": {
            "text/plain": [
              "      product_id                                               D  \\\n",
              "22         21440     Картофельные чипсы Натуралс с жареным луком   \n",
              "24         19295                          Ж/р Ментос Нежная мята   \n",
              "25         19403                Фрикционная машина Быстрее ветра   \n",
              "44         14784     Коньяк Жемчужина Еревана 7 лет п/к 40% 0.5л   \n",
              "55         18110                       Плед с рукавами 150*200см   \n",
              "...          ...                                             ...   \n",
              "8997     9000541  Мороженое Коровка из Кореновки 400гр ВСЕ ВКУСЫ   \n",
              "9042     9000560    Напиток сокосодержащий Фрупи 0,25л ВСЕ ВКУСЫ   \n",
              "9043     9000568                   Лимонад Фреш Вейв'с ВСЕ ВКУСЫ   \n",
              "9075     9000478    Газ. напиток \"Милк Вэйвс\" ж/б ВСЕ ВКУСЫ 0,25   \n",
              "9076     9000468  Энергетический напиток Пульсап ВСЕ ВКУСЫ 0,33л   \n",
              "\n",
              "                                   C  \n",
              "22              Чипсы, сухари, снеки  \n",
              "24    Шоколад и кондитерские изделия  \n",
              "25                     Все остальное  \n",
              "44                            Коньяк  \n",
              "55                     Все остальное  \n",
              "...                              ...  \n",
              "8997                       Мороженое  \n",
              "9042                   Соки, Нектары  \n",
              "9043                   Вода питьевая  \n",
              "9075                   Вода питьевая  \n",
              "9076                   Вода питьевая  \n",
              "\n",
              "[1565 rows x 3 columns]"
            ],
            "text/html": [
              "\n",
              "  <div id=\"df-997056cf-5035-4919-b55a-40b68d8017ff\">\n",
              "    <div class=\"colab-df-container\">\n",
              "      <div>\n",
              "<style scoped>\n",
              "    .dataframe tbody tr th:only-of-type {\n",
              "        vertical-align: middle;\n",
              "    }\n",
              "\n",
              "    .dataframe tbody tr th {\n",
              "        vertical-align: top;\n",
              "    }\n",
              "\n",
              "    .dataframe thead th {\n",
              "        text-align: right;\n",
              "    }\n",
              "</style>\n",
              "<table border=\"1\" class=\"dataframe\">\n",
              "  <thead>\n",
              "    <tr style=\"text-align: right;\">\n",
              "      <th></th>\n",
              "      <th>product_id</th>\n",
              "      <th>D</th>\n",
              "      <th>C</th>\n",
              "    </tr>\n",
              "  </thead>\n",
              "  <tbody>\n",
              "    <tr>\n",
              "      <th>22</th>\n",
              "      <td>21440</td>\n",
              "      <td>Картофельные чипсы Натуралс с жареным луком</td>\n",
              "      <td>Чипсы, сухари, снеки</td>\n",
              "    </tr>\n",
              "    <tr>\n",
              "      <th>24</th>\n",
              "      <td>19295</td>\n",
              "      <td>Ж/р Ментос Нежная мята</td>\n",
              "      <td>Шоколад и кондитерские изделия</td>\n",
              "    </tr>\n",
              "    <tr>\n",
              "      <th>25</th>\n",
              "      <td>19403</td>\n",
              "      <td>Фрикционная машина Быстрее ветра</td>\n",
              "      <td>Все остальное</td>\n",
              "    </tr>\n",
              "    <tr>\n",
              "      <th>44</th>\n",
              "      <td>14784</td>\n",
              "      <td>Коньяк Жемчужина Еревана 7 лет п/к 40% 0.5л</td>\n",
              "      <td>Коньяк</td>\n",
              "    </tr>\n",
              "    <tr>\n",
              "      <th>55</th>\n",
              "      <td>18110</td>\n",
              "      <td>Плед с рукавами 150*200см</td>\n",
              "      <td>Все остальное</td>\n",
              "    </tr>\n",
              "    <tr>\n",
              "      <th>...</th>\n",
              "      <td>...</td>\n",
              "      <td>...</td>\n",
              "      <td>...</td>\n",
              "    </tr>\n",
              "    <tr>\n",
              "      <th>8997</th>\n",
              "      <td>9000541</td>\n",
              "      <td>Мороженое Коровка из Кореновки 400гр ВСЕ ВКУСЫ</td>\n",
              "      <td>Мороженое</td>\n",
              "    </tr>\n",
              "    <tr>\n",
              "      <th>9042</th>\n",
              "      <td>9000560</td>\n",
              "      <td>Напиток сокосодержащий Фрупи 0,25л ВСЕ ВКУСЫ</td>\n",
              "      <td>Соки, Нектары</td>\n",
              "    </tr>\n",
              "    <tr>\n",
              "      <th>9043</th>\n",
              "      <td>9000568</td>\n",
              "      <td>Лимонад Фреш Вейв'с ВСЕ ВКУСЫ</td>\n",
              "      <td>Вода питьевая</td>\n",
              "    </tr>\n",
              "    <tr>\n",
              "      <th>9075</th>\n",
              "      <td>9000478</td>\n",
              "      <td>Газ. напиток \"Милк Вэйвс\" ж/б ВСЕ ВКУСЫ 0,25</td>\n",
              "      <td>Вода питьевая</td>\n",
              "    </tr>\n",
              "    <tr>\n",
              "      <th>9076</th>\n",
              "      <td>9000468</td>\n",
              "      <td>Энергетический напиток Пульсап ВСЕ ВКУСЫ 0,33л</td>\n",
              "      <td>Вода питьевая</td>\n",
              "    </tr>\n",
              "  </tbody>\n",
              "</table>\n",
              "<p>1565 rows × 3 columns</p>\n",
              "</div>\n",
              "      <button class=\"colab-df-convert\" onclick=\"convertToInteractive('df-997056cf-5035-4919-b55a-40b68d8017ff')\"\n",
              "              title=\"Convert this dataframe to an interactive table.\"\n",
              "              style=\"display:none;\">\n",
              "        \n",
              "  <svg xmlns=\"http://www.w3.org/2000/svg\" height=\"24px\"viewBox=\"0 0 24 24\"\n",
              "       width=\"24px\">\n",
              "    <path d=\"M0 0h24v24H0V0z\" fill=\"none\"/>\n",
              "    <path d=\"M18.56 5.44l.94 2.06.94-2.06 2.06-.94-2.06-.94-.94-2.06-.94 2.06-2.06.94zm-11 1L8.5 8.5l.94-2.06 2.06-.94-2.06-.94L8.5 2.5l-.94 2.06-2.06.94zm10 10l.94 2.06.94-2.06 2.06-.94-2.06-.94-.94-2.06-.94 2.06-2.06.94z\"/><path d=\"M17.41 7.96l-1.37-1.37c-.4-.4-.92-.59-1.43-.59-.52 0-1.04.2-1.43.59L10.3 9.45l-7.72 7.72c-.78.78-.78 2.05 0 2.83L4 21.41c.39.39.9.59 1.41.59.51 0 1.02-.2 1.41-.59l7.78-7.78 2.81-2.81c.8-.78.8-2.07 0-2.86zM5.41 20L4 18.59l7.72-7.72 1.47 1.35L5.41 20z\"/>\n",
              "  </svg>\n",
              "      </button>\n",
              "      \n",
              "  <style>\n",
              "    .colab-df-container {\n",
              "      display:flex;\n",
              "      flex-wrap:wrap;\n",
              "      gap: 12px;\n",
              "    }\n",
              "\n",
              "    .colab-df-convert {\n",
              "      background-color: #E8F0FE;\n",
              "      border: none;\n",
              "      border-radius: 50%;\n",
              "      cursor: pointer;\n",
              "      display: none;\n",
              "      fill: #1967D2;\n",
              "      height: 32px;\n",
              "      padding: 0 0 0 0;\n",
              "      width: 32px;\n",
              "    }\n",
              "\n",
              "    .colab-df-convert:hover {\n",
              "      background-color: #E2EBFA;\n",
              "      box-shadow: 0px 1px 2px rgba(60, 64, 67, 0.3), 0px 1px 3px 1px rgba(60, 64, 67, 0.15);\n",
              "      fill: #174EA6;\n",
              "    }\n",
              "\n",
              "    [theme=dark] .colab-df-convert {\n",
              "      background-color: #3B4455;\n",
              "      fill: #D2E3FC;\n",
              "    }\n",
              "\n",
              "    [theme=dark] .colab-df-convert:hover {\n",
              "      background-color: #434B5C;\n",
              "      box-shadow: 0px 1px 3px 1px rgba(0, 0, 0, 0.15);\n",
              "      filter: drop-shadow(0px 1px 2px rgba(0, 0, 0, 0.3));\n",
              "      fill: #FFFFFF;\n",
              "    }\n",
              "  </style>\n",
              "\n",
              "      <script>\n",
              "        const buttonEl =\n",
              "          document.querySelector('#df-997056cf-5035-4919-b55a-40b68d8017ff button.colab-df-convert');\n",
              "        buttonEl.style.display =\n",
              "          google.colab.kernel.accessAllowed ? 'block' : 'none';\n",
              "\n",
              "        async function convertToInteractive(key) {\n",
              "          const element = document.querySelector('#df-997056cf-5035-4919-b55a-40b68d8017ff');\n",
              "          const dataTable =\n",
              "            await google.colab.kernel.invokeFunction('convertToInteractive',\n",
              "                                                     [key], {});\n",
              "          if (!dataTable) return;\n",
              "\n",
              "          const docLinkHtml = 'Like what you see? Visit the ' +\n",
              "            '<a target=\"_blank\" href=https://colab.research.google.com/notebooks/data_table.ipynb>data table notebook</a>'\n",
              "            + ' to learn more about interactive tables.';\n",
              "          element.innerHTML = '';\n",
              "          dataTable['output_type'] = 'display_data';\n",
              "          await google.colab.output.renderOutput(dataTable, element);\n",
              "          const docLink = document.createElement('div');\n",
              "          docLink.innerHTML = docLinkHtml;\n",
              "          element.appendChild(docLink);\n",
              "        }\n",
              "      </script>\n",
              "    </div>\n",
              "  </div>\n",
              "  "
            ]
          },
          "metadata": {},
          "execution_count": 16
        }
      ],
      "source": [
        "#remaining[['D', 'C']].to_csv(\"remaining.csv\", index=False, quoting=csv.QUOTE_ALL)\n",
        "df3 = df2.copy()\n",
        "df3.loc[(df3.C == \"Нон фуд\") | (df3.C == \"Нон-Фуд (Китай)\"), 'C'] = \"Все остальное\"\n",
        "df3.loc[(df3.C == \"Соки - Воды\") & (df3.D.str.contains(\"сок|нектар\", case=False) == True), 'C'] = \"Соки, Нектары\"\n",
        "df3.loc[(df3.C == \"Соки - Воды\") & (df3.D.str.contains(\"вод|напиток|кола|лимонад|квас\", case=False) == True), 'C'] = \"Вода питьевая\"\n",
        "df3.loc[df3.D.str.contains(\"мороженое\", case=False) == True, 'C'] = \"Мороженое\"\n",
        "df3.loc[df3.D.str.contains(\"семе\", case=False) == True, 'C'] = \"Семечки\"\n",
        "df3.loc[df3.D.str.contains(\"орех|миндаль|фундук|арахис|фисташки\", case=False) == True, 'C'] = \"Орехи\"\n",
        "df3.loc[df3.D.str.contains(\"ж/р|драже|торт|леденцы|карамель|конфет\", case=False) == True, 'C'] = \"Шоколад и кондитерские изделия\"\n",
        "df3.loc[df3.D.str.contains(\"йогурт|сыр|творо|сливки|сметана|молоко|кефир|масло\", case=False) == True, 'C'] = \"Молоко и молочная продукция\"\n",
        "df3.loc[df3.D.str.contains(\"свин|сосиск|колбас|нарезк|ветчин|шпикачки|пивчик|грудинка|карбонад|говядина|джерки|сарде|буже\", case=False) == True, 'C'] = \"Мясные изделия\"\n",
        "df3.loc[df3.D.str.contains(\"сушен|вялен|соленая|холодн|кальмар|сельд|скумбри|горбуш|полосатик\", case=False) == True, 'C'] = \"Рыба вяленая, соленая и несоленая\"\n",
        "df3.loc[df3.D.str.contains(\"чипс|сухар|гренки\", case=False) == True, 'C'] = \"Чипсы, сухари, снеки\"\n",
        "df3.loc[df3.D.str.contains(\"виски\", case=False) == True, 'C'] = \"Виски\"\n",
        "df3.loc[df3.D.str.contains(\"коньяк\", case=False) == True, 'C'] = \"Коньяк\"\n",
        "df3.loc[df3.D.str.contains(\"бренди|арманьяк\", case=False) == True, 'C'] = \"Бренди\"\n",
        "df3.loc[df3.D.str.contains(\"соус|кетчуп|майо\", case=False) == True, 'C'] = \"Соусы\"\n",
        "class_map = [\n",
        "    \"Все остальное\", \"Соки, Нектары\", \"Вода питьевая\", \"Мясные изделия\", \"Молоко и молочная продукция\", \"Виски\",\n",
        "    \"Чипсы, сухари, снеки\", \"Коньяк\", \"Бренди\", \"Шоколад и кондитерские изделия\", \"Рыба вяленая, соленая и несоленая\",\n",
        "    \"Орехи\", \"Мороженое\", \"Семечки\", \"Соусы\"\n",
        "]\n",
        "mapped = df3.loc[df3.C.isin(class_map)]\n",
        "remaining = df3.loc[~df3.C.isin(class_map)]\n",
        "write(\"remaining.txt\", remaining)\n",
        "mapped"
      ]
    },
    {
      "cell_type": "code",
      "execution_count": 17,
      "metadata": {
        "colab": {
          "base_uri": "https://localhost:8080/",
          "height": 424
        },
        "id": "_XVjUxAy51bM",
        "outputId": "31c7f496-2705-4d8a-eda8-c40edd9b66cc"
      },
      "outputs": [
        {
          "output_type": "execute_result",
          "data": {
            "text/plain": [
              "      product_id                                           D  \\\n",
              "119        14063  Икра мойвы деликатесная подкопченная 165 г   \n",
              "195        14072      Коктейль молочный Чудо-Шоколад 3% 0.2л   \n",
              "278        19644   Продукт плавленый Фиетта классическая 55%   \n",
              "442        21303                         Хинкали с говядиной   \n",
              "451        18187                                       Арбуз   \n",
              "...          ...                                         ...   \n",
              "8629     9000263             Кашка ФрутоНяня ВСЕ ВКУСЫ 200мл   \n",
              "8643     9000223              Пюре Хайнц ВСЕ ВКУСЫ 90-100 гр   \n",
              "8667     9000517  Кукурузные палочки Читос ВСЕ ВКУСЫ 50-55гр   \n",
              "8730     9000410         Детское шампанское Россия ВСЕ ВКУСЫ   \n",
              "9044     9000564                Коктейль Изи Смузи ВСЕ ВКУСЫ   \n",
              "\n",
              "                            C  \n",
              "119      Продукты - Скоропорт  \n",
              "195      Продукты - Скоропорт  \n",
              "278      Продукты - Скоропорт  \n",
              "442      Продукты - Мороженое  \n",
              "451   Продукты - Фрукты-Овощи  \n",
              "...                       ...  \n",
              "8629              Соки - Воды  \n",
              "8643              Соки - Воды  \n",
              "8667       Продукты - Сопутка  \n",
              "8730              Соки - Воды  \n",
              "9044              Соки - Воды  \n",
              "\n",
              "[173 rows x 3 columns]"
            ],
            "text/html": [
              "\n",
              "  <div id=\"df-93a7a4db-ecef-404b-8bdd-c001721a10d3\">\n",
              "    <div class=\"colab-df-container\">\n",
              "      <div>\n",
              "<style scoped>\n",
              "    .dataframe tbody tr th:only-of-type {\n",
              "        vertical-align: middle;\n",
              "    }\n",
              "\n",
              "    .dataframe tbody tr th {\n",
              "        vertical-align: top;\n",
              "    }\n",
              "\n",
              "    .dataframe thead th {\n",
              "        text-align: right;\n",
              "    }\n",
              "</style>\n",
              "<table border=\"1\" class=\"dataframe\">\n",
              "  <thead>\n",
              "    <tr style=\"text-align: right;\">\n",
              "      <th></th>\n",
              "      <th>product_id</th>\n",
              "      <th>D</th>\n",
              "      <th>C</th>\n",
              "    </tr>\n",
              "  </thead>\n",
              "  <tbody>\n",
              "    <tr>\n",
              "      <th>119</th>\n",
              "      <td>14063</td>\n",
              "      <td>Икра мойвы деликатесная подкопченная 165 г</td>\n",
              "      <td>Продукты - Скоропорт</td>\n",
              "    </tr>\n",
              "    <tr>\n",
              "      <th>195</th>\n",
              "      <td>14072</td>\n",
              "      <td>Коктейль молочный Чудо-Шоколад 3% 0.2л</td>\n",
              "      <td>Продукты - Скоропорт</td>\n",
              "    </tr>\n",
              "    <tr>\n",
              "      <th>278</th>\n",
              "      <td>19644</td>\n",
              "      <td>Продукт плавленый Фиетта классическая 55%</td>\n",
              "      <td>Продукты - Скоропорт</td>\n",
              "    </tr>\n",
              "    <tr>\n",
              "      <th>442</th>\n",
              "      <td>21303</td>\n",
              "      <td>Хинкали с говядиной</td>\n",
              "      <td>Продукты - Мороженое</td>\n",
              "    </tr>\n",
              "    <tr>\n",
              "      <th>451</th>\n",
              "      <td>18187</td>\n",
              "      <td>Арбуз</td>\n",
              "      <td>Продукты - Фрукты-Овощи</td>\n",
              "    </tr>\n",
              "    <tr>\n",
              "      <th>...</th>\n",
              "      <td>...</td>\n",
              "      <td>...</td>\n",
              "      <td>...</td>\n",
              "    </tr>\n",
              "    <tr>\n",
              "      <th>8629</th>\n",
              "      <td>9000263</td>\n",
              "      <td>Кашка ФрутоНяня ВСЕ ВКУСЫ 200мл</td>\n",
              "      <td>Соки - Воды</td>\n",
              "    </tr>\n",
              "    <tr>\n",
              "      <th>8643</th>\n",
              "      <td>9000223</td>\n",
              "      <td>Пюре Хайнц ВСЕ ВКУСЫ 90-100 гр</td>\n",
              "      <td>Соки - Воды</td>\n",
              "    </tr>\n",
              "    <tr>\n",
              "      <th>8667</th>\n",
              "      <td>9000517</td>\n",
              "      <td>Кукурузные палочки Читос ВСЕ ВКУСЫ 50-55гр</td>\n",
              "      <td>Продукты - Сопутка</td>\n",
              "    </tr>\n",
              "    <tr>\n",
              "      <th>8730</th>\n",
              "      <td>9000410</td>\n",
              "      <td>Детское шампанское Россия ВСЕ ВКУСЫ</td>\n",
              "      <td>Соки - Воды</td>\n",
              "    </tr>\n",
              "    <tr>\n",
              "      <th>9044</th>\n",
              "      <td>9000564</td>\n",
              "      <td>Коктейль Изи Смузи ВСЕ ВКУСЫ</td>\n",
              "      <td>Соки - Воды</td>\n",
              "    </tr>\n",
              "  </tbody>\n",
              "</table>\n",
              "<p>173 rows × 3 columns</p>\n",
              "</div>\n",
              "      <button class=\"colab-df-convert\" onclick=\"convertToInteractive('df-93a7a4db-ecef-404b-8bdd-c001721a10d3')\"\n",
              "              title=\"Convert this dataframe to an interactive table.\"\n",
              "              style=\"display:none;\">\n",
              "        \n",
              "  <svg xmlns=\"http://www.w3.org/2000/svg\" height=\"24px\"viewBox=\"0 0 24 24\"\n",
              "       width=\"24px\">\n",
              "    <path d=\"M0 0h24v24H0V0z\" fill=\"none\"/>\n",
              "    <path d=\"M18.56 5.44l.94 2.06.94-2.06 2.06-.94-2.06-.94-.94-2.06-.94 2.06-2.06.94zm-11 1L8.5 8.5l.94-2.06 2.06-.94-2.06-.94L8.5 2.5l-.94 2.06-2.06.94zm10 10l.94 2.06.94-2.06 2.06-.94-2.06-.94-.94-2.06-.94 2.06-2.06.94z\"/><path d=\"M17.41 7.96l-1.37-1.37c-.4-.4-.92-.59-1.43-.59-.52 0-1.04.2-1.43.59L10.3 9.45l-7.72 7.72c-.78.78-.78 2.05 0 2.83L4 21.41c.39.39.9.59 1.41.59.51 0 1.02-.2 1.41-.59l7.78-7.78 2.81-2.81c.8-.78.8-2.07 0-2.86zM5.41 20L4 18.59l7.72-7.72 1.47 1.35L5.41 20z\"/>\n",
              "  </svg>\n",
              "      </button>\n",
              "      \n",
              "  <style>\n",
              "    .colab-df-container {\n",
              "      display:flex;\n",
              "      flex-wrap:wrap;\n",
              "      gap: 12px;\n",
              "    }\n",
              "\n",
              "    .colab-df-convert {\n",
              "      background-color: #E8F0FE;\n",
              "      border: none;\n",
              "      border-radius: 50%;\n",
              "      cursor: pointer;\n",
              "      display: none;\n",
              "      fill: #1967D2;\n",
              "      height: 32px;\n",
              "      padding: 0 0 0 0;\n",
              "      width: 32px;\n",
              "    }\n",
              "\n",
              "    .colab-df-convert:hover {\n",
              "      background-color: #E2EBFA;\n",
              "      box-shadow: 0px 1px 2px rgba(60, 64, 67, 0.3), 0px 1px 3px 1px rgba(60, 64, 67, 0.15);\n",
              "      fill: #174EA6;\n",
              "    }\n",
              "\n",
              "    [theme=dark] .colab-df-convert {\n",
              "      background-color: #3B4455;\n",
              "      fill: #D2E3FC;\n",
              "    }\n",
              "\n",
              "    [theme=dark] .colab-df-convert:hover {\n",
              "      background-color: #434B5C;\n",
              "      box-shadow: 0px 1px 3px 1px rgba(0, 0, 0, 0.15);\n",
              "      filter: drop-shadow(0px 1px 2px rgba(0, 0, 0, 0.3));\n",
              "      fill: #FFFFFF;\n",
              "    }\n",
              "  </style>\n",
              "\n",
              "      <script>\n",
              "        const buttonEl =\n",
              "          document.querySelector('#df-93a7a4db-ecef-404b-8bdd-c001721a10d3 button.colab-df-convert');\n",
              "        buttonEl.style.display =\n",
              "          google.colab.kernel.accessAllowed ? 'block' : 'none';\n",
              "\n",
              "        async function convertToInteractive(key) {\n",
              "          const element = document.querySelector('#df-93a7a4db-ecef-404b-8bdd-c001721a10d3');\n",
              "          const dataTable =\n",
              "            await google.colab.kernel.invokeFunction('convertToInteractive',\n",
              "                                                     [key], {});\n",
              "          if (!dataTable) return;\n",
              "\n",
              "          const docLinkHtml = 'Like what you see? Visit the ' +\n",
              "            '<a target=\"_blank\" href=https://colab.research.google.com/notebooks/data_table.ipynb>data table notebook</a>'\n",
              "            + ' to learn more about interactive tables.';\n",
              "          element.innerHTML = '';\n",
              "          dataTable['output_type'] = 'display_data';\n",
              "          await google.colab.output.renderOutput(dataTable, element);\n",
              "          const docLink = document.createElement('div');\n",
              "          docLink.innerHTML = docLinkHtml;\n",
              "          element.appendChild(docLink);\n",
              "        }\n",
              "      </script>\n",
              "    </div>\n",
              "  </div>\n",
              "  "
            ]
          },
          "metadata": {},
          "execution_count": 17
        }
      ],
      "source": [
        "remaining"
      ]
    },
    {
      "cell_type": "code",
      "execution_count": 18,
      "metadata": {
        "colab": {
          "base_uri": "https://localhost:8080/"
        },
        "id": "FIBEOAL5rxl6",
        "outputId": "54d631b1-50b3-42b1-f412-0b42af14bf22"
      },
      "outputs": [
        {
          "output_type": "stream",
          "name": "stdout",
          "text": [
            "Downloading...\n",
            "From: https://drive.google.com/uc?id=16Y8F2_UGQ19Svr8hZdbSIhil2Dp0287g\n",
            "To: /content/vsevolod.csv\n",
            "\r  0% 0.00/14.1k [00:00<?, ?B/s]\r100% 14.1k/14.1k [00:00<00:00, 17.2MB/s]\n"
          ]
        }
      ],
      "source": [
        "!gdown https://drive.google.com/uc?id=16Y8F2_UGQ19Svr8hZdbSIhil2Dp0287g"
      ]
    },
    {
      "cell_type": "code",
      "execution_count": 19,
      "metadata": {
        "colab": {
          "base_uri": "https://localhost:8080/",
          "height": 424
        },
        "id": "Hg6V9ap_cEOn",
        "outputId": "01e94ba8-6e90-4113-cd3e-e7f1330c0c7c"
      },
      "outputs": [
        {
          "output_type": "execute_result",
          "data": {
            "text/plain": [
              "      product_id                                              D  \\\n",
              "0        21440.0    Картофельные чипсы Натуралс с жареным луком   \n",
              "1        19295.0                         Ж/р Ментос Нежная мята   \n",
              "2        19403.0               Фрикционная машина Быстрее ветра   \n",
              "3        14784.0    Коньяк Жемчужина Еревана 7 лет п/к 40% 0.5л   \n",
              "4        18110.0                      Плед с рукавами 150*200см   \n",
              "...          ...                                            ...   \n",
              "1703         NaN      Коктейль молочный Чудо 200 мл. Все  вкусы   \n",
              "1704         NaN  Нап. б/а пастериз.Чай Липтон ВСЕ ВКУСЫ 0,5*12   \n",
              "1705         NaN    Коктейль ФрутоНяня молочный ВСЕ ВКУСЫ 200мл   \n",
              "1706         NaN     Кукурузные палочки Читос ВСЕ ВКУСЫ 50-55гр   \n",
              "1707         NaN                   Коктейль Изи Смузи ВСЕ ВКУСЫ   \n",
              "\n",
              "                                   C  \n",
              "0               Чипсы, сухари, снеки  \n",
              "1     Шоколад и кондитерские изделия  \n",
              "2                      Все остальное  \n",
              "3                             Коньяк  \n",
              "4                      Все остальное  \n",
              "...                              ...  \n",
              "1703     Молоко и молочная продукция  \n",
              "1704                   Вода питьевая  \n",
              "1705     Молоко и молочная продукция  \n",
              "1706            Чипсы, сухари, снеки  \n",
              "1707     Молоко и молочная продукция  \n",
              "\n",
              "[1708 rows x 3 columns]"
            ],
            "text/html": [
              "\n",
              "  <div id=\"df-e7b3ed8f-b9cb-40b2-80b7-dabfabe4e50e\">\n",
              "    <div class=\"colab-df-container\">\n",
              "      <div>\n",
              "<style scoped>\n",
              "    .dataframe tbody tr th:only-of-type {\n",
              "        vertical-align: middle;\n",
              "    }\n",
              "\n",
              "    .dataframe tbody tr th {\n",
              "        vertical-align: top;\n",
              "    }\n",
              "\n",
              "    .dataframe thead th {\n",
              "        text-align: right;\n",
              "    }\n",
              "</style>\n",
              "<table border=\"1\" class=\"dataframe\">\n",
              "  <thead>\n",
              "    <tr style=\"text-align: right;\">\n",
              "      <th></th>\n",
              "      <th>product_id</th>\n",
              "      <th>D</th>\n",
              "      <th>C</th>\n",
              "    </tr>\n",
              "  </thead>\n",
              "  <tbody>\n",
              "    <tr>\n",
              "      <th>0</th>\n",
              "      <td>21440.0</td>\n",
              "      <td>Картофельные чипсы Натуралс с жареным луком</td>\n",
              "      <td>Чипсы, сухари, снеки</td>\n",
              "    </tr>\n",
              "    <tr>\n",
              "      <th>1</th>\n",
              "      <td>19295.0</td>\n",
              "      <td>Ж/р Ментос Нежная мята</td>\n",
              "      <td>Шоколад и кондитерские изделия</td>\n",
              "    </tr>\n",
              "    <tr>\n",
              "      <th>2</th>\n",
              "      <td>19403.0</td>\n",
              "      <td>Фрикционная машина Быстрее ветра</td>\n",
              "      <td>Все остальное</td>\n",
              "    </tr>\n",
              "    <tr>\n",
              "      <th>3</th>\n",
              "      <td>14784.0</td>\n",
              "      <td>Коньяк Жемчужина Еревана 7 лет п/к 40% 0.5л</td>\n",
              "      <td>Коньяк</td>\n",
              "    </tr>\n",
              "    <tr>\n",
              "      <th>4</th>\n",
              "      <td>18110.0</td>\n",
              "      <td>Плед с рукавами 150*200см</td>\n",
              "      <td>Все остальное</td>\n",
              "    </tr>\n",
              "    <tr>\n",
              "      <th>...</th>\n",
              "      <td>...</td>\n",
              "      <td>...</td>\n",
              "      <td>...</td>\n",
              "    </tr>\n",
              "    <tr>\n",
              "      <th>1703</th>\n",
              "      <td>NaN</td>\n",
              "      <td>Коктейль молочный Чудо 200 мл. Все  вкусы</td>\n",
              "      <td>Молоко и молочная продукция</td>\n",
              "    </tr>\n",
              "    <tr>\n",
              "      <th>1704</th>\n",
              "      <td>NaN</td>\n",
              "      <td>Нап. б/а пастериз.Чай Липтон ВСЕ ВКУСЫ 0,5*12</td>\n",
              "      <td>Вода питьевая</td>\n",
              "    </tr>\n",
              "    <tr>\n",
              "      <th>1705</th>\n",
              "      <td>NaN</td>\n",
              "      <td>Коктейль ФрутоНяня молочный ВСЕ ВКУСЫ 200мл</td>\n",
              "      <td>Молоко и молочная продукция</td>\n",
              "    </tr>\n",
              "    <tr>\n",
              "      <th>1706</th>\n",
              "      <td>NaN</td>\n",
              "      <td>Кукурузные палочки Читос ВСЕ ВКУСЫ 50-55гр</td>\n",
              "      <td>Чипсы, сухари, снеки</td>\n",
              "    </tr>\n",
              "    <tr>\n",
              "      <th>1707</th>\n",
              "      <td>NaN</td>\n",
              "      <td>Коктейль Изи Смузи ВСЕ ВКУСЫ</td>\n",
              "      <td>Молоко и молочная продукция</td>\n",
              "    </tr>\n",
              "  </tbody>\n",
              "</table>\n",
              "<p>1708 rows × 3 columns</p>\n",
              "</div>\n",
              "      <button class=\"colab-df-convert\" onclick=\"convertToInteractive('df-e7b3ed8f-b9cb-40b2-80b7-dabfabe4e50e')\"\n",
              "              title=\"Convert this dataframe to an interactive table.\"\n",
              "              style=\"display:none;\">\n",
              "        \n",
              "  <svg xmlns=\"http://www.w3.org/2000/svg\" height=\"24px\"viewBox=\"0 0 24 24\"\n",
              "       width=\"24px\">\n",
              "    <path d=\"M0 0h24v24H0V0z\" fill=\"none\"/>\n",
              "    <path d=\"M18.56 5.44l.94 2.06.94-2.06 2.06-.94-2.06-.94-.94-2.06-.94 2.06-2.06.94zm-11 1L8.5 8.5l.94-2.06 2.06-.94-2.06-.94L8.5 2.5l-.94 2.06-2.06.94zm10 10l.94 2.06.94-2.06 2.06-.94-2.06-.94-.94-2.06-.94 2.06-2.06.94z\"/><path d=\"M17.41 7.96l-1.37-1.37c-.4-.4-.92-.59-1.43-.59-.52 0-1.04.2-1.43.59L10.3 9.45l-7.72 7.72c-.78.78-.78 2.05 0 2.83L4 21.41c.39.39.9.59 1.41.59.51 0 1.02-.2 1.41-.59l7.78-7.78 2.81-2.81c.8-.78.8-2.07 0-2.86zM5.41 20L4 18.59l7.72-7.72 1.47 1.35L5.41 20z\"/>\n",
              "  </svg>\n",
              "      </button>\n",
              "      \n",
              "  <style>\n",
              "    .colab-df-container {\n",
              "      display:flex;\n",
              "      flex-wrap:wrap;\n",
              "      gap: 12px;\n",
              "    }\n",
              "\n",
              "    .colab-df-convert {\n",
              "      background-color: #E8F0FE;\n",
              "      border: none;\n",
              "      border-radius: 50%;\n",
              "      cursor: pointer;\n",
              "      display: none;\n",
              "      fill: #1967D2;\n",
              "      height: 32px;\n",
              "      padding: 0 0 0 0;\n",
              "      width: 32px;\n",
              "    }\n",
              "\n",
              "    .colab-df-convert:hover {\n",
              "      background-color: #E2EBFA;\n",
              "      box-shadow: 0px 1px 2px rgba(60, 64, 67, 0.3), 0px 1px 3px 1px rgba(60, 64, 67, 0.15);\n",
              "      fill: #174EA6;\n",
              "    }\n",
              "\n",
              "    [theme=dark] .colab-df-convert {\n",
              "      background-color: #3B4455;\n",
              "      fill: #D2E3FC;\n",
              "    }\n",
              "\n",
              "    [theme=dark] .colab-df-convert:hover {\n",
              "      background-color: #434B5C;\n",
              "      box-shadow: 0px 1px 3px 1px rgba(0, 0, 0, 0.15);\n",
              "      filter: drop-shadow(0px 1px 2px rgba(0, 0, 0, 0.3));\n",
              "      fill: #FFFFFF;\n",
              "    }\n",
              "  </style>\n",
              "\n",
              "      <script>\n",
              "        const buttonEl =\n",
              "          document.querySelector('#df-e7b3ed8f-b9cb-40b2-80b7-dabfabe4e50e button.colab-df-convert');\n",
              "        buttonEl.style.display =\n",
              "          google.colab.kernel.accessAllowed ? 'block' : 'none';\n",
              "\n",
              "        async function convertToInteractive(key) {\n",
              "          const element = document.querySelector('#df-e7b3ed8f-b9cb-40b2-80b7-dabfabe4e50e');\n",
              "          const dataTable =\n",
              "            await google.colab.kernel.invokeFunction('convertToInteractive',\n",
              "                                                     [key], {});\n",
              "          if (!dataTable) return;\n",
              "\n",
              "          const docLinkHtml = 'Like what you see? Visit the ' +\n",
              "            '<a target=\"_blank\" href=https://colab.research.google.com/notebooks/data_table.ipynb>data table notebook</a>'\n",
              "            + ' to learn more about interactive tables.';\n",
              "          element.innerHTML = '';\n",
              "          dataTable['output_type'] = 'display_data';\n",
              "          await google.colab.output.renderOutput(dataTable, element);\n",
              "          const docLink = document.createElement('div');\n",
              "          docLink.innerHTML = docLinkHtml;\n",
              "          element.appendChild(docLink);\n",
              "        }\n",
              "      </script>\n",
              "    </div>\n",
              "  </div>\n",
              "  "
            ]
          },
          "metadata": {},
          "execution_count": 19
        }
      ],
      "source": [
        "labeled = pd.read_csv(\"vsevolod.csv\")\n",
        "labeled = labeled.rename(columns={\"data\": \"D\", \"label\": \"C\"})\n",
        "labeled.drop(labels='id', axis=1, inplace=True)\n",
        "all = pd.merge(mapped, labeled, how=\"outer\")\n",
        "all"
      ]
    },
    {
      "cell_type": "code",
      "execution_count": 20,
      "metadata": {
        "colab": {
          "base_uri": "https://localhost:8080/"
        },
        "id": "J4W4TQr2vEq0",
        "outputId": "8fbd6cfd-5705-4c80-8608-a92a2cd88949"
      },
      "outputs": [
        {
          "output_type": "stream",
          "name": "stdout",
          "text": [
            "20\n"
          ]
        },
        {
          "output_type": "execute_result",
          "data": {
            "text/plain": [
              "array(['Чипсы, сухари, снеки', 'Шоколад и кондитерские изделия',\n",
              "       'Все остальное', 'Коньяк', 'Бренди', 'Мясные изделия',\n",
              "       'Вода питьевая', 'Соусы', 'Соки, Нектары',\n",
              "       'Молоко и молочная продукция', 'Рыба вяленая, соленая и несоленая',\n",
              "       'Орехи', 'Мороженое', 'Виски', 'Семечки', 'Овощи свежие',\n",
              "       'Фрукты свежие', 'Изделия хлебобулочные', 'Вино', 'Чай и кофе'],\n",
              "      dtype=object)"
            ]
          },
          "metadata": {},
          "execution_count": 20
        }
      ],
      "source": [
        "print(len(all['C'].unique()))\n",
        "all['C'].unique()"
      ]
    },
    {
      "cell_type": "code",
      "execution_count": 21,
      "metadata": {
        "id": "HDMeZ4gH0mxV"
      },
      "outputs": [],
      "source": [
        "write(\"data.txt\", df2)"
      ]
    },
    {
      "cell_type": "code",
      "execution_count": 22,
      "metadata": {
        "colab": {
          "base_uri": "https://localhost:8080/",
          "height": 424
        },
        "id": "8n3N7IcBwjMv",
        "outputId": "fc84d954-6cd0-4915-9dec-b5e5794911ce"
      },
      "outputs": [
        {
          "output_type": "execute_result",
          "data": {
            "text/plain": [
              "      product_id                                               D  \\\n",
              "0          17542                 Kent HD Neo 4мг/0,3мг МРЦ 130р.   \n",
              "1          18589              Winston Silver 4мг/0,3мг МРЦ 125р.   \n",
              "2          18429                                  Батончик Темпо   \n",
              "3          19833   Parker & Simpson DUO Purple 6мг/0,5мг МРЦ 90р   \n",
              "4          16066          Моrе BY LD RED 30шт 9мг/0,6мг МРЦ 95р.   \n",
              "...          ...                                             ...   \n",
              "9070       27013    Сигареты Chesterfield Remix Summer МРЦ 125р.   \n",
              "9071     9000582      Сигареты Chesterfield Remix Summer МРЦ ВСЕ   \n",
              "9072       27014     Сигареты Philip Morris Breeze Mix МРЦ 119р.   \n",
              "9073     9000583       Сигареты Philip Morris Breeze Mix МРЦ ВСЕ   \n",
              "9074     9000484  Настойка полусладкая Сиббиттер ВСЕ ВКУСЫ 0,5л.   \n",
              "\n",
              "                                   C  \n",
              "0                           Сигареты  \n",
              "1                           Сигареты  \n",
              "2     Шоколад и кондитерские изделия  \n",
              "3                           Сигареты  \n",
              "4                           Сигареты  \n",
              "...                              ...  \n",
              "9070                        Сигареты  \n",
              "9071                        Сигареты  \n",
              "9072                        Сигареты  \n",
              "9073                        Сигареты  \n",
              "9074                           Водка  \n",
              "\n",
              "[5574 rows x 3 columns]"
            ],
            "text/html": [
              "\n",
              "  <div id=\"df-26f3de68-67bf-4955-9263-88dd44a33258\">\n",
              "    <div class=\"colab-df-container\">\n",
              "      <div>\n",
              "<style scoped>\n",
              "    .dataframe tbody tr th:only-of-type {\n",
              "        vertical-align: middle;\n",
              "    }\n",
              "\n",
              "    .dataframe tbody tr th {\n",
              "        vertical-align: top;\n",
              "    }\n",
              "\n",
              "    .dataframe thead th {\n",
              "        text-align: right;\n",
              "    }\n",
              "</style>\n",
              "<table border=\"1\" class=\"dataframe\">\n",
              "  <thead>\n",
              "    <tr style=\"text-align: right;\">\n",
              "      <th></th>\n",
              "      <th>product_id</th>\n",
              "      <th>D</th>\n",
              "      <th>C</th>\n",
              "    </tr>\n",
              "  </thead>\n",
              "  <tbody>\n",
              "    <tr>\n",
              "      <th>0</th>\n",
              "      <td>17542</td>\n",
              "      <td>Kent HD Neo 4мг/0,3мг МРЦ 130р.</td>\n",
              "      <td>Сигареты</td>\n",
              "    </tr>\n",
              "    <tr>\n",
              "      <th>1</th>\n",
              "      <td>18589</td>\n",
              "      <td>Winston Silver 4мг/0,3мг МРЦ 125р.</td>\n",
              "      <td>Сигареты</td>\n",
              "    </tr>\n",
              "    <tr>\n",
              "      <th>2</th>\n",
              "      <td>18429</td>\n",
              "      <td>Батончик Темпо</td>\n",
              "      <td>Шоколад и кондитерские изделия</td>\n",
              "    </tr>\n",
              "    <tr>\n",
              "      <th>3</th>\n",
              "      <td>19833</td>\n",
              "      <td>Parker &amp; Simpson DUO Purple 6мг/0,5мг МРЦ 90р</td>\n",
              "      <td>Сигареты</td>\n",
              "    </tr>\n",
              "    <tr>\n",
              "      <th>4</th>\n",
              "      <td>16066</td>\n",
              "      <td>Моrе BY LD RED 30шт 9мг/0,6мг МРЦ 95р.</td>\n",
              "      <td>Сигареты</td>\n",
              "    </tr>\n",
              "    <tr>\n",
              "      <th>...</th>\n",
              "      <td>...</td>\n",
              "      <td>...</td>\n",
              "      <td>...</td>\n",
              "    </tr>\n",
              "    <tr>\n",
              "      <th>9070</th>\n",
              "      <td>27013</td>\n",
              "      <td>Сигареты Chesterfield Remix Summer МРЦ 125р.</td>\n",
              "      <td>Сигареты</td>\n",
              "    </tr>\n",
              "    <tr>\n",
              "      <th>9071</th>\n",
              "      <td>9000582</td>\n",
              "      <td>Сигареты Chesterfield Remix Summer МРЦ ВСЕ</td>\n",
              "      <td>Сигареты</td>\n",
              "    </tr>\n",
              "    <tr>\n",
              "      <th>9072</th>\n",
              "      <td>27014</td>\n",
              "      <td>Сигареты Philip Morris Breeze Mix МРЦ 119р.</td>\n",
              "      <td>Сигареты</td>\n",
              "    </tr>\n",
              "    <tr>\n",
              "      <th>9073</th>\n",
              "      <td>9000583</td>\n",
              "      <td>Сигареты Philip Morris Breeze Mix МРЦ ВСЕ</td>\n",
              "      <td>Сигареты</td>\n",
              "    </tr>\n",
              "    <tr>\n",
              "      <th>9074</th>\n",
              "      <td>9000484</td>\n",
              "      <td>Настойка полусладкая Сиббиттер ВСЕ ВКУСЫ 0,5л.</td>\n",
              "      <td>Водка</td>\n",
              "    </tr>\n",
              "  </tbody>\n",
              "</table>\n",
              "<p>5574 rows × 3 columns</p>\n",
              "</div>\n",
              "      <button class=\"colab-df-convert\" onclick=\"convertToInteractive('df-26f3de68-67bf-4955-9263-88dd44a33258')\"\n",
              "              title=\"Convert this dataframe to an interactive table.\"\n",
              "              style=\"display:none;\">\n",
              "        \n",
              "  <svg xmlns=\"http://www.w3.org/2000/svg\" height=\"24px\"viewBox=\"0 0 24 24\"\n",
              "       width=\"24px\">\n",
              "    <path d=\"M0 0h24v24H0V0z\" fill=\"none\"/>\n",
              "    <path d=\"M18.56 5.44l.94 2.06.94-2.06 2.06-.94-2.06-.94-.94-2.06-.94 2.06-2.06.94zm-11 1L8.5 8.5l.94-2.06 2.06-.94-2.06-.94L8.5 2.5l-.94 2.06-2.06.94zm10 10l.94 2.06.94-2.06 2.06-.94-2.06-.94-.94-2.06-.94 2.06-2.06.94z\"/><path d=\"M17.41 7.96l-1.37-1.37c-.4-.4-.92-.59-1.43-.59-.52 0-1.04.2-1.43.59L10.3 9.45l-7.72 7.72c-.78.78-.78 2.05 0 2.83L4 21.41c.39.39.9.59 1.41.59.51 0 1.02-.2 1.41-.59l7.78-7.78 2.81-2.81c.8-.78.8-2.07 0-2.86zM5.41 20L4 18.59l7.72-7.72 1.47 1.35L5.41 20z\"/>\n",
              "  </svg>\n",
              "      </button>\n",
              "      \n",
              "  <style>\n",
              "    .colab-df-container {\n",
              "      display:flex;\n",
              "      flex-wrap:wrap;\n",
              "      gap: 12px;\n",
              "    }\n",
              "\n",
              "    .colab-df-convert {\n",
              "      background-color: #E8F0FE;\n",
              "      border: none;\n",
              "      border-radius: 50%;\n",
              "      cursor: pointer;\n",
              "      display: none;\n",
              "      fill: #1967D2;\n",
              "      height: 32px;\n",
              "      padding: 0 0 0 0;\n",
              "      width: 32px;\n",
              "    }\n",
              "\n",
              "    .colab-df-convert:hover {\n",
              "      background-color: #E2EBFA;\n",
              "      box-shadow: 0px 1px 2px rgba(60, 64, 67, 0.3), 0px 1px 3px 1px rgba(60, 64, 67, 0.15);\n",
              "      fill: #174EA6;\n",
              "    }\n",
              "\n",
              "    [theme=dark] .colab-df-convert {\n",
              "      background-color: #3B4455;\n",
              "      fill: #D2E3FC;\n",
              "    }\n",
              "\n",
              "    [theme=dark] .colab-df-convert:hover {\n",
              "      background-color: #434B5C;\n",
              "      box-shadow: 0px 1px 3px 1px rgba(0, 0, 0, 0.15);\n",
              "      filter: drop-shadow(0px 1px 2px rgba(0, 0, 0, 0.3));\n",
              "      fill: #FFFFFF;\n",
              "    }\n",
              "  </style>\n",
              "\n",
              "      <script>\n",
              "        const buttonEl =\n",
              "          document.querySelector('#df-26f3de68-67bf-4955-9263-88dd44a33258 button.colab-df-convert');\n",
              "        buttonEl.style.display =\n",
              "          google.colab.kernel.accessAllowed ? 'block' : 'none';\n",
              "\n",
              "        async function convertToInteractive(key) {\n",
              "          const element = document.querySelector('#df-26f3de68-67bf-4955-9263-88dd44a33258');\n",
              "          const dataTable =\n",
              "            await google.colab.kernel.invokeFunction('convertToInteractive',\n",
              "                                                     [key], {});\n",
              "          if (!dataTable) return;\n",
              "\n",
              "          const docLinkHtml = 'Like what you see? Visit the ' +\n",
              "            '<a target=\"_blank\" href=https://colab.research.google.com/notebooks/data_table.ipynb>data table notebook</a>'\n",
              "            + ' to learn more about interactive tables.';\n",
              "          element.innerHTML = '';\n",
              "          dataTable['output_type'] = 'display_data';\n",
              "          await google.colab.output.renderOutput(dataTable, element);\n",
              "          const docLink = document.createElement('div');\n",
              "          docLink.innerHTML = docLinkHtml;\n",
              "          element.appendChild(docLink);\n",
              "        }\n",
              "      </script>\n",
              "    </div>\n",
              "  </div>\n",
              "  "
            ]
          },
          "metadata": {},
          "execution_count": 22
        }
      ],
      "source": [
        "normal = df[df.C.isin([\n",
        "    \"Пиво\", \"Пиво разливное\", \"Водка\", \"Виски\", \"Вино\", \"Вина игристые\", \n",
        "    \"Свежий хлеб\", \"Сигареты\", \"ЭСНТ и никотиносодежащие продукты\",\n",
        "    \"Шоколад, шоколадные наборы\", \"Свежий хлеб\"\n",
        "])].replace(\n",
        "    [\"Шоколад, шоколадные наборы\", \"Свежий хлеб\"],\n",
        "    [\"Шоколад и кондитерские изделия\", \"Изделия хлебобулочные\"]\n",
        ")\n",
        "normal"
      ]
    },
    {
      "cell_type": "code",
      "execution_count": 23,
      "metadata": {
        "colab": {
          "base_uri": "https://localhost:8080/",
          "height": 424
        },
        "id": "oGoT83gM41j2",
        "outputId": "6f9ea481-cfce-4568-a63b-e1994d2634a1"
      },
      "outputs": [
        {
          "output_type": "execute_result",
          "data": {
            "text/plain": [
              "      product_id                                              D  \\\n",
              "0        17542.0                Kent HD Neo 4мг/0,3мг МРЦ 130р.   \n",
              "1        18589.0             Winston Silver 4мг/0,3мг МРЦ 125р.   \n",
              "2        18429.0                                 Батончик Темпо   \n",
              "3        19833.0  Parker & Simpson DUO Purple 6мг/0,5мг МРЦ 90р   \n",
              "4        16066.0         Моrе BY LD RED 30шт 9мг/0,6мг МРЦ 95р.   \n",
              "...          ...                                            ...   \n",
              "7277         NaN      Коктейль молочный Чудо 200 мл. Все  вкусы   \n",
              "7278         NaN  Нап. б/а пастериз.Чай Липтон ВСЕ ВКУСЫ 0,5*12   \n",
              "7279         NaN    Коктейль ФрутоНяня молочный ВСЕ ВКУСЫ 200мл   \n",
              "7280         NaN     Кукурузные палочки Читос ВСЕ ВКУСЫ 50-55гр   \n",
              "7281         NaN                   Коктейль Изи Смузи ВСЕ ВКУСЫ   \n",
              "\n",
              "                                   C  \n",
              "0                           Сигареты  \n",
              "1                           Сигареты  \n",
              "2     Шоколад и кондитерские изделия  \n",
              "3                           Сигареты  \n",
              "4                           Сигареты  \n",
              "...                              ...  \n",
              "7277     Молоко и молочная продукция  \n",
              "7278                   Вода питьевая  \n",
              "7279     Молоко и молочная продукция  \n",
              "7280            Чипсы, сухари, снеки  \n",
              "7281     Молоко и молочная продукция  \n",
              "\n",
              "[7282 rows x 3 columns]"
            ],
            "text/html": [
              "\n",
              "  <div id=\"df-c79e80a1-7dfe-49d0-b725-87150655238d\">\n",
              "    <div class=\"colab-df-container\">\n",
              "      <div>\n",
              "<style scoped>\n",
              "    .dataframe tbody tr th:only-of-type {\n",
              "        vertical-align: middle;\n",
              "    }\n",
              "\n",
              "    .dataframe tbody tr th {\n",
              "        vertical-align: top;\n",
              "    }\n",
              "\n",
              "    .dataframe thead th {\n",
              "        text-align: right;\n",
              "    }\n",
              "</style>\n",
              "<table border=\"1\" class=\"dataframe\">\n",
              "  <thead>\n",
              "    <tr style=\"text-align: right;\">\n",
              "      <th></th>\n",
              "      <th>product_id</th>\n",
              "      <th>D</th>\n",
              "      <th>C</th>\n",
              "    </tr>\n",
              "  </thead>\n",
              "  <tbody>\n",
              "    <tr>\n",
              "      <th>0</th>\n",
              "      <td>17542.0</td>\n",
              "      <td>Kent HD Neo 4мг/0,3мг МРЦ 130р.</td>\n",
              "      <td>Сигареты</td>\n",
              "    </tr>\n",
              "    <tr>\n",
              "      <th>1</th>\n",
              "      <td>18589.0</td>\n",
              "      <td>Winston Silver 4мг/0,3мг МРЦ 125р.</td>\n",
              "      <td>Сигареты</td>\n",
              "    </tr>\n",
              "    <tr>\n",
              "      <th>2</th>\n",
              "      <td>18429.0</td>\n",
              "      <td>Батончик Темпо</td>\n",
              "      <td>Шоколад и кондитерские изделия</td>\n",
              "    </tr>\n",
              "    <tr>\n",
              "      <th>3</th>\n",
              "      <td>19833.0</td>\n",
              "      <td>Parker &amp; Simpson DUO Purple 6мг/0,5мг МРЦ 90р</td>\n",
              "      <td>Сигареты</td>\n",
              "    </tr>\n",
              "    <tr>\n",
              "      <th>4</th>\n",
              "      <td>16066.0</td>\n",
              "      <td>Моrе BY LD RED 30шт 9мг/0,6мг МРЦ 95р.</td>\n",
              "      <td>Сигареты</td>\n",
              "    </tr>\n",
              "    <tr>\n",
              "      <th>...</th>\n",
              "      <td>...</td>\n",
              "      <td>...</td>\n",
              "      <td>...</td>\n",
              "    </tr>\n",
              "    <tr>\n",
              "      <th>7277</th>\n",
              "      <td>NaN</td>\n",
              "      <td>Коктейль молочный Чудо 200 мл. Все  вкусы</td>\n",
              "      <td>Молоко и молочная продукция</td>\n",
              "    </tr>\n",
              "    <tr>\n",
              "      <th>7278</th>\n",
              "      <td>NaN</td>\n",
              "      <td>Нап. б/а пастериз.Чай Липтон ВСЕ ВКУСЫ 0,5*12</td>\n",
              "      <td>Вода питьевая</td>\n",
              "    </tr>\n",
              "    <tr>\n",
              "      <th>7279</th>\n",
              "      <td>NaN</td>\n",
              "      <td>Коктейль ФрутоНяня молочный ВСЕ ВКУСЫ 200мл</td>\n",
              "      <td>Молоко и молочная продукция</td>\n",
              "    </tr>\n",
              "    <tr>\n",
              "      <th>7280</th>\n",
              "      <td>NaN</td>\n",
              "      <td>Кукурузные палочки Читос ВСЕ ВКУСЫ 50-55гр</td>\n",
              "      <td>Чипсы, сухари, снеки</td>\n",
              "    </tr>\n",
              "    <tr>\n",
              "      <th>7281</th>\n",
              "      <td>NaN</td>\n",
              "      <td>Коктейль Изи Смузи ВСЕ ВКУСЫ</td>\n",
              "      <td>Молоко и молочная продукция</td>\n",
              "    </tr>\n",
              "  </tbody>\n",
              "</table>\n",
              "<p>7282 rows × 3 columns</p>\n",
              "</div>\n",
              "      <button class=\"colab-df-convert\" onclick=\"convertToInteractive('df-c79e80a1-7dfe-49d0-b725-87150655238d')\"\n",
              "              title=\"Convert this dataframe to an interactive table.\"\n",
              "              style=\"display:none;\">\n",
              "        \n",
              "  <svg xmlns=\"http://www.w3.org/2000/svg\" height=\"24px\"viewBox=\"0 0 24 24\"\n",
              "       width=\"24px\">\n",
              "    <path d=\"M0 0h24v24H0V0z\" fill=\"none\"/>\n",
              "    <path d=\"M18.56 5.44l.94 2.06.94-2.06 2.06-.94-2.06-.94-.94-2.06-.94 2.06-2.06.94zm-11 1L8.5 8.5l.94-2.06 2.06-.94-2.06-.94L8.5 2.5l-.94 2.06-2.06.94zm10 10l.94 2.06.94-2.06 2.06-.94-2.06-.94-.94-2.06-.94 2.06-2.06.94z\"/><path d=\"M17.41 7.96l-1.37-1.37c-.4-.4-.92-.59-1.43-.59-.52 0-1.04.2-1.43.59L10.3 9.45l-7.72 7.72c-.78.78-.78 2.05 0 2.83L4 21.41c.39.39.9.59 1.41.59.51 0 1.02-.2 1.41-.59l7.78-7.78 2.81-2.81c.8-.78.8-2.07 0-2.86zM5.41 20L4 18.59l7.72-7.72 1.47 1.35L5.41 20z\"/>\n",
              "  </svg>\n",
              "      </button>\n",
              "      \n",
              "  <style>\n",
              "    .colab-df-container {\n",
              "      display:flex;\n",
              "      flex-wrap:wrap;\n",
              "      gap: 12px;\n",
              "    }\n",
              "\n",
              "    .colab-df-convert {\n",
              "      background-color: #E8F0FE;\n",
              "      border: none;\n",
              "      border-radius: 50%;\n",
              "      cursor: pointer;\n",
              "      display: none;\n",
              "      fill: #1967D2;\n",
              "      height: 32px;\n",
              "      padding: 0 0 0 0;\n",
              "      width: 32px;\n",
              "    }\n",
              "\n",
              "    .colab-df-convert:hover {\n",
              "      background-color: #E2EBFA;\n",
              "      box-shadow: 0px 1px 2px rgba(60, 64, 67, 0.3), 0px 1px 3px 1px rgba(60, 64, 67, 0.15);\n",
              "      fill: #174EA6;\n",
              "    }\n",
              "\n",
              "    [theme=dark] .colab-df-convert {\n",
              "      background-color: #3B4455;\n",
              "      fill: #D2E3FC;\n",
              "    }\n",
              "\n",
              "    [theme=dark] .colab-df-convert:hover {\n",
              "      background-color: #434B5C;\n",
              "      box-shadow: 0px 1px 3px 1px rgba(0, 0, 0, 0.15);\n",
              "      filter: drop-shadow(0px 1px 2px rgba(0, 0, 0, 0.3));\n",
              "      fill: #FFFFFF;\n",
              "    }\n",
              "  </style>\n",
              "\n",
              "      <script>\n",
              "        const buttonEl =\n",
              "          document.querySelector('#df-c79e80a1-7dfe-49d0-b725-87150655238d button.colab-df-convert');\n",
              "        buttonEl.style.display =\n",
              "          google.colab.kernel.accessAllowed ? 'block' : 'none';\n",
              "\n",
              "        async function convertToInteractive(key) {\n",
              "          const element = document.querySelector('#df-c79e80a1-7dfe-49d0-b725-87150655238d');\n",
              "          const dataTable =\n",
              "            await google.colab.kernel.invokeFunction('convertToInteractive',\n",
              "                                                     [key], {});\n",
              "          if (!dataTable) return;\n",
              "\n",
              "          const docLinkHtml = 'Like what you see? Visit the ' +\n",
              "            '<a target=\"_blank\" href=https://colab.research.google.com/notebooks/data_table.ipynb>data table notebook</a>'\n",
              "            + ' to learn more about interactive tables.';\n",
              "          element.innerHTML = '';\n",
              "          dataTable['output_type'] = 'display_data';\n",
              "          await google.colab.output.renderOutput(dataTable, element);\n",
              "          const docLink = document.createElement('div');\n",
              "          docLink.innerHTML = docLinkHtml;\n",
              "          element.appendChild(docLink);\n",
              "        }\n",
              "      </script>\n",
              "    </div>\n",
              "  </div>\n",
              "  "
            ]
          },
          "metadata": {},
          "execution_count": 23
        }
      ],
      "source": [
        "#a[a.duplicated(\"D\", keep=False)]\n",
        "a = pd.merge(normal, all, how=\"outer\")\n",
        "a.loc[a.C == \"Пиво разливное\", 'C'] = \"Пиво\"\n",
        "a"
      ]
    },
    {
      "cell_type": "code",
      "execution_count": 24,
      "metadata": {
        "colab": {
          "base_uri": "https://localhost:8080/"
        },
        "id": "rVAYim_g8yjp",
        "outputId": "21b086f0-7231-43d3-d841-f6b452f428cb"
      },
      "outputs": [
        {
          "output_type": "stream",
          "name": "stdout",
          "text": [
            "24\n"
          ]
        }
      ],
      "source": [
        "print(len(a['C'].unique()))"
      ]
    },
    {
      "cell_type": "code",
      "source": [
        "a['C'].unique()"
      ],
      "metadata": {
        "id": "bzwURrAZLn0n",
        "outputId": "ec976542-f756-46c6-c2d8-e6da224971b2",
        "colab": {
          "base_uri": "https://localhost:8080/"
        }
      },
      "execution_count": 25,
      "outputs": [
        {
          "output_type": "execute_result",
          "data": {
            "text/plain": [
              "array(['Сигареты', 'Шоколад и кондитерские изделия', 'Водка', 'Вино',\n",
              "       'Пиво', 'Виски', 'ЭСНТ и никотиносодежащие продукты',\n",
              "       'Изделия хлебобулочные', 'Чипсы, сухари, снеки', 'Все остальное',\n",
              "       'Коньяк', 'Бренди', 'Мясные изделия', 'Вода питьевая', 'Соусы',\n",
              "       'Соки, Нектары', 'Молоко и молочная продукция',\n",
              "       'Рыба вяленая, соленая и несоленая', 'Орехи', 'Мороженое',\n",
              "       'Семечки', 'Овощи свежие', 'Фрукты свежие', 'Чай и кофе'],\n",
              "      dtype=object)"
            ]
          },
          "metadata": {},
          "execution_count": 25
        }
      ]
    },
    {
      "cell_type": "code",
      "execution_count": 26,
      "metadata": {
        "colab": {
          "base_uri": "https://localhost:8080/",
          "height": 507,
          "referenced_widgets": [
            "3e26de66add040348917adbeabbe8f71",
            "9f5ad87bc50e4840a16002429755d131",
            "9724d54686554d94b9957b5da0087e64",
            "bd16ab7fd34d46ccb48751ecb3417e47",
            "9beef804d1ff47e1af5732b37b88e7cf",
            "d2e8fa6b5872446d96201b5cedb615ab",
            "5b25820ecde34cc88baf2269faa18fac"
          ]
        },
        "id": "MR0j2BKw87kN",
        "outputId": "259e3e7f-454c-4a19-dbfb-a122d6de487b"
      },
      "outputs": [
        {
          "output_type": "display_data",
          "data": {
            "text/plain": [
              "interactive(children=(Dropdown(description='_df', options=('a', 'df'), value='a'), Output()), _dom_classes=('w…"
            ],
            "application/vnd.jupyter.widget-view+json": {
              "version_major": 2,
              "version_minor": 0,
              "model_id": "3e26de66add040348917adbeabbe8f71"
            }
          },
          "metadata": {}
        }
      ],
      "source": [
        "@interact(_df=[\"a\", \"df\"])\n",
        "def f(_df):\n",
        "    return stats({\"a\":a, \"df\":df}[_df], \"C\")"
      ]
    },
    {
      "cell_type": "code",
      "execution_count": 27,
      "metadata": {
        "id": "YJHg3bsdqRaL"
      },
      "outputs": [],
      "source": [
        "model_name = \"cointegrated/rubert-tiny\""
      ]
    },
    {
      "cell_type": "code",
      "execution_count": 28,
      "metadata": {
        "colab": {
          "base_uri": "https://localhost:8080/",
          "height": 213,
          "referenced_widgets": [
            "61bb6ceb2dac46159fa55a319a686c2c",
            "b3a6a7fafc234bfdbd52b267151d0e53",
            "69ba932075e74a0baae5bd09017c122f",
            "912851dcd219459e9e4229358c9fd49e",
            "83a7daa29c0a4bc48ee9d3d862b294a0",
            "45ed7635c1a84d1fb2c370768e1b9214",
            "f4cabb4acc344ce394f892ba66f8acde",
            "2cae3f0c724249d6a868d9807759f692",
            "79fbf188ef834226be328af07c72a904",
            "09899e2c62ce4b36bedb53a4f9aa4c5b",
            "91cf744990504ae09ac7d43e4f93a738",
            "73a0996e67684e7bbeda2e1aa41149fb",
            "c647d01f90d649d183a23b477b6c6864",
            "f1fc36dfac304064896938d9509c56f8",
            "1cb3b861b0a049eaa4a8b5e0dac8d5fc",
            "0598d86ea658486b88c88166a004dd03",
            "34364707325a47d7971fa13115cf3005",
            "506eac012f854036ace1ffe4e061c183",
            "795f4634c6804fe5a598be771a5b35a8",
            "9ed26c74e32f4b10be83da2efa5588b1",
            "dc4f4a411ffa4e6d83d9b968ff2a8bd4",
            "81aae33e56094da181d7823c2553732d",
            "4f3a329eb0ce4cb4afc600e6ba69397f",
            "c1b2e2f738214007b37f986895ce2283",
            "ee9adb4988e54ed2b1229a5a81ea4113",
            "0b040630c2094691baaf531fba050c61",
            "c5025da5d217491b8cbc0db7a32dc735",
            "97137c7586e545f1a5d0187b1d287239",
            "5be1a9548a15498ca431ba5292981e16",
            "970f54b7288d49148a1d8cdd530924b0",
            "c4ea4f482de647b79b8bbfb5ae81896f",
            "59ae1843ed214cbe81c9357829ba8ff7",
            "eaa6529393444618a146906379fcd75b",
            "3a0769df1a9f4f7085a8f2a9abe9c13c",
            "7529b38c17ef49f1a83267172439481f",
            "b47eacc714184c3699adbd63c83000de",
            "9f31c41261b9439bb02323b3bbba9948",
            "8efa1d0c06184616ab9cbcd367f7c55f",
            "1f931800003a4aa3b76e7b036f9bb9e6",
            "f8de98a17f6d409e95d8958d9ed94102",
            "ac9260949e4a4acca19a9ae7cc8bd8bd",
            "d73475314bbb45f78fc6aa5c8a35f263",
            "80e87aaf827c45d1a4690b6138eb980f",
            "33cd963ef4e74201b5c817bff9b2a777",
            "49ebe9d9c30e4a79817b2b075b83009f",
            "892e073ae2264d579102b1de620e02a3",
            "50672d457751450aa4d078a53270079b",
            "ceab83d9683843aaba0789182851a615",
            "49a6cf62408a4c718b0faf384152e9ce",
            "56c572dd0c1d45029f688ec05776e9d9",
            "4185f96c68e34771a661638effcc7456",
            "573bc4fdef2f4dda8a469f26c722809d",
            "d3df63f07a204b1b96cacdebb9b49c1f",
            "9ae0c36d8f304d8497717edf9b7ed4b4",
            "2a623fb3a70a447ead2fa67509520e29"
          ]
        },
        "id": "DoAVEs96A7vQ",
        "outputId": "1e0ea497-7df3-4212-f041-08300395a8ce"
      },
      "outputs": [
        {
          "output_type": "display_data",
          "data": {
            "text/plain": [
              "Downloading tokenizer_config.json:   0%|          | 0.00/341 [00:00<?, ?B/s]"
            ],
            "application/vnd.jupyter.widget-view+json": {
              "version_major": 2,
              "version_minor": 0,
              "model_id": "61bb6ceb2dac46159fa55a319a686c2c"
            }
          },
          "metadata": {}
        },
        {
          "output_type": "display_data",
          "data": {
            "text/plain": [
              "Downloading config.json:   0%|          | 0.00/632 [00:00<?, ?B/s]"
            ],
            "application/vnd.jupyter.widget-view+json": {
              "version_major": 2,
              "version_minor": 0,
              "model_id": "73a0996e67684e7bbeda2e1aa41149fb"
            }
          },
          "metadata": {}
        },
        {
          "output_type": "display_data",
          "data": {
            "text/plain": [
              "Downloading vocab.txt:   0%|          | 0.00/235k [00:00<?, ?B/s]"
            ],
            "application/vnd.jupyter.widget-view+json": {
              "version_major": 2,
              "version_minor": 0,
              "model_id": "4f3a329eb0ce4cb4afc600e6ba69397f"
            }
          },
          "metadata": {}
        },
        {
          "output_type": "display_data",
          "data": {
            "text/plain": [
              "Downloading tokenizer.json:   0%|          | 0.00/457k [00:00<?, ?B/s]"
            ],
            "application/vnd.jupyter.widget-view+json": {
              "version_major": 2,
              "version_minor": 0,
              "model_id": "3a0769df1a9f4f7085a8f2a9abe9c13c"
            }
          },
          "metadata": {}
        },
        {
          "output_type": "display_data",
          "data": {
            "text/plain": [
              "Downloading special_tokens_map.json:   0%|          | 0.00/112 [00:00<?, ?B/s]"
            ],
            "application/vnd.jupyter.widget-view+json": {
              "version_major": 2,
              "version_minor": 0,
              "model_id": "49ebe9d9c30e4a79817b2b075b83009f"
            }
          },
          "metadata": {}
        },
        {
          "output_type": "execute_result",
          "data": {
            "text/plain": [
              "PreTrainedTokenizerFast(name_or_path='cointegrated/rubert-tiny', vocab_size=29564, model_max_len=512, is_fast=True, padding_side='right', truncation_side='right', special_tokens={'unk_token': '[UNK]', 'sep_token': '[SEP]', 'pad_token': '[PAD]', 'cls_token': '[CLS]', 'mask_token': '[MASK]'})"
            ]
          },
          "metadata": {},
          "execution_count": 28
        }
      ],
      "source": [
        "tokenizer = AutoTokenizer.from_pretrained(model_name)\n",
        "tokenizer"
      ]
    },
    {
      "cell_type": "code",
      "execution_count": 29,
      "metadata": {
        "id": "r0gRHqytIXfl",
        "colab": {
          "base_uri": "https://localhost:8080/",
          "height": 49,
          "referenced_widgets": [
            "8c6f68c1a745492ab374a0a0f1650330",
            "e48d491e797c44a08c91b6e4d0c66c0b",
            "cce118a8a0c74a7da9719936adb57464",
            "b4664f4d27fc49f9b049a30bd5f816f2",
            "f706f567561148c3b9d76784524a1be4",
            "8d9c89e0b67b4c6cb278afa38607ff99",
            "800a7cdc79c845afa2c3ac2b908c8f45",
            "0e5789a4c29644c4a62ebcc989921457",
            "129c360f9bde42c0a34e871f16cca496",
            "d1b3cab4d01443228941b702df52d8af",
            "bea768599f024e058bbf372a46221ea5"
          ]
        },
        "outputId": "33354316-046a-4f4c-c073-4cc62b8155c2"
      },
      "outputs": [
        {
          "output_type": "display_data",
          "data": {
            "text/plain": [
              "  0%|          | 0/8 [00:00<?, ?ba/s]"
            ],
            "application/vnd.jupyter.widget-view+json": {
              "version_major": 2,
              "version_minor": 0,
              "model_id": "8c6f68c1a745492ab374a0a0f1650330"
            }
          },
          "metadata": {}
        }
      ],
      "source": [
        "categories = list(a.C.unique())\n",
        "\n",
        "str2int = {s: i for i, s in enumerate(categories)}\n",
        "int2str = {i: s for i, s in enumerate(categories)}\n",
        "\n",
        "dataset = Dataset.from_pandas(a.drop(\"product_id\", axis=1).rename(\n",
        "    columns={\"D\": \"text\", \"C\": \"label\"\n",
        "}), preserve_index=False)\n",
        "\n",
        "tokenizer = AutoTokenizer.from_pretrained(model_name)\n",
        "\n",
        "def tokenize_function(batch):\n",
        "    tokenized_batch = tokenizer(batch[\"text\"], padding=\"max_length\", truncation=True)\n",
        "    tokenized_batch[\"label\"] = [str2int[label] for label in batch[\"label\"]]\n",
        "    return tokenized_batch\n",
        "\n",
        "tokenized_datasets = dataset.map(tokenize_function, batched=True)"
      ]
    },
    {
      "cell_type": "code",
      "execution_count": 30,
      "metadata": {
        "id": "YB_vefYCt7AA"
      },
      "outputs": [],
      "source": [
        "train_test = tokenized_datasets.train_test_split(test_size=0.1)\n",
        "test_valid = train_test[\"test\"].train_test_split(test_size=0.5)\n",
        "train, test, valid = train_test[\"train\"], test_valid[\"train\"], test_valid[\"test\"]"
      ]
    },
    {
      "cell_type": "code",
      "source": [
        "@interact(_df=[\"all\", \"test\"])\n",
        "def f(_df):\n",
        "    return stats({\n",
        "        \"all\":tokenized_datasets.data.to_pandas(), \n",
        "        \"test\":test.data.to_pandas()\n",
        "    }[_df], \"label\")"
      ],
      "metadata": {
        "colab": {
          "base_uri": "https://localhost:8080/",
          "height": 314,
          "referenced_widgets": [
            "606dbc87138949c898e46f79bf7db141",
            "46012812f83b4fcb9d6ce4568eba9f27",
            "76c61241ede241f7ac1ea40801f2f414",
            "bc08e4835a49456f8e222f51f036d1d5",
            "1c5f784edb124364b0e88917a88197f6",
            "b2291094bc544e54b8abb456a5ca08ba",
            "246c930f009b47d29144cfacfc0d0c4a"
          ]
        },
        "id": "41TKeXnu8ucO",
        "outputId": "d6fbc8b1-8782-43e0-f707-248e4aa15938"
      },
      "execution_count": 31,
      "outputs": [
        {
          "output_type": "display_data",
          "data": {
            "text/plain": [
              "interactive(children=(Dropdown(description='_df', options=('all', 'test'), value='all'), Output()), _dom_class…"
            ],
            "application/vnd.jupyter.widget-view+json": {
              "version_major": 2,
              "version_minor": 0,
              "model_id": "606dbc87138949c898e46f79bf7db141"
            }
          },
          "metadata": {}
        }
      ]
    },
    {
      "cell_type": "code",
      "source": [
        "for i, name in int2str.items():\n",
        "    print(i, name, a[a.C == name].size)"
      ],
      "metadata": {
        "colab": {
          "base_uri": "https://localhost:8080/"
        },
        "id": "M0muRtERyoVE",
        "outputId": "f16f4c89-8275-4f94-c4a3-3b301912fcc2"
      },
      "execution_count": 32,
      "outputs": [
        {
          "output_type": "stream",
          "name": "stdout",
          "text": [
            "0 Сигареты 4920\n",
            "1 Шоколад и кондитерские изделия 1614\n",
            "2 Водка 1425\n",
            "3 Вино 5352\n",
            "4 Пиво 1575\n",
            "5 Виски 876\n",
            "6 ЭСНТ и никотиносодежащие продукты 330\n",
            "7 Изделия хлебобулочные 909\n",
            "8 Чипсы, сухари, снеки 258\n",
            "9 Все остальное 1263\n",
            "10 Коньяк 801\n",
            "11 Бренди 114\n",
            "12 Мясные изделия 360\n",
            "13 Вода питьевая 561\n",
            "14 Соусы 63\n",
            "15 Соки, Нектары 240\n",
            "16 Молоко и молочная продукция 531\n",
            "17 Рыба вяленая, соленая и несоленая 234\n",
            "18 Орехи 108\n",
            "19 Мороженое 156\n",
            "20 Семечки 51\n",
            "21 Овощи свежие 36\n",
            "22 Фрукты свежие 66\n",
            "23 Чай и кофе 3\n"
          ]
        }
      ]
    },
    {
      "cell_type": "markdown",
      "metadata": {
        "id": "UBemXe4MSat9"
      },
      "source": [
        "## Обучение"
      ]
    },
    {
      "cell_type": "code",
      "execution_count": 33,
      "metadata": {
        "colab": {
          "base_uri": "https://localhost:8080/",
          "height": 158,
          "referenced_widgets": [
            "21b7327c14144a7382d85d7bb8c92288",
            "d00e68b5d5c14f33a59b8e86c26ae3b0",
            "345a5a36a1b14af082cedcc4fc765653",
            "43d0afd07bee4c9581ac1ffd927f98ed",
            "0ded7810810b4a32b76ef5ce15b5e721",
            "aba00a9c38734bf781b3e76290c2fe8a",
            "8249c4c53c4a46d5ace1a3ae5ea2e98d",
            "07a9acb7fa0e47b3802f0295974c686a",
            "a83b2feed6404eee98ed14cad43a67d5",
            "5860650bf02549f99bb06de9051cab68",
            "e4a61485e9d9452b89619a0139c20ca4"
          ]
        },
        "id": "i8kvYZk3jEP0",
        "outputId": "9224e1e5-9cdd-40bc-da2d-3ed670522245"
      },
      "outputs": [
        {
          "output_type": "display_data",
          "data": {
            "text/plain": [
              "Downloading pytorch_model.bin:   0%|          | 0.00/45.5M [00:00<?, ?B/s]"
            ],
            "application/vnd.jupyter.widget-view+json": {
              "version_major": 2,
              "version_minor": 0,
              "model_id": "21b7327c14144a7382d85d7bb8c92288"
            }
          },
          "metadata": {}
        },
        {
          "output_type": "stream",
          "name": "stderr",
          "text": [
            "Some weights of the model checkpoint at cointegrated/rubert-tiny were not used when initializing BertForSequenceClassification: ['cls.predictions.transform.dense.weight', 'cls.predictions.bias', 'cls.predictions.decoder.weight', 'cls.predictions.transform.LayerNorm.bias', 'cls.predictions.transform.dense.bias', 'cls.predictions.transform.LayerNorm.weight', 'cls.seq_relationship.bias', 'cls.predictions.decoder.bias', 'cls.seq_relationship.weight']\n",
            "- This IS expected if you are initializing BertForSequenceClassification from the checkpoint of a model trained on another task or with another architecture (e.g. initializing a BertForSequenceClassification model from a BertForPreTraining model).\n",
            "- This IS NOT expected if you are initializing BertForSequenceClassification from the checkpoint of a model that you expect to be exactly identical (initializing a BertForSequenceClassification model from a BertForSequenceClassification model).\n",
            "Some weights of BertForSequenceClassification were not initialized from the model checkpoint at cointegrated/rubert-tiny and are newly initialized: ['classifier.weight', 'classifier.bias']\n",
            "You should probably TRAIN this model on a down-stream task to be able to use it for predictions and inference.\n"
          ]
        }
      ],
      "source": [
        "model = AutoModelForSequenceClassification.from_pretrained(model_name, num_labels=len(categories))"
      ]
    },
    {
      "cell_type": "code",
      "execution_count": 34,
      "metadata": {
        "id": "CqOWGALHjj5b",
        "colab": {
          "base_uri": "https://localhost:8080/",
          "height": 49,
          "referenced_widgets": [
            "1f4fabeacd5d41cb9127f2c0e40e1652",
            "d40fd5666b474508be5aab90b0fd3dcb",
            "1d7ecce44fd64b7eb30338cad67733dd",
            "6d376869f8174a8ba3302e68fecec358",
            "98ff8612968b4b18a5db2731a1ac46f6",
            "360772a8aaa94c3fa804a1d49f9a0f7a",
            "f2bba40ddbd94cc88b0026b76bf1f4a2",
            "7f3940018f8b41749bc8efe717ed11fc",
            "463c6d67be954e458e7a47386c0e5b33",
            "d4c6df4dca4e408580fa081e611520fb",
            "6e719577ec0648c399c020bd9e0f77ee"
          ]
        },
        "outputId": "3eb2e154-0775-431d-8397-627d71db8ebe"
      },
      "outputs": [
        {
          "output_type": "display_data",
          "data": {
            "text/plain": [
              "Downloading builder script:   0%|          | 0.00/2.32k [00:00<?, ?B/s]"
            ],
            "application/vnd.jupyter.widget-view+json": {
              "version_major": 2,
              "version_minor": 0,
              "model_id": "1f4fabeacd5d41cb9127f2c0e40e1652"
            }
          },
          "metadata": {}
        }
      ],
      "source": [
        "training_args = TrainingArguments(\n",
        "    output_dir=\"test_trainer\", \n",
        "    evaluation_strategy=\"epoch\",\n",
        "    num_train_epochs=3,\n",
        "    logging_steps=len(train) // (5 * 8) \n",
        ")\n",
        "f1 = load_metric(\"f1\")"
      ]
    },
    {
      "cell_type": "code",
      "execution_count": 35,
      "metadata": {
        "id": "Eov2YVoXj9Gs"
      },
      "outputs": [],
      "source": [
        "def compute_metrics(eval_pred):\n",
        "    logits, labels = eval_pred\n",
        "    predictions = np.argmax(logits, axis=-1)\n",
        "    f_micro = f1.compute(predictions=predictions, references=labels, average='micro')\n",
        "    f_macro = f1.compute(predictions=predictions, references=labels, average='macro')\n",
        "    f_weighted = f1.compute(predictions=predictions, references=labels, average='weighted')\n",
        "    f_each = f1.compute(predictions=predictions, references=labels, average=None)\n",
        "    return {\n",
        "        \"accuracy | f1_micro\": f_micro[\"f1\"],\n",
        "        \"f1_macro\": f_macro[\"f1\"],\n",
        "        \"f1_weighted\": f_weighted[\"f1\"],\n",
        "        \"f1_each\": [f\"{int2str[i]}: {f_i:.2f}\" for i, f_i in enumerate(f_each[\"f1\"])]\n",
        "    }"
      ]
    },
    {
      "cell_type": "code",
      "source": [
        "class PrinterCallback(TrainerCallback):\n",
        "    training_loss = []\n",
        "    epoch = []\n",
        "    validation_loss = []\n",
        "    eval_f1_macro = []\n",
        "    eval_f1_weighted = []\n",
        "    #def on_epoch_end(self, args, state, control, **kwargs):\n",
        "    #    control.should_log = True\n",
        "    def on_log(self, args, state, control, logs=None, **kwargs):\n",
        "        #_ = logs.pop(\"total_flos\", None)\n",
        "        #if state.is_local_process_zero:\n",
        "        #    print(logs)\n",
        "        print(logs)\n",
        "        if \"loss\" in logs:\n",
        "            self.training_loss.append(logs[\"loss\"])\n",
        "            self.epoch.append(logs[\"epoch\"])\n",
        "        if \"eval_loss\" in logs:\n",
        "            self.validation_loss.append(logs[\"eval_loss\"])\n",
        "            self.eval_f1_macro.append(logs[\"eval_f1_macro\"])\n",
        "            self.eval_f1_weighted.append(logs[\"eval_f1_weighted\"])"
      ],
      "metadata": {
        "id": "tRA1rjR7PkKc"
      },
      "execution_count": 36,
      "outputs": []
    },
    {
      "cell_type": "code",
      "execution_count": 37,
      "metadata": {
        "id": "TwGvUwtOkg2H"
      },
      "outputs": [],
      "source": [
        "trainer = Trainer(\n",
        "    model=model,\n",
        "    args=training_args,\n",
        "    train_dataset=train,\n",
        "    eval_dataset=valid,\n",
        "    compute_metrics=compute_metrics,\n",
        "    callbacks=[PrinterCallback]\n",
        ")"
      ]
    },
    {
      "cell_type": "code",
      "source": [
        "training_args"
      ],
      "metadata": {
        "colab": {
          "base_uri": "https://localhost:8080/"
        },
        "id": "GiGbr01MY_ty",
        "outputId": "2a7335be-4f3a-460d-9b3b-7b8daad8a2eb"
      },
      "execution_count": 38,
      "outputs": [
        {
          "output_type": "execute_result",
          "data": {
            "text/plain": [
              "TrainingArguments(\n",
              "_n_gpu=1,\n",
              "adafactor=False,\n",
              "adam_beta1=0.9,\n",
              "adam_beta2=0.999,\n",
              "adam_epsilon=1e-08,\n",
              "auto_find_batch_size=False,\n",
              "bf16=False,\n",
              "bf16_full_eval=False,\n",
              "data_seed=None,\n",
              "dataloader_drop_last=False,\n",
              "dataloader_num_workers=0,\n",
              "dataloader_pin_memory=True,\n",
              "ddp_bucket_cap_mb=None,\n",
              "ddp_find_unused_parameters=None,\n",
              "debug=[],\n",
              "deepspeed=None,\n",
              "disable_tqdm=False,\n",
              "do_eval=True,\n",
              "do_predict=False,\n",
              "do_train=False,\n",
              "eval_accumulation_steps=None,\n",
              "eval_delay=0,\n",
              "eval_steps=None,\n",
              "evaluation_strategy=epoch,\n",
              "fp16=False,\n",
              "fp16_backend=auto,\n",
              "fp16_full_eval=False,\n",
              "fp16_opt_level=O1,\n",
              "fsdp=[],\n",
              "fsdp_min_num_params=0,\n",
              "fsdp_transformer_layer_cls_to_wrap=None,\n",
              "full_determinism=False,\n",
              "gradient_accumulation_steps=1,\n",
              "gradient_checkpointing=False,\n",
              "greater_is_better=None,\n",
              "group_by_length=False,\n",
              "half_precision_backend=auto,\n",
              "hub_model_id=None,\n",
              "hub_private_repo=False,\n",
              "hub_strategy=every_save,\n",
              "hub_token=<HUB_TOKEN>,\n",
              "ignore_data_skip=False,\n",
              "include_inputs_for_metrics=False,\n",
              "jit_mode_eval=False,\n",
              "label_names=None,\n",
              "label_smoothing_factor=0.0,\n",
              "learning_rate=5e-05,\n",
              "length_column_name=length,\n",
              "load_best_model_at_end=False,\n",
              "local_rank=-1,\n",
              "log_level=-1,\n",
              "log_level_replica=-1,\n",
              "log_on_each_node=True,\n",
              "logging_dir=test_trainer/runs/Sep06_10-36-52_4dd98453293c,\n",
              "logging_first_step=False,\n",
              "logging_nan_inf_filter=True,\n",
              "logging_steps=163,\n",
              "logging_strategy=steps,\n",
              "lr_scheduler_type=linear,\n",
              "max_grad_norm=1.0,\n",
              "max_steps=-1,\n",
              "metric_for_best_model=None,\n",
              "mp_parameters=,\n",
              "no_cuda=False,\n",
              "num_train_epochs=3,\n",
              "optim=adamw_hf,\n",
              "output_dir=test_trainer,\n",
              "overwrite_output_dir=False,\n",
              "past_index=-1,\n",
              "per_device_eval_batch_size=8,\n",
              "per_device_train_batch_size=8,\n",
              "prediction_loss_only=False,\n",
              "push_to_hub=False,\n",
              "push_to_hub_model_id=None,\n",
              "push_to_hub_organization=None,\n",
              "push_to_hub_token=<PUSH_TO_HUB_TOKEN>,\n",
              "ray_scope=last,\n",
              "remove_unused_columns=True,\n",
              "report_to=['tensorboard'],\n",
              "resume_from_checkpoint=None,\n",
              "run_name=test_trainer,\n",
              "save_on_each_node=False,\n",
              "save_steps=500,\n",
              "save_strategy=steps,\n",
              "save_total_limit=None,\n",
              "seed=42,\n",
              "sharded_ddp=[],\n",
              "skip_memory_metrics=True,\n",
              "tf32=None,\n",
              "torchdynamo=None,\n",
              "tpu_metrics_debug=False,\n",
              "tpu_num_cores=None,\n",
              "use_ipex=False,\n",
              "use_legacy_prediction_loop=False,\n",
              "warmup_ratio=0.0,\n",
              "warmup_steps=0,\n",
              "weight_decay=0.0,\n",
              "xpu_backend=None,\n",
              ")"
            ]
          },
          "metadata": {},
          "execution_count": 38
        }
      ]
    },
    {
      "cell_type": "code",
      "source": [
        "model.num_parameters()"
      ],
      "metadata": {
        "colab": {
          "base_uri": "https://localhost:8080/"
        },
        "id": "kq5PipBCYjsQ",
        "outputId": "746d9984-d3e6-46f8-e1e4-f47a9d329d70"
      },
      "execution_count": 39,
      "outputs": [
        {
          "output_type": "execute_result",
          "data": {
            "text/plain": [
              "11791680"
            ]
          },
          "metadata": {},
          "execution_count": 39
        }
      ]
    },
    {
      "cell_type": "code",
      "execution_count": 40,
      "metadata": {
        "colab": {
          "base_uri": "https://localhost:8080/",
          "height": 1000
        },
        "id": "rjxbvi8VJNce",
        "outputId": "a6a15d0a-e50e-4a95-b017-f18574f1b88a"
      },
      "outputs": [
        {
          "output_type": "stream",
          "name": "stderr",
          "text": [
            "The following columns in the training set don't have a corresponding argument in `BertForSequenceClassification.forward` and have been ignored: text. If text are not expected by `BertForSequenceClassification.forward`,  you can safely ignore this message.\n",
            "/usr/local/lib/python3.7/dist-packages/transformers/optimization.py:310: FutureWarning: This implementation of AdamW is deprecated and will be removed in a future version. Use the PyTorch implementation torch.optim.AdamW instead, or set `no_deprecation_warning=True` to disable this warning\n",
            "  FutureWarning,\n",
            "***** Running training *****\n",
            "  Num examples = 6553\n",
            "  Num Epochs = 3\n",
            "  Instantaneous batch size per device = 8\n",
            "  Total train batch size (w. parallel, distributed & accumulation) = 8\n",
            "  Gradient Accumulation steps = 1\n",
            "  Total optimization steps = 2460\n"
          ]
        },
        {
          "output_type": "display_data",
          "data": {
            "text/plain": [
              "<IPython.core.display.HTML object>"
            ],
            "text/html": [
              "\n",
              "    <div>\n",
              "      \n",
              "      <progress value='2460' max='2460' style='width:300px; height:20px; vertical-align: middle;'></progress>\n",
              "      [2460/2460 03:01, Epoch 3/3]\n",
              "    </div>\n",
              "    <table border=\"1\" class=\"dataframe\">\n",
              "  <thead>\n",
              " <tr style=\"text-align: left;\">\n",
              "      <th>Epoch</th>\n",
              "      <th>Training Loss</th>\n",
              "      <th>Validation Loss</th>\n",
              "      <th>Accuracy | f1 Micro</th>\n",
              "      <th>F1 Macro</th>\n",
              "      <th>F1 Weighted</th>\n",
              "      <th>F1 Each</th>\n",
              "    </tr>\n",
              "  </thead>\n",
              "  <tbody>\n",
              "    <tr>\n",
              "      <td>1</td>\n",
              "      <td>0.544000</td>\n",
              "      <td>0.430885</td>\n",
              "      <td>0.912329</td>\n",
              "      <td>0.651245</td>\n",
              "      <td>0.897165</td>\n",
              "      <td>['Сигареты: 0.99', 'Шоколад и кондитерские изделия: 0.94', 'Водка: 1.00', 'Вино: 0.98', 'Пиво: 1.00', 'Виски: 1.00', 'ЭСНТ и никотиносодежащие продукты: 0.25', 'Изделия хлебобулочные: 0.77', 'Чипсы, сухари, снеки: 0.67', 'Все остальное: 0.83', 'Коньяк: 0.86', 'Бренди: 0.00', 'Мясные изделия: 0.40', 'Вода питьевая: 0.86', 'Соусы: 0.00', 'Соки, Нектары: 1.00', 'Молоко и молочная продукция: 0.48', 'Рыба вяленая, соленая и несоленая: 0.00', 'Орехи: 0.00', 'Мороженое: 1.00']</td>\n",
              "    </tr>\n",
              "    <tr>\n",
              "      <td>2</td>\n",
              "      <td>0.279400</td>\n",
              "      <td>0.260432</td>\n",
              "      <td>0.950685</td>\n",
              "      <td>0.776075</td>\n",
              "      <td>0.943778</td>\n",
              "      <td>['Сигареты: 0.99', 'Шоколад и кондитерские изделия: 0.96', 'Водка: 1.00', 'Вино: 0.99', 'Пиво: 0.98', 'Виски: 1.00', 'ЭСНТ и никотиносодежащие продукты: 1.00', 'Изделия хлебобулочные: 0.86', 'Чипсы, сухари, снеки: 0.86', 'Все остальное: 0.88', 'Коньяк: 0.97', 'Бренди: 1.00', 'Мясные изделия: 0.67', 'Вода питьевая: 0.86', 'Соусы: 0.00', 'Соки, Нектары: 1.00', 'Молоко и молочная продукция: 0.70', 'Рыба вяленая, соленая и несоленая: 0.00', 'Орехи: 0.00', 'Мороженое: 0.80']</td>\n",
              "    </tr>\n",
              "    <tr>\n",
              "      <td>3</td>\n",
              "      <td>0.203500</td>\n",
              "      <td>0.222044</td>\n",
              "      <td>0.958904</td>\n",
              "      <td>0.814762</td>\n",
              "      <td>0.954886</td>\n",
              "      <td>['Сигареты: 0.99', 'Шоколад и кондитерские изделия: 0.95', 'Водка: 0.98', 'Вино: 0.99', 'Пиво: 0.98', 'Виски: 0.97', 'ЭСНТ и никотиносодежащие продукты: 0.93', 'Изделия хлебобулочные: 0.91', 'Чипсы, сухари, снеки: 0.86', 'Все остальное: 0.96', 'Коньяк: 1.00', 'Бренди: 1.00', 'Мясные изделия: 0.86', 'Вода питьевая: 0.86', 'Соусы: 0.00', 'Соки, Нектары: 1.00', 'Молоко и молочная продукция: 0.76', 'Рыба вяленая, соленая и несоленая: 0.50', 'Орехи: 0.00', 'Мороженое: 0.80']</td>\n",
              "    </tr>\n",
              "  </tbody>\n",
              "</table><p>"
            ]
          },
          "metadata": {}
        },
        {
          "output_type": "stream",
          "name": "stdout",
          "text": [
            "{'loss': 2.1452, 'learning_rate': 4.66869918699187e-05, 'epoch': 0.2}\n",
            "{'loss': 1.0995, 'learning_rate': 4.33739837398374e-05, 'epoch': 0.4}\n",
            "{'loss': 0.8101, 'learning_rate': 4.00609756097561e-05, 'epoch': 0.6}\n"
          ]
        },
        {
          "output_type": "stream",
          "name": "stderr",
          "text": [
            "Saving model checkpoint to test_trainer/checkpoint-500\n",
            "Configuration saved in test_trainer/checkpoint-500/config.json\n",
            "Model weights saved in test_trainer/checkpoint-500/pytorch_model.bin\n"
          ]
        },
        {
          "output_type": "stream",
          "name": "stdout",
          "text": [
            "{'loss': 0.6522, 'learning_rate': 3.67479674796748e-05, 'epoch': 0.8}\n",
            "{'loss': 0.544, 'learning_rate': 3.34349593495935e-05, 'epoch': 0.99}\n"
          ]
        },
        {
          "output_type": "stream",
          "name": "stderr",
          "text": [
            "The following columns in the evaluation set don't have a corresponding argument in `BertForSequenceClassification.forward` and have been ignored: text. If text are not expected by `BertForSequenceClassification.forward`,  you can safely ignore this message.\n",
            "***** Running Evaluation *****\n",
            "  Num examples = 365\n",
            "  Batch size = 8\n",
            "Trainer is attempting to log a value of \"['Сигареты: 0.99', 'Шоколад и кондитерские изделия: 0.94', 'Водка: 1.00', 'Вино: 0.98', 'Пиво: 1.00', 'Виски: 1.00', 'ЭСНТ и никотиносодежащие продукты: 0.25', 'Изделия хлебобулочные: 0.77', 'Чипсы, сухари, снеки: 0.67', 'Все остальное: 0.83', 'Коньяк: 0.86', 'Бренди: 0.00', 'Мясные изделия: 0.40', 'Вода питьевая: 0.86', 'Соусы: 0.00', 'Соки, Нектары: 1.00', 'Молоко и молочная продукция: 0.48', 'Рыба вяленая, соленая и несоленая: 0.00', 'Орехи: 0.00', 'Мороженое: 1.00']\" of type <class 'list'> for key \"eval/f1_each\" as a scalar. This invocation of Tensorboard's writer.add_scalar() is incorrect so we dropped this attribute.\n"
          ]
        },
        {
          "output_type": "stream",
          "name": "stdout",
          "text": [
            "{'eval_loss': 0.430885374546051, 'eval_accuracy | f1_micro': 0.9123287671232877, 'eval_f1_macro': 0.6512447732341687, 'eval_f1_weighted': 0.8971645025864826, 'eval_f1_each': ['Сигареты: 0.99', 'Шоколад и кондитерские изделия: 0.94', 'Водка: 1.00', 'Вино: 0.98', 'Пиво: 1.00', 'Виски: 1.00', 'ЭСНТ и никотиносодежащие продукты: 0.25', 'Изделия хлебобулочные: 0.77', 'Чипсы, сухари, снеки: 0.67', 'Все остальное: 0.83', 'Коньяк: 0.86', 'Бренди: 0.00', 'Мясные изделия: 0.40', 'Вода питьевая: 0.86', 'Соусы: 0.00', 'Соки, Нектары: 1.00', 'Молоко и молочная продукция: 0.48', 'Рыба вяленая, соленая и несоленая: 0.00', 'Орехи: 0.00', 'Мороженое: 1.00'], 'eval_runtime': 1.2625, 'eval_samples_per_second': 289.105, 'eval_steps_per_second': 36.435, 'epoch': 1.0}\n",
            "{'loss': 0.4162, 'learning_rate': 3.0121951219512197e-05, 'epoch': 1.19}\n"
          ]
        },
        {
          "output_type": "stream",
          "name": "stderr",
          "text": [
            "Saving model checkpoint to test_trainer/checkpoint-1000\n",
            "Configuration saved in test_trainer/checkpoint-1000/config.json\n",
            "Model weights saved in test_trainer/checkpoint-1000/pytorch_model.bin\n"
          ]
        },
        {
          "output_type": "stream",
          "name": "stdout",
          "text": [
            "{'loss': 0.3465, 'learning_rate': 2.6808943089430895e-05, 'epoch': 1.39}\n",
            "{'loss': 0.3166, 'learning_rate': 2.3495934959349593e-05, 'epoch': 1.59}\n",
            "{'loss': 0.3044, 'learning_rate': 2.0182926829268295e-05, 'epoch': 1.79}\n"
          ]
        },
        {
          "output_type": "stream",
          "name": "stderr",
          "text": [
            "Saving model checkpoint to test_trainer/checkpoint-1500\n",
            "Configuration saved in test_trainer/checkpoint-1500/config.json\n",
            "Model weights saved in test_trainer/checkpoint-1500/pytorch_model.bin\n"
          ]
        },
        {
          "output_type": "stream",
          "name": "stdout",
          "text": [
            "{'loss': 0.2794, 'learning_rate': 1.6869918699186994e-05, 'epoch': 1.99}\n"
          ]
        },
        {
          "output_type": "stream",
          "name": "stderr",
          "text": [
            "The following columns in the evaluation set don't have a corresponding argument in `BertForSequenceClassification.forward` and have been ignored: text. If text are not expected by `BertForSequenceClassification.forward`,  you can safely ignore this message.\n",
            "***** Running Evaluation *****\n",
            "  Num examples = 365\n",
            "  Batch size = 8\n",
            "Trainer is attempting to log a value of \"['Сигареты: 0.99', 'Шоколад и кондитерские изделия: 0.96', 'Водка: 1.00', 'Вино: 0.99', 'Пиво: 0.98', 'Виски: 1.00', 'ЭСНТ и никотиносодежащие продукты: 1.00', 'Изделия хлебобулочные: 0.86', 'Чипсы, сухари, снеки: 0.86', 'Все остальное: 0.88', 'Коньяк: 0.97', 'Бренди: 1.00', 'Мясные изделия: 0.67', 'Вода питьевая: 0.86', 'Соусы: 0.00', 'Соки, Нектары: 1.00', 'Молоко и молочная продукция: 0.70', 'Рыба вяленая, соленая и несоленая: 0.00', 'Орехи: 0.00', 'Мороженое: 0.80']\" of type <class 'list'> for key \"eval/f1_each\" as a scalar. This invocation of Tensorboard's writer.add_scalar() is incorrect so we dropped this attribute.\n"
          ]
        },
        {
          "output_type": "stream",
          "name": "stdout",
          "text": [
            "{'eval_loss': 0.2604324221611023, 'eval_accuracy | f1_micro': 0.9506849315068493, 'eval_f1_macro': 0.7760754345113451, 'eval_f1_weighted': 0.9437778064312097, 'eval_f1_each': ['Сигареты: 0.99', 'Шоколад и кондитерские изделия: 0.96', 'Водка: 1.00', 'Вино: 0.99', 'Пиво: 0.98', 'Виски: 1.00', 'ЭСНТ и никотиносодежащие продукты: 1.00', 'Изделия хлебобулочные: 0.86', 'Чипсы, сухари, снеки: 0.86', 'Все остальное: 0.88', 'Коньяк: 0.97', 'Бренди: 1.00', 'Мясные изделия: 0.67', 'Вода питьевая: 0.86', 'Соусы: 0.00', 'Соки, Нектары: 1.00', 'Молоко и молочная продукция: 0.70', 'Рыба вяленая, соленая и несоленая: 0.00', 'Орехи: 0.00', 'Мороженое: 0.80'], 'eval_runtime': 1.2486, 'eval_samples_per_second': 292.324, 'eval_steps_per_second': 36.841, 'epoch': 2.0}\n",
            "{'loss': 0.2513, 'learning_rate': 1.355691056910569e-05, 'epoch': 2.19}\n",
            "{'loss': 0.2265, 'learning_rate': 1.024390243902439e-05, 'epoch': 2.39}\n"
          ]
        },
        {
          "output_type": "stream",
          "name": "stderr",
          "text": [
            "Saving model checkpoint to test_trainer/checkpoint-2000\n",
            "Configuration saved in test_trainer/checkpoint-2000/config.json\n",
            "Model weights saved in test_trainer/checkpoint-2000/pytorch_model.bin\n"
          ]
        },
        {
          "output_type": "stream",
          "name": "stdout",
          "text": [
            "{'loss': 0.2151, 'learning_rate': 6.930894308943089e-06, 'epoch': 2.58}\n",
            "{'loss': 0.1966, 'learning_rate': 3.617886178861789e-06, 'epoch': 2.78}\n",
            "{'loss': 0.2035, 'learning_rate': 3.0487804878048784e-07, 'epoch': 2.98}\n"
          ]
        },
        {
          "output_type": "stream",
          "name": "stderr",
          "text": [
            "The following columns in the evaluation set don't have a corresponding argument in `BertForSequenceClassification.forward` and have been ignored: text. If text are not expected by `BertForSequenceClassification.forward`,  you can safely ignore this message.\n",
            "***** Running Evaluation *****\n",
            "  Num examples = 365\n",
            "  Batch size = 8\n",
            "Trainer is attempting to log a value of \"['Сигареты: 0.99', 'Шоколад и кондитерские изделия: 0.95', 'Водка: 0.98', 'Вино: 0.99', 'Пиво: 0.98', 'Виски: 0.97', 'ЭСНТ и никотиносодежащие продукты: 0.93', 'Изделия хлебобулочные: 0.91', 'Чипсы, сухари, снеки: 0.86', 'Все остальное: 0.96', 'Коньяк: 1.00', 'Бренди: 1.00', 'Мясные изделия: 0.86', 'Вода питьевая: 0.86', 'Соусы: 0.00', 'Соки, Нектары: 1.00', 'Молоко и молочная продукция: 0.76', 'Рыба вяленая, соленая и несоленая: 0.50', 'Орехи: 0.00', 'Мороженое: 0.80']\" of type <class 'list'> for key \"eval/f1_each\" as a scalar. This invocation of Tensorboard's writer.add_scalar() is incorrect so we dropped this attribute.\n"
          ]
        },
        {
          "output_type": "stream",
          "name": "stdout",
          "text": [
            "{'eval_loss': 0.22204355895519257, 'eval_accuracy | f1_micro': 0.958904109589041, 'eval_f1_macro': 0.8147624555583372, 'eval_f1_weighted': 0.9548859567474641, 'eval_f1_each': ['Сигареты: 0.99', 'Шоколад и кондитерские изделия: 0.95', 'Водка: 0.98', 'Вино: 0.99', 'Пиво: 0.98', 'Виски: 0.97', 'ЭСНТ и никотиносодежащие продукты: 0.93', 'Изделия хлебобулочные: 0.91', 'Чипсы, сухари, снеки: 0.86', 'Все остальное: 0.96', 'Коньяк: 1.00', 'Бренди: 1.00', 'Мясные изделия: 0.86', 'Вода питьевая: 0.86', 'Соусы: 0.00', 'Соки, Нектары: 1.00', 'Молоко и молочная продукция: 0.76', 'Рыба вяленая, соленая и несоленая: 0.50', 'Орехи: 0.00', 'Мороженое: 0.80'], 'eval_runtime': 1.2446, 'eval_samples_per_second': 293.266, 'eval_steps_per_second': 36.96, 'epoch': 3.0}\n"
          ]
        },
        {
          "output_type": "stream",
          "name": "stderr",
          "text": [
            "\n",
            "\n",
            "Training completed. Do not forget to share your model on huggingface.co/models =)\n",
            "\n",
            "\n"
          ]
        },
        {
          "output_type": "stream",
          "name": "stdout",
          "text": [
            "{'train_runtime': 184.5741, 'train_samples_per_second': 106.51, 'train_steps_per_second': 13.328, 'total_flos': 145385397338112.0, 'train_loss': 0.5313773334510927, 'epoch': 3.0}\n"
          ]
        },
        {
          "output_type": "execute_result",
          "data": {
            "text/plain": [
              "TrainOutput(global_step=2460, training_loss=0.5313773334510927, metrics={'train_runtime': 184.5741, 'train_samples_per_second': 106.51, 'train_steps_per_second': 13.328, 'total_flos': 145385397338112.0, 'train_loss': 0.5313773334510927, 'epoch': 3.0})"
            ]
          },
          "metadata": {},
          "execution_count": 40
        }
      ],
      "source": [
        "trainer.train()"
      ]
    },
    {
      "cell_type": "code",
      "source": [
        "print(PrinterCallback.training_loss)\n",
        "print(PrinterCallback.epoch)\n",
        "print(PrinterCallback.validation_loss)\n",
        "print(PrinterCallback.eval_f1_macro)\n",
        "print(PrinterCallback.eval_f1_weighted)"
      ],
      "metadata": {
        "colab": {
          "base_uri": "https://localhost:8080/"
        },
        "id": "SrhKdmYSTs-t",
        "outputId": "20dc07f2-9bae-4c70-ca37-3a538d668a67"
      },
      "execution_count": 41,
      "outputs": [
        {
          "output_type": "stream",
          "name": "stdout",
          "text": [
            "[2.1452, 1.0995, 0.8101, 0.6522, 0.544, 0.4162, 0.3465, 0.3166, 0.3044, 0.2794, 0.2513, 0.2265, 0.2151, 0.1966, 0.2035]\n",
            "[0.2, 0.4, 0.6, 0.8, 0.99, 1.19, 1.39, 1.59, 1.79, 1.99, 2.19, 2.39, 2.58, 2.78, 2.98]\n",
            "[0.430885374546051, 0.2604324221611023, 0.22204355895519257]\n",
            "[0.6512447732341687, 0.7760754345113451, 0.8147624555583372]\n",
            "[0.8971645025864826, 0.9437778064312097, 0.9548859567474641]\n"
          ]
        }
      ]
    },
    {
      "cell_type": "code",
      "source": [
        "PrinterCallback.training_loss = [2.1544, 1.1026, 0.854, 0.6714, 0.5444, 0.435, 0.3408, 0.3007, 0.3373, 0.2959, 0.2548, 0.2166, 0.2082, 0.2097, 0.221]\n",
        "PrinterCallback.epoch = [0.2, 0.4, 0.6, 0.8, 0.99, 1.19, 1.39, 1.59, 1.79, 1.99, 2.19, 2.39, 2.58, 2.78, 2.98]\n",
        "PrinterCallback.validation_loss = [0.49788913130760193, 0.29194971919059753, 0.25239741802215576]\n",
        "PrinterCallback.eval_f1_macro = [0.615412908147316, 0.6811301197531535, 0.6892486320652141]\n",
        "PrinterCallback.eval_f1_weighted = [0.8790421056656872, 0.9291513048664121, 0.9337171782329925]"
      ],
      "metadata": {
        "id": "-QUe8IFqDKAc"
      },
      "execution_count": 42,
      "outputs": []
    },
    {
      "cell_type": "code",
      "source": [
        "fig, ax = plt.subplots()\n",
        "plt.xlabel(\"Epoch\", fontsize=14)\n",
        "plt.ylabel(\"Loss\", fontsize=14)\n",
        "ax.plot(PrinterCallback.epoch, PrinterCallback.training_loss, marker='o')\n",
        "ax.plot(range(1, 3+1), PrinterCallback.validation_loss, marker='o')\n",
        "ax.legend([\"train\", \"valid\"])\n",
        "None"
      ],
      "metadata": {
        "colab": {
          "base_uri": "https://localhost:8080/",
          "height": 287
        },
        "id": "I6Yh8lODWoiz",
        "outputId": "65895f2b-c6db-4d6e-b012-f0c090f6ea7c"
      },
      "execution_count": 43,
      "outputs": [
        {
          "output_type": "display_data",
          "data": {
            "text/plain": [
              "<Figure size 432x288 with 1 Axes>"
            ],
            "image/png": "[encoded data removed]"
          },
          "metadata": {
            "needs_background": "light"
          }
        }
      ]
    },
    {
      "cell_type": "code",
      "source": [
        "fig, ax = plt.subplots()\n",
        "plt.xlabel(\"Epoch\", fontsize=14)\n",
        "plt.ylabel(\"F-score\", fontsize=14)\n",
        "ax.plot(range(1, 3+1), PrinterCallback.eval_f1_macro, marker='o')\n",
        "ax.plot(range(1, 3+1), PrinterCallback.eval_f1_weighted, marker='o')\n",
        "ax.legend([\"f-macro\", \"f-weighted\"])\n",
        "None"
      ],
      "metadata": {
        "colab": {
          "base_uri": "https://localhost:8080/",
          "height": 283
        },
        "id": "xbXjIyDAXfbC",
        "outputId": "c6b32a4b-6a07-4c10-c691-8db7c61b980e"
      },
      "execution_count": 44,
      "outputs": [
        {
          "output_type": "display_data",
          "data": {
            "text/plain": [
              "<Figure size 432x288 with 1 Axes>"
            ],
            "image/png": "[encoded data removed]"
          },
          "metadata": {
            "needs_background": "light"
          }
        }
      ]
    },
    {
      "cell_type": "code",
      "source": [
        "categories"
      ],
      "metadata": {
        "colab": {
          "base_uri": "https://localhost:8080/"
        },
        "id": "js08nzhTBKVP",
        "outputId": "0b9872b2-8a4d-4670-96a4-b2940838ba63"
      },
      "execution_count": 45,
      "outputs": [
        {
          "output_type": "execute_result",
          "data": {
            "text/plain": [
              "['Сигареты',\n",
              " 'Шоколад и кондитерские изделия',\n",
              " 'Водка',\n",
              " 'Вино',\n",
              " 'Пиво',\n",
              " 'Виски',\n",
              " 'ЭСНТ и никотиносодежащие продукты',\n",
              " 'Изделия хлебобулочные',\n",
              " 'Чипсы, сухари, снеки',\n",
              " 'Все остальное',\n",
              " 'Коньяк',\n",
              " 'Бренди',\n",
              " 'Мясные изделия',\n",
              " 'Вода питьевая',\n",
              " 'Соусы',\n",
              " 'Соки, Нектары',\n",
              " 'Молоко и молочная продукция',\n",
              " 'Рыба вяленая, соленая и несоленая',\n",
              " 'Орехи',\n",
              " 'Мороженое',\n",
              " 'Семечки',\n",
              " 'Овощи свежие',\n",
              " 'Фрукты свежие',\n",
              " 'Чай и кофе']"
            ]
          },
          "metadata": {},
          "execution_count": 45
        }
      ]
    },
    {
      "cell_type": "code",
      "source": [
        "y_true = test[\"label\"]"
      ],
      "metadata": {
        "id": "osqvaAt5AS6K"
      },
      "execution_count": 46,
      "outputs": []
    },
    {
      "cell_type": "code",
      "source": [
        "pred_output = trainer.predict(test)\n",
        "y_pred = pred_output.predictions.argmax(-1)"
      ],
      "metadata": {
        "colab": {
          "base_uri": "https://localhost:8080/",
          "height": 108
        },
        "id": "91SCTU32poFR",
        "outputId": "9ffaf316-9b27-443a-cb7d-b0255c13b7d3"
      },
      "execution_count": 47,
      "outputs": [
        {
          "output_type": "stream",
          "name": "stderr",
          "text": [
            "The following columns in the test set don't have a corresponding argument in `BertForSequenceClassification.forward` and have been ignored: text. If text are not expected by `BertForSequenceClassification.forward`,  you can safely ignore this message.\n",
            "***** Running Prediction *****\n",
            "  Num examples = 364\n",
            "  Batch size = 8\n"
          ]
        },
        {
          "output_type": "display_data",
          "data": {
            "text/plain": [
              "<IPython.core.display.HTML object>"
            ],
            "text/html": []
          },
          "metadata": {}
        }
      ]
    },
    {
      "cell_type": "code",
      "source": [
        "import seaborn\n",
        "from sklearn.metrics import confusion_matrix"
      ],
      "metadata": {
        "id": "WP199LDBA1XB"
      },
      "execution_count": 48,
      "outputs": []
    },
    {
      "cell_type": "code",
      "source": [
        "def draw_matrix(matrix, labels, mask=None, line=0., cmap=\"inferno\", line_color=\"black\"):\n",
        "    vmax = np.max(matrix)\n",
        "    if vmax < 1:\n",
        "        vmax = 1\n",
        "    plt.figure(figsize=(12, 9))\n",
        "    ax = seaborn.heatmap(\n",
        "        matrix, annot=True, vmin=0, vmax=1, mask=mask, fmt='.5g',\n",
        "        cmap=cmap, linewidths=line, linecolor=line_color, cbar=False\n",
        "    )\n",
        "    ax.set_yticklabels(\n",
        "        labels, fontsize=12, rotation=0, verticalalignment='center'\n",
        "    )\n",
        "    ax.set_xticklabels(\n",
        "        labels, fontsize=12, rotation=90, horizontalalignment='center'\n",
        "    )\n",
        "    plt.show()"
      ],
      "metadata": {
        "id": "EXgDlurGCoDx"
      },
      "execution_count": 49,
      "outputs": []
    },
    {
      "cell_type": "code",
      "source": [
        "def smart_truncate(content, length=15, suffix=\"...\"):\n",
        "    if len(content) <= length:\n",
        "        return content\n",
        "    return ' '.join(content[:length+1].split(' ')[0:-1]) + suffix"
      ],
      "metadata": {
        "id": "d9yPs1t8gWKO"
      },
      "execution_count": 50,
      "outputs": []
    },
    {
      "cell_type": "code",
      "source": [
        "matrix = confusion_matrix(y_true, y_pred, labels=list(int2str.keys()), normalize=\"true\")\n",
        "matrix = np.around(matrix, decimals=2)\n",
        "draw_matrix(matrix, [smart_truncate(c) for c in categories], cmap=\"summer\")"
      ],
      "metadata": {
        "colab": {
          "base_uri": "https://localhost:8080/",
          "height": 634
        },
        "id": "tZv6MkatDO2r",
        "outputId": "9c999e38-4087-4df1-d103-608f40a0ccdd"
      },
      "execution_count": 51,
      "outputs": [
        {
          "output_type": "display_data",
          "data": {
            "text/plain": [
              "<Figure size 864x648 with 1 Axes>"
            ],
            "image/png": "[encoded data removed]"
          },
          "metadata": {
            "needs_background": "light"
          }
        }
      ]
    },
    {
      "cell_type": "code",
      "source": [
        "path_to_saved_models = \"/content/drive/My Drive/diploma\""
      ],
      "metadata": {
        "id": "Pct0TNeOVUrX"
      },
      "execution_count": 52,
      "outputs": []
    },
    {
      "cell_type": "code",
      "execution_count": 53,
      "metadata": {
        "id": "cSHu3bdwyaQh",
        "colab": {
          "base_uri": "https://localhost:8080/"
        },
        "outputId": "f90ef63a-25e6-4153-b1cb-7b87c0d31eef"
      },
      "outputs": [
        {
          "output_type": "stream",
          "name": "stdout",
          "text": [
            "Mounted at /content/drive\n"
          ]
        }
      ],
      "source": [
        "from google.colab import drive\n",
        "drive.mount('/content/drive')"
      ]
    },
    {
      "cell_type": "code",
      "source": [
        "!mkdir \"$path_to_saved_models\""
      ],
      "metadata": {
        "id": "k6ZOy7gUWACr",
        "colab": {
          "base_uri": "https://localhost:8080/"
        },
        "outputId": "28263ad2-ae6c-4551-a3f4-acccc9424b7b"
      },
      "execution_count": 54,
      "outputs": [
        {
          "output_type": "stream",
          "name": "stdout",
          "text": [
            "mkdir: cannot create directory ‘/content/drive/My Drive/diploma’: File exists\n"
          ]
        }
      ]
    },
    {
      "cell_type": "code",
      "source": [
        "from datetime import datetime\n",
        "now = datetime.now().strftime(\"%y-%m-%d_%H:%M:%S\")"
      ],
      "metadata": {
        "id": "TSG_ogKcWL3Q"
      },
      "execution_count": 55,
      "outputs": []
    },
    {
      "cell_type": "code",
      "source": [
        "model_path = f\"{path_to_saved_models}/model_{now}\"\n",
        "model_path"
      ],
      "metadata": {
        "id": "17-1_o85WQXP",
        "colab": {
          "base_uri": "https://localhost:8080/",
          "height": 35
        },
        "outputId": "1d71bd4f-4135-4d08-a217-e0bcbf85d6c6"
      },
      "execution_count": 56,
      "outputs": [
        {
          "output_type": "execute_result",
          "data": {
            "text/plain": [
              "'/content/drive/My Drive/diploma/model_22-09-06_10:41:09'"
            ],
            "application/vnd.google.colaboratory.intrinsic+json": {
              "type": "string"
            }
          },
          "metadata": {},
          "execution_count": 56
        }
      ]
    },
    {
      "cell_type": "code",
      "source": [
        "model.save_pretrained(model_path)"
      ],
      "metadata": {
        "id": "39Y1GhysWdIa",
        "colab": {
          "base_uri": "https://localhost:8080/"
        },
        "outputId": "7c67c8bb-01ae-498c-834e-54d343d6ecfd"
      },
      "execution_count": 57,
      "outputs": [
        {
          "output_type": "stream",
          "name": "stderr",
          "text": [
            "Configuration saved in /content/drive/My Drive/diploma/model_22-09-06_10:41:09/config.json\n",
            "Model weights saved in /content/drive/My Drive/diploma/model_22-09-06_10:41:09/pytorch_model.bin\n"
          ]
        }
      ]
    },
    {
      "cell_type": "code",
      "source": [
        "import os\n",
        "import glob"
      ],
      "metadata": {
        "id": "uH7QwOv0W8JV"
      },
      "execution_count": 58,
      "outputs": []
    },
    {
      "cell_type": "code",
      "source": [
        "def get_last_file(folder):\n",
        "    list_of_files = glob.glob(f\"{folder}/*\")\n",
        "    latest_file = max(list_of_files, key=os.path.getmtime)\n",
        "    return latest_file"
      ],
      "metadata": {
        "id": "IIde4lCHaAk_"
      },
      "execution_count": 59,
      "outputs": []
    },
    {
      "cell_type": "code",
      "source": [
        "last_model_path = get_last_file(path_to_saved_models)\n",
        "last_model_path"
      ],
      "metadata": {
        "id": "QUP6eZ2pXDg3",
        "colab": {
          "base_uri": "https://localhost:8080/",
          "height": 35
        },
        "outputId": "a8a43e58-9758-473a-af0d-99fe4f802764"
      },
      "execution_count": 60,
      "outputs": [
        {
          "output_type": "execute_result",
          "data": {
            "text/plain": [
              "'/content/drive/My Drive/diploma/model_22-09-06_10:41:09'"
            ],
            "application/vnd.google.colaboratory.intrinsic+json": {
              "type": "string"
            }
          },
          "metadata": {},
          "execution_count": 60
        }
      ]
    },
    {
      "cell_type": "code",
      "source": [
        "last_model = AutoModelForSequenceClassification.from_pretrained(last_model_path)"
      ],
      "metadata": {
        "id": "FSP2X9VVXQZx",
        "colab": {
          "base_uri": "https://localhost:8080/"
        },
        "outputId": "942c14d2-ad7f-48b5-d1b6-f931c3d2f1b6"
      },
      "execution_count": 61,
      "outputs": [
        {
          "output_type": "stream",
          "name": "stderr",
          "text": [
            "loading configuration file /content/drive/My Drive/diploma/model_22-09-06_10:41:09/config.json\n",
            "Model config BertConfig {\n",
            "  \"_name_or_path\": \"/content/drive/My Drive/diploma/model_22-09-06_10:41:09\",\n",
            "  \"architectures\": [\n",
            "    \"BertForSequenceClassification\"\n",
            "  ],\n",
            "  \"attention_probs_dropout_prob\": 0.1,\n",
            "  \"classifier_dropout\": null,\n",
            "  \"emb_size\": 312,\n",
            "  \"gradient_checkpointing\": false,\n",
            "  \"hidden_act\": \"gelu\",\n",
            "  \"hidden_dropout_prob\": 0.1,\n",
            "  \"hidden_size\": 312,\n",
            "  \"id2label\": {\n",
            "    \"0\": \"LABEL_0\",\n",
            "    \"1\": \"LABEL_1\",\n",
            "    \"2\": \"LABEL_2\",\n",
            "    \"3\": \"LABEL_3\",\n",
            "    \"4\": \"LABEL_4\",\n",
            "    \"5\": \"LABEL_5\",\n",
            "    \"6\": \"LABEL_6\",\n",
            "    \"7\": \"LABEL_7\",\n",
            "    \"8\": \"LABEL_8\",\n",
            "    \"9\": \"LABEL_9\",\n",
            "    \"10\": \"LABEL_10\",\n",
            "    \"11\": \"LABEL_11\",\n",
            "    \"12\": \"LABEL_12\",\n",
            "    \"13\": \"LABEL_13\",\n",
            "    \"14\": \"LABEL_14\",\n",
            "    \"15\": \"LABEL_15\",\n",
            "    \"16\": \"LABEL_16\",\n",
            "    \"17\": \"LABEL_17\",\n",
            "    \"18\": \"LABEL_18\",\n",
            "    \"19\": \"LABEL_19\",\n",
            "    \"20\": \"LABEL_20\",\n",
            "    \"21\": \"LABEL_21\",\n",
            "    \"22\": \"LABEL_22\",\n",
            "    \"23\": \"LABEL_23\"\n",
            "  },\n",
            "  \"initializer_range\": 0.02,\n",
            "  \"intermediate_size\": 600,\n",
            "  \"label2id\": {\n",
            "    \"LABEL_0\": 0,\n",
            "    \"LABEL_1\": 1,\n",
            "    \"LABEL_10\": 10,\n",
            "    \"LABEL_11\": 11,\n",
            "    \"LABEL_12\": 12,\n",
            "    \"LABEL_13\": 13,\n",
            "    \"LABEL_14\": 14,\n",
            "    \"LABEL_15\": 15,\n",
            "    \"LABEL_16\": 16,\n",
            "    \"LABEL_17\": 17,\n",
            "    \"LABEL_18\": 18,\n",
            "    \"LABEL_19\": 19,\n",
            "    \"LABEL_2\": 2,\n",
            "    \"LABEL_20\": 20,\n",
            "    \"LABEL_21\": 21,\n",
            "    \"LABEL_22\": 22,\n",
            "    \"LABEL_23\": 23,\n",
            "    \"LABEL_3\": 3,\n",
            "    \"LABEL_4\": 4,\n",
            "    \"LABEL_5\": 5,\n",
            "    \"LABEL_6\": 6,\n",
            "    \"LABEL_7\": 7,\n",
            "    \"LABEL_8\": 8,\n",
            "    \"LABEL_9\": 9\n",
            "  },\n",
            "  \"layer_norm_eps\": 1e-12,\n",
            "  \"max_position_embeddings\": 512,\n",
            "  \"model_type\": \"bert\",\n",
            "  \"num_attention_heads\": 12,\n",
            "  \"num_hidden_layers\": 3,\n",
            "  \"pad_token_id\": 0,\n",
            "  \"position_embedding_type\": \"absolute\",\n",
            "  \"problem_type\": \"single_label_classification\",\n",
            "  \"torch_dtype\": \"float32\",\n",
            "  \"transformers_version\": \"4.21.3\",\n",
            "  \"type_vocab_size\": 2,\n",
            "  \"use_cache\": true,\n",
            "  \"vocab_size\": 29564\n",
            "}\n",
            "\n",
            "loading weights file /content/drive/My Drive/diploma/model_22-09-06_10:41:09/pytorch_model.bin\n",
            "All model checkpoint weights were used when initializing BertForSequenceClassification.\n",
            "\n",
            "All the weights of BertForSequenceClassification were initialized from the model checkpoint at /content/drive/My Drive/diploma/model_22-09-06_10:41:09.\n",
            "If your task is similar to the task the model of the checkpoint was trained on, you can already use BertForSequenceClassification for predictions without further training.\n"
          ]
        }
      ]
    },
    {
      "cell_type": "code",
      "source": [
        "test_trainer = Trainer(\n",
        "    model=last_model,\n",
        "    compute_metrics=compute_metrics\n",
        ")"
      ],
      "metadata": {
        "id": "0wVho_zDXmsh",
        "colab": {
          "base_uri": "https://localhost:8080/"
        },
        "outputId": "4de98360-232e-4a4f-bb35-916b1f44d2b1"
      },
      "execution_count": 62,
      "outputs": [
        {
          "output_type": "stream",
          "name": "stderr",
          "text": [
            "No `TrainingArguments` passed, using `output_dir=tmp_trainer`.\n",
            "PyTorch: setting up devices\n",
            "The default value for the training argument `--report_to` will change in v5 (from all installed integrations to none). In v5, you will need to use `--report_to all` to get the same behavior as now. You should start updating your code and make this info disappear :-).\n"
          ]
        }
      ]
    },
    {
      "cell_type": "code",
      "source": [
        "pred_output = test_trainer.predict(test)\n",
        "pred_output"
      ],
      "metadata": {
        "id": "1fAL5nK_XcDL",
        "colab": {
          "base_uri": "https://localhost:8080/",
          "height": 770
        },
        "outputId": "eff6874e-12ca-4aa5-ed97-bac54bc090ab"
      },
      "execution_count": 63,
      "outputs": [
        {
          "output_type": "stream",
          "name": "stderr",
          "text": [
            "The following columns in the test set don't have a corresponding argument in `BertForSequenceClassification.forward` and have been ignored: text. If text are not expected by `BertForSequenceClassification.forward`,  you can safely ignore this message.\n",
            "***** Running Prediction *****\n",
            "  Num examples = 364\n",
            "  Batch size = 8\n"
          ]
        },
        {
          "output_type": "display_data",
          "data": {
            "text/plain": [
              "<IPython.core.display.HTML object>"
            ],
            "text/html": []
          },
          "metadata": {}
        },
        {
          "output_type": "execute_result",
          "data": {
            "text/plain": [
              "PredictionOutput(predictions=array([[-0.286836  , -0.5304966 ,  0.6486581 , ..., -0.50905305,\n",
              "        -0.29685897,  0.16013452],\n",
              "       [-0.5397217 , -0.47637323,  6.6756306 , ..., -0.88355917,\n",
              "        -0.8260769 , -0.81854767],\n",
              "       [ 0.16816866,  6.418761  , -0.98651654, ..., -1.2723348 ,\n",
              "        -0.9899326 , -1.4193034 ],\n",
              "       ...,\n",
              "       [ 8.100003  ,  0.29562736, -0.66504955, ..., -0.5356287 ,\n",
              "        -0.45508528, -0.43943515],\n",
              "       [ 8.100963  ,  0.2989876 , -0.64707804, ..., -0.549004  ,\n",
              "        -0.46956354, -0.4530173 ],\n",
              "       [ 0.8202867 ,  0.4867634 ,  0.52104425, ..., -0.53967243,\n",
              "        -0.6825249 , -0.30348584]], dtype=float32), label_ids=array([ 3,  2,  1,  3,  0,  9,  2,  0,  1,  4,  8,  0,  0,  1,  9,  3,  3,\n",
              "        6,  7,  3,  0, 13,  4,  8,  9, 10,  6,  3,  0,  0,  3, 17,  2,  3,\n",
              "       16,  0,  4,  9,  2,  9,  3,  2,  3,  0,  0, 16,  8,  0, 18,  5, 10,\n",
              "       10, 13,  4,  3,  3,  1,  3,  4,  3,  9,  4, 16,  0,  3,  0,  0,  3,\n",
              "        4,  0,  3,  0, 19, 11,  0,  0,  4,  7,  4,  3,  4,  0,  0,  1,  0,\n",
              "       18,  8, 12,  1, 13,  0,  3,  2,  4,  7,  4,  4,  4, 16,  9,  3, 13,\n",
              "        3, 20,  9, 13, 12,  3,  3,  3,  2, 22,  3, 10,  4,  8,  9,  3,  0,\n",
              "        8,  3,  9,  4,  5,  1,  2, 12,  4,  1,  1, 15,  3,  1,  0,  3,  2,\n",
              "       10,  3, 11,  3,  4,  5,  3,  3,  2,  6,  5,  9,  2,  3,  3, 13, 12,\n",
              "        3,  3,  3,  7,  4,  0, 15,  0, 10,  9,  0,  0,  0,  0, 12, 10, 11,\n",
              "        3,  6,  3,  6, 10,  3,  0,  9,  5,  0,  2,  5,  3, 13,  9,  5,  0,\n",
              "        0,  7,  0,  0,  9,  0,  0, 10,  3,  1, 11,  9,  5,  0,  4,  9,  0,\n",
              "        1,  1,  9,  0,  3,  1, 19,  0,  0,  9,  3,  0, 16,  0,  9,  0,  4,\n",
              "        5, 10,  0,  1,  7, 10,  3,  0,  3, 13,  4,  0,  2,  4,  0,  0,  0,\n",
              "        0,  3, 10,  2,  2,  3,  2,  9,  2,  3,  3,  1,  7,  7,  1,  8,  8,\n",
              "        9,  1,  0,  0,  0,  0, 11,  3,  0,  1,  5,  0,  0,  9,  3, 16,  0,\n",
              "       19, 10,  3, 21,  0,  2,  6,  1,  3,  0,  5,  0,  8,  9,  2,  3,  3,\n",
              "        0,  2,  3,  9,  0,  0,  3,  1,  7,  0, 10,  0, 20,  3,  3, 12,  0,\n",
              "        0,  3,  3,  0,  0, 11,  3,  8,  4,  3,  3,  8,  9,  6,  4,  0, 10,\n",
              "        2,  3, 17,  0,  1,  5,  2,  1,  4,  3,  3,  0,  0, 19,  2,  3,  2,\n",
              "        0,  3,  9,  9,  3,  4,  0,  1,  6,  1,  0,  3, 12,  0, 11, 22,  3,\n",
              "        3,  3,  4, 17,  0,  0, 10]), metrics={'test_loss': 0.3109031021595001, 'test_accuracy | f1_micro': 0.9285714285714286, 'test_f1_macro': 0.7140238417453255, 'test_f1_weighted': 0.9194126378046567, 'test_f1_each': ['Сигареты: 0.99', 'Шоколад и кондитерские изделия: 0.92', 'Водка: 0.96', 'Вино: 1.00', 'Пиво: 0.98', 'Виски: 0.88', 'ЭСНТ и никотиносодежащие продукты: 0.93', 'Изделия хлебобулочные: 0.86', 'Чипсы, сухари, снеки: 0.78', 'Все остальное: 0.85', 'Коньяк: 0.97', 'Бренди: 0.73', 'Мясные изделия: 0.46', 'Вода питьевая: 1.00', 'Соусы: 1.00', 'Соки, Нектары: 0.92', 'Молоко и молочная продукция: 0.80', 'Рыба вяленая, соленая и несоленая: 0.00', 'Орехи: 0.67', 'Мороженое: 0.00', 'Семечки: 0.00', 'Овощи свежие: 0.00'], 'test_runtime': 1.367, 'test_samples_per_second': 266.271, 'test_steps_per_second': 33.65})"
            ]
          },
          "metadata": {},
          "execution_count": 63
        }
      ]
    },
    {
      "cell_type": "code",
      "source": [
        "def predict(model, item):\n",
        "    output = model(\n",
        "        input_ids=LongTensor(item[\"input_ids\"]).unsqueeze(0).to(\"cuda\"), \n",
        "        attention_mask=LongTensor(item[\"attention_mask\"]).unsqueeze(0).to(\"cuda\")\n",
        "    )\n",
        "    logits = output[\"logits\"]\n",
        "    label = logits[0].softmax(0).argmax().item()\n",
        "    return int2str[label]"
      ],
      "metadata": {
        "id": "Gh5SobRW7FuZ"
      },
      "execution_count": 64,
      "outputs": []
    },
    {
      "cell_type": "code",
      "source": [
        "example = test[2]\n",
        "print(example[\"text\"])\n",
        "print(predict(last_model, example))"
      ],
      "metadata": {
        "id": "dgcpJGiXqJKE",
        "colab": {
          "base_uri": "https://localhost:8080/"
        },
        "outputId": "6169aeec-011c-41a1-811c-a78b44ff7033"
      },
      "execution_count": 65,
      "outputs": [
        {
          "output_type": "stream",
          "name": "stdout",
          "text": [
            "Печенье Бантики Клубника со сливками\n",
            "Шоколад и кондитерские изделия\n"
          ]
        }
      ]
    },
    {
      "cell_type": "code",
      "source": [
        "@interact(Текст=\"\")\n",
        "def custom(Текст):\n",
        "    text_dict = tokenizer(Текст)\n",
        "    return predict(last_model, text_dict)"
      ],
      "metadata": {
        "id": "11xthTihEZda",
        "colab": {
          "base_uri": "https://localhost:8080/",
          "height": 68,
          "referenced_widgets": [
            "a0a46819f0a0461b967be901c4f75526",
            "33fa34d7ae7046ada0f81875275d2dd6",
            "4526757e19e14dfa86aeae8ad7e675e2",
            "98e615a52b1b405faf46969d83335b8d",
            "97ddd20b6d7142118f4ee7ab5a1f4f79",
            "306de7a8be8f4e05937088f2795d09a9",
            "1854e1b60f854704bf1355d37dcb9e5d"
          ]
        },
        "outputId": "5ac16d0c-04b1-40fe-b695-1fb6498bfe34"
      },
      "execution_count": 66,
      "outputs": [
        {
          "output_type": "display_data",
          "data": {
            "text/plain": [
              "interactive(children=(Text(value='', description='Текст'), Output()), _dom_classes=('widget-interact',))"
            ],
            "application/vnd.jupyter.widget-view+json": {
              "version_major": 2,
              "version_minor": 0,
              "model_id": "a0a46819f0a0461b967be901c4f75526"
            }
          },
          "metadata": {}
        }
      ]
    }
  ]
}